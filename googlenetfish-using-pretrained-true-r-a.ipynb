{
 "cells": [
  {
   "cell_type": "code",
   "execution_count": 1,
   "id": "296fafbe",
   "metadata": {
    "execution": {
     "iopub.execute_input": "2025-09-07T18:03:48.347574Z",
     "iopub.status.busy": "2025-09-07T18:03:48.347343Z",
     "iopub.status.idle": "2025-09-07T18:03:52.243020Z",
     "shell.execute_reply": "2025-09-07T18:03:52.242256Z"
    },
    "papermill": {
     "duration": 3.903314,
     "end_time": "2025-09-07T18:03:52.244981",
     "exception": false,
     "start_time": "2025-09-07T18:03:48.341667",
     "status": "completed"
    },
    "tags": []
   },
   "outputs": [
    {
     "name": "stdout",
     "output_type": "stream",
     "text": [
      "Requirement already satisfied: torchinfo in /usr/local/lib/python3.11/dist-packages (1.8.0)\r\n"
     ]
    }
   ],
   "source": [
    "!pip install torchinfo"
   ]
  },
  {
   "cell_type": "markdown",
   "id": "f2836e83",
   "metadata": {
    "papermill": {
     "duration": 0.003865,
     "end_time": "2025-09-07T18:03:52.253450",
     "exception": false,
     "start_time": "2025-09-07T18:03:52.249585",
     "status": "completed"
    },
    "tags": []
   },
   "source": [
    "# IMPORT LIBRARIES"
   ]
  },
  {
   "cell_type": "code",
   "execution_count": 2,
   "id": "dfb34614",
   "metadata": {
    "execution": {
     "iopub.execute_input": "2025-09-07T18:03:52.262246Z",
     "iopub.status.busy": "2025-09-07T18:03:52.262000Z",
     "iopub.status.idle": "2025-09-07T18:04:04.432124Z",
     "shell.execute_reply": "2025-09-07T18:04:04.431294Z"
    },
    "papermill": {
     "duration": 12.17632,
     "end_time": "2025-09-07T18:04:04.433619",
     "exception": false,
     "start_time": "2025-09-07T18:03:52.257299",
     "status": "completed"
    },
    "tags": []
   },
   "outputs": [],
   "source": [
    "import time\n",
    "import os\n",
    "import pandas as pd\n",
    "from sklearn.model_selection import train_test_split\n",
    "from torchvision import datasets, transforms\n",
    "from torch.utils.data import DataLoader\n",
    "from sklearn.metrics import classification_report\n",
    "import numpy as np\n",
    "import cv2\n",
    "import torch\n",
    "from torch import nn\n",
    "import torch.nn.functional as F\n",
    "from torch.utils.data import DataLoader, Dataset\n",
    "import torchvision\n",
    "from torchvision import transforms\n",
    "from torchinfo import summary\n",
    "import torchvision.models as models\n",
    "import torch.optim as optim\n",
    "from torch.optim.lr_scheduler import StepLR\n",
    "from tqdm.notebook import tqdm\n",
    "from sklearn.metrics import accuracy_score\n",
    "import PIL\n",
    "import matplotlib.pyplot as plt\n",
    "import seaborn as sns\n",
    "import time\n",
    "from collections import OrderedDict\n",
    "import platform\n",
    "import psutil\n",
    "import random\n",
    "import glob\n",
    "from tqdm import tqdm\n",
    "from PIL import Image\n",
    "from torchvision import transforms\n",
    "from torchvision.transforms import ColorJitter, RandomRotation, RandomResizedCrop\n",
    "from torchvision.transforms.functional import gaussian_blur\n",
    "from PIL import ImageOps\n",
    "from tabulate import tabulate"
   ]
  },
  {
   "cell_type": "markdown",
   "id": "e571f9e5",
   "metadata": {
    "papermill": {
     "duration": 0.003796,
     "end_time": "2025-09-07T18:04:04.441722",
     "exception": false,
     "start_time": "2025-09-07T18:04:04.437926",
     "status": "completed"
    },
    "tags": []
   },
   "source": [
    "# CONFIGURATION"
   ]
  },
  {
   "cell_type": "code",
   "execution_count": 3,
   "id": "f5454975",
   "metadata": {
    "execution": {
     "iopub.execute_input": "2025-09-07T18:04:04.450681Z",
     "iopub.status.busy": "2025-09-07T18:04:04.449914Z",
     "iopub.status.idle": "2025-09-07T18:04:04.478870Z",
     "shell.execute_reply": "2025-09-07T18:04:04.478167Z"
    },
    "papermill": {
     "duration": 0.034548,
     "end_time": "2025-09-07T18:04:04.479978",
     "exception": false,
     "start_time": "2025-09-07T18:04:04.445430",
     "status": "completed"
    },
    "tags": []
   },
   "outputs": [
    {
     "name": "stdout",
     "output_type": "stream",
     "text": [
      "CPU: x86_64\n",
      "Total RAM (GB): 31.35\n",
      "GPU: Tesla P100-PCIE-16GB\n"
     ]
    }
   ],
   "source": [
    "cpu_info = platform.processor()\n",
    "\n",
    "ram_info = psutil.virtual_memory()\n",
    "total_ram_gb = ram_info.total / (1024 ** 3)\n",
    "\n",
    "try:\n",
    "    gpu_info = !nvidia-smi --query-gpu=gpu_name --format=csv\n",
    "    gpu_name = gpu_info[1]\n",
    "except:\n",
    "    gpu_name = \"No GPU available\"\n",
    "\n",
    "print(\"CPU:\", cpu_info)\n",
    "print(\"Total RAM (GB):\", round(total_ram_gb, 2))\n",
    "print(\"GPU:\", gpu_name)"
   ]
  },
  {
   "cell_type": "markdown",
   "id": "f215b621",
   "metadata": {
    "papermill": {
     "duration": 0.003752,
     "end_time": "2025-09-07T18:04:04.487646",
     "exception": false,
     "start_time": "2025-09-07T18:04:04.483894",
     "status": "completed"
    },
    "tags": []
   },
   "source": [
    "# SEED VALUE"
   ]
  },
  {
   "cell_type": "code",
   "execution_count": 4,
   "id": "498dfdf8",
   "metadata": {
    "execution": {
     "iopub.execute_input": "2025-09-07T18:04:04.496806Z",
     "iopub.status.busy": "2025-09-07T18:04:04.496599Z",
     "iopub.status.idle": "2025-09-07T18:04:04.504472Z",
     "shell.execute_reply": "2025-09-07T18:04:04.503984Z"
    },
    "papermill": {
     "duration": 0.01399,
     "end_time": "2025-09-07T18:04:04.505493",
     "exception": false,
     "start_time": "2025-09-07T18:04:04.491503",
     "status": "completed"
    },
    "tags": []
   },
   "outputs": [],
   "source": [
    "seed = 1\n",
    "torch.manual_seed(seed)\n",
    "torch.cuda.manual_seed(seed)\n",
    "np.random.seed(seed)\n",
    "random.seed(seed)"
   ]
  },
  {
   "cell_type": "markdown",
   "id": "35fafee5",
   "metadata": {
    "papermill": {
     "duration": 0.00369,
     "end_time": "2025-09-07T18:04:04.512957",
     "exception": false,
     "start_time": "2025-09-07T18:04:04.509267",
     "status": "completed"
    },
    "tags": []
   },
   "source": [
    "# LOADING DATASET"
   ]
  },
  {
   "cell_type": "code",
   "execution_count": 5,
   "id": "afed81e2",
   "metadata": {
    "execution": {
     "iopub.execute_input": "2025-09-07T18:04:04.521278Z",
     "iopub.status.busy": "2025-09-07T18:04:04.521070Z",
     "iopub.status.idle": "2025-09-07T18:04:05.115819Z",
     "shell.execute_reply": "2025-09-07T18:04:05.114974Z"
    },
    "papermill": {
     "duration": 0.600524,
     "end_time": "2025-09-07T18:04:05.117280",
     "exception": false,
     "start_time": "2025-09-07T18:04:04.516756",
     "status": "completed"
    },
    "tags": []
   },
   "outputs": [],
   "source": [
    "data_dir = \"/kaggle/input/fish-ra\"\n",
    "\n",
    "file_paths = []\n",
    "labels = []\n",
    "\n",
    "for class_name in os.listdir(data_dir):\n",
    "    class_dir = os.path.join(data_dir, class_name)\n",
    "    for image_name in os.listdir(class_dir):\n",
    "        file_paths.append(os.path.join(class_dir, image_name))\n",
    "        labels.append(class_name)\n",
    "\n",
    "df = pd.DataFrame({\"file_path\": file_paths, \"label\": labels})\n",
    "df = df.sample(frac=1).reset_index(drop=True)"
   ]
  },
  {
   "cell_type": "code",
   "execution_count": 6,
   "id": "5ae21403",
   "metadata": {
    "execution": {
     "iopub.execute_input": "2025-09-07T18:04:05.129292Z",
     "iopub.status.busy": "2025-09-07T18:04:05.129047Z",
     "iopub.status.idle": "2025-09-07T18:04:05.443378Z",
     "shell.execute_reply": "2025-09-07T18:04:05.442769Z"
    },
    "papermill": {
     "duration": 0.320961,
     "end_time": "2025-09-07T18:04:05.444576",
     "exception": false,
     "start_time": "2025-09-07T18:04:05.123615",
     "status": "completed"
    },
    "tags": []
   },
   "outputs": [
    {
     "name": "stdout",
     "output_type": "stream",
     "text": [
      "Class: Tarabaim, Count: 2500\n",
      "Class: Shol, Count: 2500\n",
      "Class: Puti, Count: 2500\n",
      "Class: DeshiPuti, Count: 2500\n",
      "Class: Aair, Count: 2500\n",
      "Class: Tengra, Count: 2500\n",
      "Class: Pabda, Count: 2500\n",
      "Class: Foli, Count: 2500\n",
      "Class: Katla, Count: 2500\n",
      "Class: Ilish, Count: 2500\n",
      "Class: Taki, Count: 2500\n",
      "Class: KalBaush, Count: 2500\n",
      "Class: Chapila, Count: 2500\n",
      "Class: Magur, Count: 2500\n",
      "Class: Pangas, Count: 2500\n",
      "Class: Mrigel, Count: 2500\n",
      "Class: Telapiya, Count: 2500\n",
      "Class: Koi, Count: 2500\n",
      "Class: Boal, Count: 2500\n",
      "Class: Rui, Count: 2500\n"
     ]
    },
    {
     "data": {
      "image/png": "[encoded data removed]",
      "text/plain": [
       "<Figure size 1400x400 with 1 Axes>"
      ]
     },
     "metadata": {},
     "output_type": "display_data"
    }
   ],
   "source": [
    "class_counts_train = df['label'].value_counts()\n",
    "\n",
    "for class_name, count in class_counts_train.items():\n",
    "    print(f\"Class: {class_name}, Count: {count}\")\n",
    "\n",
    "plt.figure(figsize=(14, 4))\n",
    "ax = class_counts_train.plot(kind='bar')\n",
    "plt.xlabel('Classes')\n",
    "plt.ylabel('Amount of data')\n",
    "plt.xticks(rotation=360)\n",
    "for i, count in enumerate(class_counts_train):\n",
    "    ax.text(i, count + 5, str(count), ha='center')\n",
    "plt.ylim(0, max(class_counts_train) * 1.2)\n",
    "plt.show()"
   ]
  },
  {
   "cell_type": "code",
   "execution_count": 7,
   "id": "695921a3",
   "metadata": {
    "execution": {
     "iopub.execute_input": "2025-09-07T18:04:05.454486Z",
     "iopub.status.busy": "2025-09-07T18:04:05.454292Z",
     "iopub.status.idle": "2025-09-07T18:04:05.604283Z",
     "shell.execute_reply": "2025-09-07T18:04:05.603502Z"
    },
    "papermill": {
     "duration": 0.158922,
     "end_time": "2025-09-07T18:04:05.608081",
     "exception": false,
     "start_time": "2025-09-07T18:04:05.449159",
     "status": "completed"
    },
    "tags": []
   },
   "outputs": [
    {
     "data": {
      "image/png": "[encoded data removed]",
      "text/plain": [
       "<Figure size 640x480 with 1 Axes>"
      ]
     },
     "metadata": {},
     "output_type": "display_data"
    }
   ],
   "source": [
    "random_index = random.randint(1, len(df) - 1)\n",
    "random_row = df.iloc[random_index]\n",
    "\n",
    "file_path = random_row['file_path']\n",
    "label = random_row['label']\n",
    "\n",
    "image = Image.open(file_path)\n",
    "plt.imshow(image)\n",
    "plt.title(f\"Label: {label}\")\n",
    "plt.axis('off')\n",
    "plt.show()"
   ]
  },
  {
   "cell_type": "markdown",
   "id": "6284ba74",
   "metadata": {
    "papermill": {
     "duration": 0.00689,
     "end_time": "2025-09-07T18:04:05.622197",
     "exception": false,
     "start_time": "2025-09-07T18:04:05.615307",
     "status": "completed"
    },
    "tags": []
   },
   "source": [
    "# TRAINING-TESTING-VALIDATION (RATIO 70-15-15)"
   ]
  },
  {
   "cell_type": "code",
   "execution_count": 8,
   "id": "5d6a6c3d",
   "metadata": {
    "execution": {
     "iopub.execute_input": "2025-09-07T18:04:05.637155Z",
     "iopub.status.busy": "2025-09-07T18:04:05.636596Z",
     "iopub.status.idle": "2025-09-07T18:04:05.698114Z",
     "shell.execute_reply": "2025-09-07T18:04:05.697288Z"
    },
    "papermill": {
     "duration": 0.070265,
     "end_time": "2025-09-07T18:04:05.699367",
     "exception": false,
     "start_time": "2025-09-07T18:04:05.629102",
     "status": "completed"
    },
    "tags": []
   },
   "outputs": [],
   "source": [
    "train_dataframe, temp_dataframe = train_test_split(df, test_size=0.30, \n",
    "                                     stratify=df['label'], random_state=42)\n",
    "valid_dataframe, test_df = train_test_split(temp_dataframe, test_size=0.50, \n",
    "                                            stratify=temp_dataframe['label'], random_state=42)"
   ]
  },
  {
   "cell_type": "code",
   "execution_count": 9,
   "id": "815caaf2",
   "metadata": {
    "execution": {
     "iopub.execute_input": "2025-09-07T18:04:05.714693Z",
     "iopub.status.busy": "2025-09-07T18:04:05.714474Z",
     "iopub.status.idle": "2025-09-07T18:04:05.718942Z",
     "shell.execute_reply": "2025-09-07T18:04:05.718132Z"
    },
    "papermill": {
     "duration": 0.013493,
     "end_time": "2025-09-07T18:04:05.720094",
     "exception": false,
     "start_time": "2025-09-07T18:04:05.706601",
     "status": "completed"
    },
    "tags": []
   },
   "outputs": [
    {
     "name": "stdout",
     "output_type": "stream",
     "text": [
      "Training Data:  35000\n",
      "Validation Data:  7500\n",
      "Test Data:  7500\n",
      "-------------------------------------------\n",
      "Total amounts of data in the dataset:  50000\n"
     ]
    }
   ],
   "source": [
    "print(\"Training Data: \", len(train_dataframe))\n",
    "print(\"Validation Data: \", len(valid_dataframe))\n",
    "print(\"Test Data: \", len(test_df))\n",
    "print(\"-------------------------------------------\")\n",
    "print(\"Total amounts of data in the dataset: \", len(df))"
   ]
  },
  {
   "cell_type": "markdown",
   "id": "8cbe51e8",
   "metadata": {
    "papermill": {
     "duration": 0.006717,
     "end_time": "2025-09-07T18:04:05.733915",
     "exception": false,
     "start_time": "2025-09-07T18:04:05.727198",
     "status": "completed"
    },
    "tags": []
   },
   "source": [
    "# DEVICE"
   ]
  },
  {
   "cell_type": "code",
   "execution_count": 10,
   "id": "47b4b926",
   "metadata": {
    "execution": {
     "iopub.execute_input": "2025-09-07T18:04:05.748233Z",
     "iopub.status.busy": "2025-09-07T18:04:05.748030Z",
     "iopub.status.idle": "2025-09-07T18:04:05.816611Z",
     "shell.execute_reply": "2025-09-07T18:04:05.815652Z"
    },
    "papermill": {
     "duration": 0.076978,
     "end_time": "2025-09-07T18:04:05.817788",
     "exception": false,
     "start_time": "2025-09-07T18:04:05.740810",
     "status": "completed"
    },
    "tags": []
   },
   "outputs": [
    {
     "name": "stdout",
     "output_type": "stream",
     "text": [
      "cuda\n"
     ]
    }
   ],
   "source": [
    "device = torch.device('cuda' if torch.cuda.is_available() else 'cpu')\n",
    "print(device)"
   ]
  },
  {
   "cell_type": "markdown",
   "id": "33c6dc92",
   "metadata": {
    "papermill": {
     "duration": 0.006643,
     "end_time": "2025-09-07T18:04:05.831610",
     "exception": false,
     "start_time": "2025-09-07T18:04:05.824967",
     "status": "completed"
    },
    "tags": []
   },
   "source": [
    "# CHECKPOINT"
   ]
  },
  {
   "cell_type": "code",
   "execution_count": 11,
   "id": "1660004f",
   "metadata": {
    "execution": {
     "iopub.execute_input": "2025-09-07T18:04:05.846016Z",
     "iopub.status.busy": "2025-09-07T18:04:05.845792Z",
     "iopub.status.idle": "2025-09-07T18:04:05.849448Z",
     "shell.execute_reply": "2025-09-07T18:04:05.848761Z"
    },
    "papermill": {
     "duration": 0.012196,
     "end_time": "2025-09-07T18:04:05.850526",
     "exception": false,
     "start_time": "2025-09-07T18:04:05.838330",
     "status": "completed"
    },
    "tags": []
   },
   "outputs": [],
   "source": [
    "save_path_checkpoints = \"/kaggle/working/\"\n",
    "os.makedirs(save_path_checkpoints, exist_ok=True)"
   ]
  },
  {
   "cell_type": "markdown",
   "id": "25e72d08",
   "metadata": {
    "papermill": {
     "duration": 0.006473,
     "end_time": "2025-09-07T18:04:05.863874",
     "exception": false,
     "start_time": "2025-09-07T18:04:05.857401",
     "status": "completed"
    },
    "tags": []
   },
   "source": [
    "# DATA CLASS, DATA LOADER, TRANSFORM"
   ]
  },
  {
   "cell_type": "code",
   "execution_count": 12,
   "id": "431f2304",
   "metadata": {
    "execution": {
     "iopub.execute_input": "2025-09-07T18:04:05.877905Z",
     "iopub.status.busy": "2025-09-07T18:04:05.877668Z",
     "iopub.status.idle": "2025-09-07T18:04:05.883033Z",
     "shell.execute_reply": "2025-09-07T18:04:05.882317Z"
    },
    "papermill": {
     "duration": 0.013669,
     "end_time": "2025-09-07T18:04:05.884096",
     "exception": false,
     "start_time": "2025-09-07T18:04:05.870427",
     "status": "completed"
    },
    "tags": []
   },
   "outputs": [],
   "source": [
    "class ImageDataset(Dataset):\n",
    "    def __init__(self, dataframe, normalize, is_lb=False):\n",
    "        self.dataframe = dataframe\n",
    "        self.normalize = normalize\n",
    "        self.is_lb = is_lb\n",
    "        class_names = sorted(self.dataframe['label'].unique())  # Ensure consistent order\n",
    "        self.label_map = {class_name: idx for idx, class_name in enumerate(class_names)}\n",
    "\n",
    "    def __len__(self):\n",
    "        return len(self.dataframe)\n",
    "\n",
    "    def __getitem__(self, index):\n",
    "        img_path = self.dataframe.iloc[index]['file_path']\n",
    "        image = PIL.Image.open(img_path)\n",
    "\n",
    "        if self.is_lb:\n",
    "            label = self.label_map[self.dataframe.iloc[index]['label']]\n",
    "            return self.normalize(image), label\n",
    "        else:\n",
    "            return self.normalize(image), self.normalize(image)"
   ]
  },
  {
   "cell_type": "code",
   "execution_count": 13,
   "id": "165bb5f9",
   "metadata": {
    "execution": {
     "iopub.execute_input": "2025-09-07T18:04:05.898251Z",
     "iopub.status.busy": "2025-09-07T18:04:05.898052Z",
     "iopub.status.idle": "2025-09-07T18:04:05.905098Z",
     "shell.execute_reply": "2025-09-07T18:04:05.904452Z"
    },
    "papermill": {
     "duration": 0.015258,
     "end_time": "2025-09-07T18:04:05.906129",
     "exception": false,
     "start_time": "2025-09-07T18:04:05.890871",
     "status": "completed"
    },
    "tags": []
   },
   "outputs": [
    {
     "name": "stdout",
     "output_type": "stream",
     "text": [
      "{'Aair': 0, 'Boal': 1, 'Chapila': 2, 'DeshiPuti': 3, 'Foli': 4, 'Ilish': 5, 'KalBaush': 6, 'Katla': 7, 'Koi': 8, 'Magur': 9, 'Mrigel': 10, 'Pabda': 11, 'Pangas': 12, 'Puti': 13, 'Rui': 14, 'Shol': 15, 'Taki': 16, 'Tarabaim': 17, 'Telapiya': 18, 'Tengra': 19}\n"
     ]
    }
   ],
   "source": [
    "normalize = transforms.Compose([\n",
    "    transforms.Resize((224, 224)),\n",
    "    transforms.ToTensor()\n",
    "])\n",
    "\n",
    "train_dataset = ImageDataset(train_dataframe, normalize, is_lb=True)\n",
    "print(train_dataset.label_map)"
   ]
  },
  {
   "cell_type": "code",
   "execution_count": 14,
   "id": "f4e7d7e1",
   "metadata": {
    "execution": {
     "iopub.execute_input": "2025-09-07T18:04:05.920615Z",
     "iopub.status.busy": "2025-09-07T18:04:05.920425Z",
     "iopub.status.idle": "2025-09-07T18:04:05.928069Z",
     "shell.execute_reply": "2025-09-07T18:04:05.927511Z"
    },
    "papermill": {
     "duration": 0.016136,
     "end_time": "2025-09-07T18:04:05.929140",
     "exception": false,
     "start_time": "2025-09-07T18:04:05.913004",
     "status": "completed"
    },
    "tags": []
   },
   "outputs": [],
   "source": [
    "train_batch = 32\n",
    "val_batch = 8\n",
    "\n",
    "def data_transfrom():\n",
    "    normalize = transforms.Compose([\n",
    "            transforms.ToTensor(),\n",
    "            transforms.Normalize(mean=[0.485, 0.456, 0.406],\n",
    "                                 std=[0.229, 0.224, 0.225])    \n",
    "    ])\n",
    "\n",
    "    train_dataset = ImageDataset (\n",
    "        train_dataframe,\n",
    "        normalize,\n",
    "        is_lb=True\n",
    "    )\n",
    "\n",
    "    valid_dataset = ImageDataset(\n",
    "        valid_dataframe,\n",
    "        normalize,\n",
    "        is_lb=True\n",
    "    )\n",
    "\n",
    "    test_dataset = ImageDataset(\n",
    "        test_df,\n",
    "        normalize,\n",
    "        is_lb=True\n",
    "    )\n",
    "\n",
    "    dataloader_train_dataset = DataLoader(train_dataset, batch_size = train_batch, shuffle=True, num_workers=2)\n",
    "    dataloader_valid_dataset = DataLoader(valid_dataset, batch_size = val_batch, shuffle=False, num_workers=2)\n",
    "    dataloader_test_dataset = DataLoader(test_dataset, batch_size = val_batch, shuffle=False, num_workers=2)\n",
    "\n",
    "    return dataloader_train_dataset, dataloader_valid_dataset, dataloader_test_dataset\n",
    "\n",
    "dataloader_train_dataset, dataloader_valid_dataset, dataloader_test_dataset = data_transfrom()"
   ]
  },
  {
   "cell_type": "markdown",
   "id": "5649c917",
   "metadata": {
    "papermill": {
     "duration": 0.006773,
     "end_time": "2025-09-07T18:04:05.942766",
     "exception": false,
     "start_time": "2025-09-07T18:04:05.935993",
     "status": "completed"
    },
    "tags": []
   },
   "source": [
    "# GoogleNet   "
   ]
  },
  {
   "cell_type": "code",
   "execution_count": 15,
   "id": "2e391d4f",
   "metadata": {
    "execution": {
     "iopub.execute_input": "2025-09-07T18:04:05.957823Z",
     "iopub.status.busy": "2025-09-07T18:04:05.957229Z",
     "iopub.status.idle": "2025-09-07T18:04:07.462400Z",
     "shell.execute_reply": "2025-09-07T18:04:07.461778Z"
    },
    "papermill": {
     "duration": 1.514096,
     "end_time": "2025-09-07T18:04:07.463665",
     "exception": false,
     "start_time": "2025-09-07T18:04:05.949569",
     "status": "completed"
    },
    "tags": []
   },
   "outputs": [
    {
     "name": "stderr",
     "output_type": "stream",
     "text": [
      "/usr/local/lib/python3.11/dist-packages/torchvision/models/_utils.py:208: UserWarning: The parameter 'pretrained' is deprecated since 0.13 and may be removed in the future, please use 'weights' instead.\n",
      "  warnings.warn(\n",
      "/usr/local/lib/python3.11/dist-packages/torchvision/models/_utils.py:223: UserWarning: Arguments other than a weight enum or `None` for 'weights' are deprecated since 0.13 and may be removed in the future. The current behavior is equivalent to passing `weights=GoogLeNet_Weights.IMAGENET1K_V1`. You can also use `weights=GoogLeNet_Weights.DEFAULT` to get the most up-to-date weights.\n",
      "  warnings.warn(msg)\n",
      "Downloading: \"https://download.pytorch.org/models/googlenet-1378be20.pth\" to /root/.cache/torch/hub/checkpoints/googlenet-1378be20.pth\n",
      "100%|██████████| 49.7M/49.7M [00:00<00:00, 192MB/s]\n"
     ]
    },
    {
     "data": {
      "text/plain": [
       "==========================================================================================\n",
       "Layer (type:depth-idx)                   Output Shape              Param #\n",
       "==========================================================================================\n",
       "GoogLeNet                                [32, 20]                  --\n",
       "├─BasicConv2d: 1-1                       [32, 64, 112, 112]        --\n",
       "│    └─Conv2d: 2-1                       [32, 64, 112, 112]        (9,408)\n",
       "│    └─BatchNorm2d: 2-2                  [32, 64, 112, 112]        (128)\n",
       "├─MaxPool2d: 1-2                         [32, 64, 56, 56]          --\n",
       "├─BasicConv2d: 1-3                       [32, 64, 56, 56]          --\n",
       "│    └─Conv2d: 2-3                       [32, 64, 56, 56]          (4,096)\n",
       "│    └─BatchNorm2d: 2-4                  [32, 64, 56, 56]          (128)\n",
       "├─BasicConv2d: 1-4                       [32, 192, 56, 56]         --\n",
       "│    └─Conv2d: 2-5                       [32, 192, 56, 56]         (110,592)\n",
       "│    └─BatchNorm2d: 2-6                  [32, 192, 56, 56]         (384)\n",
       "├─MaxPool2d: 1-5                         [32, 192, 28, 28]         --\n",
       "├─Inception: 1-6                         [32, 256, 28, 28]         --\n",
       "│    └─BasicConv2d: 2-7                  [32, 64, 28, 28]          --\n",
       "│    │    └─Conv2d: 3-1                  [32, 64, 28, 28]          (12,288)\n",
       "│    │    └─BatchNorm2d: 3-2             [32, 64, 28, 28]          (128)\n",
       "│    └─Sequential: 2-8                   [32, 128, 28, 28]         --\n",
       "│    │    └─BasicConv2d: 3-3             [32, 96, 28, 28]          (18,624)\n",
       "│    │    └─BasicConv2d: 3-4             [32, 128, 28, 28]         (110,848)\n",
       "│    └─Sequential: 2-9                   [32, 32, 28, 28]          --\n",
       "│    │    └─BasicConv2d: 3-5             [32, 16, 28, 28]          (3,104)\n",
       "│    │    └─BasicConv2d: 3-6             [32, 32, 28, 28]          (4,672)\n",
       "│    └─Sequential: 2-10                  [32, 32, 28, 28]          --\n",
       "│    │    └─MaxPool2d: 3-7               [32, 192, 28, 28]         --\n",
       "│    │    └─BasicConv2d: 3-8             [32, 32, 28, 28]          (6,208)\n",
       "├─Inception: 1-7                         [32, 480, 28, 28]         --\n",
       "│    └─BasicConv2d: 2-11                 [32, 128, 28, 28]         --\n",
       "│    │    └─Conv2d: 3-9                  [32, 128, 28, 28]         (32,768)\n",
       "│    │    └─BatchNorm2d: 3-10            [32, 128, 28, 28]         (256)\n",
       "│    └─Sequential: 2-12                  [32, 192, 28, 28]         --\n",
       "│    │    └─BasicConv2d: 3-11            [32, 128, 28, 28]         (33,024)\n",
       "│    │    └─BasicConv2d: 3-12            [32, 192, 28, 28]         (221,568)\n",
       "│    └─Sequential: 2-13                  [32, 96, 28, 28]          --\n",
       "│    │    └─BasicConv2d: 3-13            [32, 32, 28, 28]          (8,256)\n",
       "│    │    └─BasicConv2d: 3-14            [32, 96, 28, 28]          (27,840)\n",
       "│    └─Sequential: 2-14                  [32, 64, 28, 28]          --\n",
       "│    │    └─MaxPool2d: 3-15              [32, 256, 28, 28]         --\n",
       "│    │    └─BasicConv2d: 3-16            [32, 64, 28, 28]          (16,512)\n",
       "├─MaxPool2d: 1-8                         [32, 480, 14, 14]         --\n",
       "├─Inception: 1-9                         [32, 512, 14, 14]         --\n",
       "│    └─BasicConv2d: 2-15                 [32, 192, 14, 14]         --\n",
       "│    │    └─Conv2d: 3-17                 [32, 192, 14, 14]         (92,160)\n",
       "│    │    └─BatchNorm2d: 3-18            [32, 192, 14, 14]         (384)\n",
       "│    └─Sequential: 2-16                  [32, 208, 14, 14]         --\n",
       "│    │    └─BasicConv2d: 3-19            [32, 96, 14, 14]          (46,272)\n",
       "│    │    └─BasicConv2d: 3-20            [32, 208, 14, 14]         (180,128)\n",
       "│    └─Sequential: 2-17                  [32, 48, 14, 14]          --\n",
       "│    │    └─BasicConv2d: 3-21            [32, 16, 14, 14]          (7,712)\n",
       "│    │    └─BasicConv2d: 3-22            [32, 48, 14, 14]          (7,008)\n",
       "│    └─Sequential: 2-18                  [32, 64, 14, 14]          --\n",
       "│    │    └─MaxPool2d: 3-23              [32, 480, 14, 14]         --\n",
       "│    │    └─BasicConv2d: 3-24            [32, 64, 14, 14]          (30,848)\n",
       "├─Inception: 1-10                        [32, 512, 14, 14]         --\n",
       "│    └─BasicConv2d: 2-19                 [32, 160, 14, 14]         --\n",
       "│    │    └─Conv2d: 3-25                 [32, 160, 14, 14]         (81,920)\n",
       "│    │    └─BatchNorm2d: 3-26            [32, 160, 14, 14]         (320)\n",
       "│    └─Sequential: 2-20                  [32, 224, 14, 14]         --\n",
       "│    │    └─BasicConv2d: 3-27            [32, 112, 14, 14]         (57,568)\n",
       "│    │    └─BasicConv2d: 3-28            [32, 224, 14, 14]         (226,240)\n",
       "│    └─Sequential: 2-21                  [32, 64, 14, 14]          --\n",
       "│    │    └─BasicConv2d: 3-29            [32, 24, 14, 14]          (12,336)\n",
       "│    │    └─BasicConv2d: 3-30            [32, 64, 14, 14]          (13,952)\n",
       "│    └─Sequential: 2-22                  [32, 64, 14, 14]          --\n",
       "│    │    └─MaxPool2d: 3-31              [32, 512, 14, 14]         --\n",
       "│    │    └─BasicConv2d: 3-32            [32, 64, 14, 14]          (32,896)\n",
       "├─Inception: 1-11                        [32, 512, 14, 14]         --\n",
       "│    └─BasicConv2d: 2-23                 [32, 128, 14, 14]         --\n",
       "│    │    └─Conv2d: 3-33                 [32, 128, 14, 14]         (65,536)\n",
       "│    │    └─BatchNorm2d: 3-34            [32, 128, 14, 14]         (256)\n",
       "│    └─Sequential: 2-24                  [32, 256, 14, 14]         --\n",
       "│    │    └─BasicConv2d: 3-35            [32, 128, 14, 14]         (65,792)\n",
       "│    │    └─BasicConv2d: 3-36            [32, 256, 14, 14]         (295,424)\n",
       "│    └─Sequential: 2-25                  [32, 64, 14, 14]          --\n",
       "│    │    └─BasicConv2d: 3-37            [32, 24, 14, 14]          (12,336)\n",
       "│    │    └─BasicConv2d: 3-38            [32, 64, 14, 14]          (13,952)\n",
       "│    └─Sequential: 2-26                  [32, 64, 14, 14]          --\n",
       "│    │    └─MaxPool2d: 3-39              [32, 512, 14, 14]         --\n",
       "│    │    └─BasicConv2d: 3-40            [32, 64, 14, 14]          (32,896)\n",
       "├─Inception: 1-12                        [32, 528, 14, 14]         --\n",
       "│    └─BasicConv2d: 2-27                 [32, 112, 14, 14]         --\n",
       "│    │    └─Conv2d: 3-41                 [32, 112, 14, 14]         (57,344)\n",
       "│    │    └─BatchNorm2d: 3-42            [32, 112, 14, 14]         (224)\n",
       "│    └─Sequential: 2-28                  [32, 288, 14, 14]         --\n",
       "│    │    └─BasicConv2d: 3-43            [32, 144, 14, 14]         (74,016)\n",
       "│    │    └─BasicConv2d: 3-44            [32, 288, 14, 14]         (373,824)\n",
       "│    └─Sequential: 2-29                  [32, 64, 14, 14]          --\n",
       "│    │    └─BasicConv2d: 3-45            [32, 32, 14, 14]          (16,448)\n",
       "│    │    └─BasicConv2d: 3-46            [32, 64, 14, 14]          (18,560)\n",
       "│    └─Sequential: 2-30                  [32, 64, 14, 14]          --\n",
       "│    │    └─MaxPool2d: 3-47              [32, 512, 14, 14]         --\n",
       "│    │    └─BasicConv2d: 3-48            [32, 64, 14, 14]          (32,896)\n",
       "├─Inception: 1-13                        [32, 832, 14, 14]         --\n",
       "│    └─BasicConv2d: 2-31                 [32, 256, 14, 14]         --\n",
       "│    │    └─Conv2d: 3-49                 [32, 256, 14, 14]         (135,168)\n",
       "│    │    └─BatchNorm2d: 3-50            [32, 256, 14, 14]         (512)\n",
       "│    └─Sequential: 2-32                  [32, 320, 14, 14]         --\n",
       "│    │    └─BasicConv2d: 3-51            [32, 160, 14, 14]         (84,800)\n",
       "│    │    └─BasicConv2d: 3-52            [32, 320, 14, 14]         (461,440)\n",
       "│    └─Sequential: 2-33                  [32, 128, 14, 14]         --\n",
       "│    │    └─BasicConv2d: 3-53            [32, 32, 14, 14]          (16,960)\n",
       "│    │    └─BasicConv2d: 3-54            [32, 128, 14, 14]         (37,120)\n",
       "│    └─Sequential: 2-34                  [32, 128, 14, 14]         --\n",
       "│    │    └─MaxPool2d: 3-55              [32, 528, 14, 14]         --\n",
       "│    │    └─BasicConv2d: 3-56            [32, 128, 14, 14]         (67,840)\n",
       "├─MaxPool2d: 1-14                        [32, 832, 7, 7]           --\n",
       "├─Inception: 1-15                        [32, 832, 7, 7]           --\n",
       "│    └─BasicConv2d: 2-35                 [32, 256, 7, 7]           --\n",
       "│    │    └─Conv2d: 3-57                 [32, 256, 7, 7]           (212,992)\n",
       "│    │    └─BatchNorm2d: 3-58            [32, 256, 7, 7]           (512)\n",
       "│    └─Sequential: 2-36                  [32, 320, 7, 7]           --\n",
       "│    │    └─BasicConv2d: 3-59            [32, 160, 7, 7]           (133,440)\n",
       "│    │    └─BasicConv2d: 3-60            [32, 320, 7, 7]           (461,440)\n",
       "│    └─Sequential: 2-37                  [32, 128, 7, 7]           --\n",
       "│    │    └─BasicConv2d: 3-61            [32, 32, 7, 7]            (26,688)\n",
       "│    │    └─BasicConv2d: 3-62            [32, 128, 7, 7]           (37,120)\n",
       "│    └─Sequential: 2-38                  [32, 128, 7, 7]           --\n",
       "│    │    └─MaxPool2d: 3-63              [32, 832, 7, 7]           --\n",
       "│    │    └─BasicConv2d: 3-64            [32, 128, 7, 7]           (106,752)\n",
       "├─Inception: 1-16                        [32, 1024, 7, 7]          --\n",
       "│    └─BasicConv2d: 2-39                 [32, 384, 7, 7]           --\n",
       "│    │    └─Conv2d: 3-65                 [32, 384, 7, 7]           (319,488)\n",
       "│    │    └─BatchNorm2d: 3-66            [32, 384, 7, 7]           (768)\n",
       "│    └─Sequential: 2-40                  [32, 384, 7, 7]           --\n",
       "│    │    └─BasicConv2d: 3-67            [32, 192, 7, 7]           (160,128)\n",
       "│    │    └─BasicConv2d: 3-68            [32, 384, 7, 7]           (664,320)\n",
       "│    └─Sequential: 2-41                  [32, 128, 7, 7]           --\n",
       "│    │    └─BasicConv2d: 3-69            [32, 48, 7, 7]            (40,032)\n",
       "│    │    └─BasicConv2d: 3-70            [32, 128, 7, 7]           (55,552)\n",
       "│    └─Sequential: 2-42                  [32, 128, 7, 7]           --\n",
       "│    │    └─MaxPool2d: 3-71              [32, 832, 7, 7]           --\n",
       "│    │    └─BasicConv2d: 3-72            [32, 128, 7, 7]           (106,752)\n",
       "├─AdaptiveAvgPool2d: 1-17                [32, 1024, 1, 1]          --\n",
       "├─Dropout: 1-18                          [32, 1024]                --\n",
       "├─Linear: 1-19                           [32, 20]                  20,500\n",
       "==========================================================================================\n",
       "Total params: 5,620,404\n",
       "Trainable params: 20,500\n",
       "Non-trainable params: 5,599,904\n",
       "Total mult-adds (Units.GIGABYTES): 47.92\n",
       "==========================================================================================\n",
       "Input size (MB): 19.27\n",
       "Forward/backward pass size (MB): 1651.80\n",
       "Params size (MB): 22.48\n",
       "Estimated Total Size (MB): 1693.55\n",
       "=========================================================================================="
      ]
     },
     "execution_count": 15,
     "metadata": {},
     "output_type": "execute_result"
    }
   ],
   "source": [
    "from torchvision.models import googlenet\n",
    "\n",
    "total_class = 20     \n",
    "learning_rate = 0.0001\n",
    "\n",
    "\n",
    "model = googlenet(pretrained=True)\n",
    "\n",
    "\n",
    "for param in model.parameters():\n",
    "    param.requires_grad = False\n",
    "\n",
    "\n",
    "model.fc = nn.Linear(model.fc.in_features, total_class)\n",
    "\n",
    "model = model.to(device)\n",
    "\n",
    "optimizer = optim.Adam(model.fc.parameters(), lr=learning_rate)\n",
    "criterion = nn.CrossEntropyLoss()\n",
    "\n",
    "\n",
    "summary(model, input_size=(train_batch, 3, 224, 224))\n"
   ]
  },
  {
   "cell_type": "markdown",
   "id": "12c6c9df",
   "metadata": {
    "papermill": {
     "duration": 0.00755,
     "end_time": "2025-09-07T18:04:07.479929",
     "exception": false,
     "start_time": "2025-09-07T18:04:07.472379",
     "status": "completed"
    },
    "tags": []
   },
   "source": [
    "# TRAINING"
   ]
  },
  {
   "cell_type": "code",
   "execution_count": 16,
   "id": "586ad303",
   "metadata": {
    "execution": {
     "iopub.execute_input": "2025-09-07T18:04:07.495996Z",
     "iopub.status.busy": "2025-09-07T18:04:07.495786Z",
     "iopub.status.idle": "2025-09-07T19:55:40.844120Z",
     "shell.execute_reply": "2025-09-07T19:55:40.843361Z"
    },
    "papermill": {
     "duration": 6693.35801,
     "end_time": "2025-09-07T19:55:40.845489",
     "exception": false,
     "start_time": "2025-09-07T18:04:07.487479",
     "status": "completed"
    },
    "tags": []
   },
   "outputs": [
    {
     "name": "stderr",
     "output_type": "stream",
     "text": [
      "Epoch 1/100: 100%|██████████| 1094/1094 [01:35<00:00, 11.41it/s, acc=0.602, loss=2.09]"
     ]
    },
    {
     "name": "stdout",
     "output_type": "stream",
     "text": [
      "Training Loss: 2.086 Acc: 0.602\n"
     ]
    },
    {
     "name": "stderr",
     "output_type": "stream",
     "text": [
      "\n"
     ]
    },
    {
     "name": "stdout",
     "output_type": "stream",
     "text": [
      "Validation Loss: 1.365 Acc: 0.821\n",
      "Best model saved at epoch 1 with validation accuracy: 0.821\n"
     ]
    },
    {
     "name": "stderr",
     "output_type": "stream",
     "text": [
      "Epoch 2/100: 100%|██████████| 1094/1094 [00:51<00:00, 21.17it/s, acc=0.808, loss=1.17]"
     ]
    },
    {
     "name": "stdout",
     "output_type": "stream",
     "text": [
      "Training Loss: 1.171 Acc: 0.808\n"
     ]
    },
    {
     "name": "stderr",
     "output_type": "stream",
     "text": [
      "\n"
     ]
    },
    {
     "name": "stdout",
     "output_type": "stream",
     "text": [
      "Validation Loss: 0.860 Acc: 0.867\n",
      "Best model saved at epoch 2 with validation accuracy: 0.867\n"
     ]
    },
    {
     "name": "stderr",
     "output_type": "stream",
     "text": [
      "Epoch 3/100: 100%|██████████| 1094/1094 [00:52<00:00, 20.94it/s, acc=0.845, loss=0.843]"
     ]
    },
    {
     "name": "stdout",
     "output_type": "stream",
     "text": [
      "Training Loss: 0.843 Acc: 0.845\n"
     ]
    },
    {
     "name": "stderr",
     "output_type": "stream",
     "text": [
      "\n"
     ]
    },
    {
     "name": "stdout",
     "output_type": "stream",
     "text": [
      "Validation Loss: 0.643 Acc: 0.891\n",
      "Best model saved at epoch 3 with validation accuracy: 0.891\n"
     ]
    },
    {
     "name": "stderr",
     "output_type": "stream",
     "text": [
      "Epoch 4/100: 100%|██████████| 1094/1094 [00:52<00:00, 20.94it/s, acc=0.868, loss=0.672]\n"
     ]
    },
    {
     "name": "stdout",
     "output_type": "stream",
     "text": [
      "Training Loss: 0.672 Acc: 0.868\n",
      "Validation Loss: 0.525 Acc: 0.904\n",
      "Best model saved at epoch 4 with validation accuracy: 0.904\n"
     ]
    },
    {
     "name": "stderr",
     "output_type": "stream",
     "text": [
      "Epoch 5/100: 100%|██████████| 1094/1094 [00:51<00:00, 21.16it/s, acc=0.882, loss=0.571]\n"
     ]
    },
    {
     "name": "stdout",
     "output_type": "stream",
     "text": [
      "Training Loss: 0.571 Acc: 0.882\n",
      "Validation Loss: 0.437 Acc: 0.919\n",
      "Best model saved at epoch 5 with validation accuracy: 0.919\n"
     ]
    },
    {
     "name": "stderr",
     "output_type": "stream",
     "text": [
      "Epoch 6/100: 100%|██████████| 1094/1094 [00:51<00:00, 21.08it/s, acc=0.892, loss=0.502]"
     ]
    },
    {
     "name": "stdout",
     "output_type": "stream",
     "text": [
      "Training Loss: 0.502 Acc: 0.892\n"
     ]
    },
    {
     "name": "stderr",
     "output_type": "stream",
     "text": [
      "\n"
     ]
    },
    {
     "name": "stdout",
     "output_type": "stream",
     "text": [
      "Validation Loss: 0.380 Acc: 0.924\n",
      "Best model saved at epoch 6 with validation accuracy: 0.924\n"
     ]
    },
    {
     "name": "stderr",
     "output_type": "stream",
     "text": [
      "Epoch 7/100: 100%|██████████| 1094/1094 [00:51<00:00, 21.30it/s, acc=0.899, loss=0.45]"
     ]
    },
    {
     "name": "stdout",
     "output_type": "stream",
     "text": [
      "Training Loss: 0.450 Acc: 0.899\n"
     ]
    },
    {
     "name": "stderr",
     "output_type": "stream",
     "text": [
      "\n"
     ]
    },
    {
     "name": "stdout",
     "output_type": "stream",
     "text": [
      "Validation Loss: 0.342 Acc: 0.930\n",
      "Best model saved at epoch 7 with validation accuracy: 0.930\n"
     ]
    },
    {
     "name": "stderr",
     "output_type": "stream",
     "text": [
      "Epoch 8/100: 100%|██████████| 1094/1094 [00:51<00:00, 21.17it/s, acc=0.904, loss=0.414]"
     ]
    },
    {
     "name": "stdout",
     "output_type": "stream",
     "text": [
      "Training Loss: 0.414 Acc: 0.904\n"
     ]
    },
    {
     "name": "stderr",
     "output_type": "stream",
     "text": [
      "\n"
     ]
    },
    {
     "name": "stdout",
     "output_type": "stream",
     "text": [
      "Validation Loss: 0.313 Acc: 0.935\n",
      "Best model saved at epoch 8 with validation accuracy: 0.935\n"
     ]
    },
    {
     "name": "stderr",
     "output_type": "stream",
     "text": [
      "Epoch 9/100: 100%|██████████| 1094/1094 [00:50<00:00, 21.46it/s, acc=0.91, loss=0.384]"
     ]
    },
    {
     "name": "stdout",
     "output_type": "stream",
     "text": [
      "Training Loss: 0.384 Acc: 0.910\n"
     ]
    },
    {
     "name": "stderr",
     "output_type": "stream",
     "text": [
      "\n"
     ]
    },
    {
     "name": "stdout",
     "output_type": "stream",
     "text": [
      "Validation Loss: 0.281 Acc: 0.940\n",
      "Best model saved at epoch 9 with validation accuracy: 0.940\n"
     ]
    },
    {
     "name": "stderr",
     "output_type": "stream",
     "text": [
      "Epoch 10/100: 100%|██████████| 1094/1094 [00:51<00:00, 21.33it/s, acc=0.913, loss=0.362]"
     ]
    },
    {
     "name": "stdout",
     "output_type": "stream",
     "text": [
      "Training Loss: 0.362 Acc: 0.913\n"
     ]
    },
    {
     "name": "stderr",
     "output_type": "stream",
     "text": [
      "\n"
     ]
    },
    {
     "name": "stdout",
     "output_type": "stream",
     "text": [
      "Validation Loss: 0.265 Acc: 0.945\n",
      "Best model saved at epoch 10 with validation accuracy: 0.945\n"
     ]
    },
    {
     "name": "stderr",
     "output_type": "stream",
     "text": [
      "Epoch 11/100: 100%|██████████| 1094/1094 [00:51<00:00, 21.21it/s, acc=0.916, loss=0.344]"
     ]
    },
    {
     "name": "stdout",
     "output_type": "stream",
     "text": [
      "Training Loss: 0.344 Acc: 0.916\n"
     ]
    },
    {
     "name": "stderr",
     "output_type": "stream",
     "text": [
      "\n"
     ]
    },
    {
     "name": "stdout",
     "output_type": "stream",
     "text": [
      "Validation Loss: 0.251 Acc: 0.946\n",
      "Best model saved at epoch 11 with validation accuracy: 0.946\n"
     ]
    },
    {
     "name": "stderr",
     "output_type": "stream",
     "text": [
      "Epoch 12/100: 100%|██████████| 1094/1094 [00:51<00:00, 21.23it/s, acc=0.92, loss=0.325]"
     ]
    },
    {
     "name": "stdout",
     "output_type": "stream",
     "text": [
      "Training Loss: 0.325 Acc: 0.920\n"
     ]
    },
    {
     "name": "stderr",
     "output_type": "stream",
     "text": [
      "\n"
     ]
    },
    {
     "name": "stdout",
     "output_type": "stream",
     "text": [
      "Validation Loss: 0.238 Acc: 0.948\n",
      "Best model saved at epoch 12 with validation accuracy: 0.948\n"
     ]
    },
    {
     "name": "stderr",
     "output_type": "stream",
     "text": [
      "Epoch 13/100: 100%|██████████| 1094/1094 [00:51<00:00, 21.22it/s, acc=0.92, loss=0.313]\n"
     ]
    },
    {
     "name": "stdout",
     "output_type": "stream",
     "text": [
      "Training Loss: 0.313 Acc: 0.920\n",
      "Validation Loss: 0.223 Acc: 0.952\n",
      "Best model saved at epoch 13 with validation accuracy: 0.952\n"
     ]
    },
    {
     "name": "stderr",
     "output_type": "stream",
     "text": [
      "Epoch 14/100: 100%|██████████| 1094/1094 [00:51<00:00, 21.26it/s, acc=0.924, loss=0.3]"
     ]
    },
    {
     "name": "stdout",
     "output_type": "stream",
     "text": [
      "Training Loss: 0.300 Acc: 0.924\n"
     ]
    },
    {
     "name": "stderr",
     "output_type": "stream",
     "text": [
      "\n"
     ]
    },
    {
     "name": "stdout",
     "output_type": "stream",
     "text": [
      "Validation Loss: 0.210 Acc: 0.954\n",
      "Best model saved at epoch 14 with validation accuracy: 0.954\n"
     ]
    },
    {
     "name": "stderr",
     "output_type": "stream",
     "text": [
      "Epoch 15/100: 100%|██████████| 1094/1094 [00:51<00:00, 21.29it/s, acc=0.925, loss=0.291]"
     ]
    },
    {
     "name": "stdout",
     "output_type": "stream",
     "text": [
      "Training Loss: 0.291 Acc: 0.925\n"
     ]
    },
    {
     "name": "stderr",
     "output_type": "stream",
     "text": [
      "\n"
     ]
    },
    {
     "name": "stdout",
     "output_type": "stream",
     "text": [
      "Validation Loss: 0.210 Acc: 0.951\n"
     ]
    },
    {
     "name": "stderr",
     "output_type": "stream",
     "text": [
      "Epoch 16/100: 100%|██████████| 1094/1094 [00:51<00:00, 21.36it/s, acc=0.928, loss=0.281]"
     ]
    },
    {
     "name": "stdout",
     "output_type": "stream",
     "text": [
      "Training Loss: 0.281 Acc: 0.928\n"
     ]
    },
    {
     "name": "stderr",
     "output_type": "stream",
     "text": [
      "\n"
     ]
    },
    {
     "name": "stdout",
     "output_type": "stream",
     "text": [
      "Validation Loss: 0.198 Acc: 0.952\n"
     ]
    },
    {
     "name": "stderr",
     "output_type": "stream",
     "text": [
      "Epoch 17/100: 100%|██████████| 1094/1094 [00:51<00:00, 21.20it/s, acc=0.926, loss=0.277]"
     ]
    },
    {
     "name": "stdout",
     "output_type": "stream",
     "text": [
      "Training Loss: 0.277 Acc: 0.926\n"
     ]
    },
    {
     "name": "stderr",
     "output_type": "stream",
     "text": [
      "\n"
     ]
    },
    {
     "name": "stdout",
     "output_type": "stream",
     "text": [
      "Validation Loss: 0.189 Acc: 0.955\n",
      "Best model saved at epoch 17 with validation accuracy: 0.955\n"
     ]
    },
    {
     "name": "stderr",
     "output_type": "stream",
     "text": [
      "Epoch 18/100: 100%|██████████| 1094/1094 [00:51<00:00, 21.08it/s, acc=0.931, loss=0.265]"
     ]
    },
    {
     "name": "stdout",
     "output_type": "stream",
     "text": [
      "Training Loss: 0.265 Acc: 0.931\n"
     ]
    },
    {
     "name": "stderr",
     "output_type": "stream",
     "text": [
      "\n"
     ]
    },
    {
     "name": "stdout",
     "output_type": "stream",
     "text": [
      "Validation Loss: 0.185 Acc: 0.957\n",
      "Best model saved at epoch 18 with validation accuracy: 0.957\n"
     ]
    },
    {
     "name": "stderr",
     "output_type": "stream",
     "text": [
      "Epoch 19/100: 100%|██████████| 1094/1094 [00:52<00:00, 20.92it/s, acc=0.931, loss=0.259]"
     ]
    },
    {
     "name": "stdout",
     "output_type": "stream",
     "text": [
      "Training Loss: 0.259 Acc: 0.931\n"
     ]
    },
    {
     "name": "stderr",
     "output_type": "stream",
     "text": [
      "\n"
     ]
    },
    {
     "name": "stdout",
     "output_type": "stream",
     "text": [
      "Validation Loss: 0.178 Acc: 0.958\n",
      "Best model saved at epoch 19 with validation accuracy: 0.958\n"
     ]
    },
    {
     "name": "stderr",
     "output_type": "stream",
     "text": [
      "Epoch 20/100: 100%|██████████| 1094/1094 [00:51<00:00, 21.10it/s, acc=0.931, loss=0.255]"
     ]
    },
    {
     "name": "stdout",
     "output_type": "stream",
     "text": [
      "Training Loss: 0.255 Acc: 0.931\n"
     ]
    },
    {
     "name": "stderr",
     "output_type": "stream",
     "text": [
      "\n"
     ]
    },
    {
     "name": "stdout",
     "output_type": "stream",
     "text": [
      "Validation Loss: 0.174 Acc: 0.958\n",
      "Best model saved at epoch 20 with validation accuracy: 0.958\n"
     ]
    },
    {
     "name": "stderr",
     "output_type": "stream",
     "text": [
      "Epoch 21/100: 100%|██████████| 1094/1094 [00:51<00:00, 21.13it/s, acc=0.933, loss=0.248]"
     ]
    },
    {
     "name": "stdout",
     "output_type": "stream",
     "text": [
      "Training Loss: 0.248 Acc: 0.933\n"
     ]
    },
    {
     "name": "stderr",
     "output_type": "stream",
     "text": [
      "\n"
     ]
    },
    {
     "name": "stdout",
     "output_type": "stream",
     "text": [
      "Validation Loss: 0.170 Acc: 0.959\n",
      "Best model saved at epoch 21 with validation accuracy: 0.959\n"
     ]
    },
    {
     "name": "stderr",
     "output_type": "stream",
     "text": [
      "Epoch 22/100: 100%|██████████| 1094/1094 [00:51<00:00, 21.29it/s, acc=0.934, loss=0.244]"
     ]
    },
    {
     "name": "stdout",
     "output_type": "stream",
     "text": [
      "Training Loss: 0.244 Acc: 0.934\n"
     ]
    },
    {
     "name": "stderr",
     "output_type": "stream",
     "text": [
      "\n"
     ]
    },
    {
     "name": "stdout",
     "output_type": "stream",
     "text": [
      "Validation Loss: 0.166 Acc: 0.958\n"
     ]
    },
    {
     "name": "stderr",
     "output_type": "stream",
     "text": [
      "Epoch 23/100: 100%|██████████| 1094/1094 [00:51<00:00, 21.18it/s, acc=0.935, loss=0.238]\n"
     ]
    },
    {
     "name": "stdout",
     "output_type": "stream",
     "text": [
      "Training Loss: 0.238 Acc: 0.935\n",
      "Validation Loss: 0.161 Acc: 0.960\n",
      "Best model saved at epoch 23 with validation accuracy: 0.960\n"
     ]
    },
    {
     "name": "stderr",
     "output_type": "stream",
     "text": [
      "Epoch 24/100: 100%|██████████| 1094/1094 [00:51<00:00, 21.04it/s, acc=0.936, loss=0.234]\n"
     ]
    },
    {
     "name": "stdout",
     "output_type": "stream",
     "text": [
      "Training Loss: 0.234 Acc: 0.936\n",
      "Validation Loss: 0.160 Acc: 0.959\n"
     ]
    },
    {
     "name": "stderr",
     "output_type": "stream",
     "text": [
      "Epoch 25/100: 100%|██████████| 1094/1094 [00:51<00:00, 21.07it/s, acc=0.937, loss=0.229]"
     ]
    },
    {
     "name": "stdout",
     "output_type": "stream",
     "text": [
      "Training Loss: 0.229 Acc: 0.937\n"
     ]
    },
    {
     "name": "stderr",
     "output_type": "stream",
     "text": [
      "\n"
     ]
    },
    {
     "name": "stdout",
     "output_type": "stream",
     "text": [
      "Validation Loss: 0.152 Acc: 0.963\n",
      "Best model saved at epoch 25 with validation accuracy: 0.963\n"
     ]
    },
    {
     "name": "stderr",
     "output_type": "stream",
     "text": [
      "Epoch 26/100: 100%|██████████| 1094/1094 [00:50<00:00, 21.47it/s, acc=0.938, loss=0.225]"
     ]
    },
    {
     "name": "stdout",
     "output_type": "stream",
     "text": [
      "Training Loss: 0.225 Acc: 0.938\n"
     ]
    },
    {
     "name": "stderr",
     "output_type": "stream",
     "text": [
      "\n"
     ]
    },
    {
     "name": "stdout",
     "output_type": "stream",
     "text": [
      "Validation Loss: 0.153 Acc: 0.961\n"
     ]
    },
    {
     "name": "stderr",
     "output_type": "stream",
     "text": [
      "Epoch 27/100: 100%|██████████| 1094/1094 [00:51<00:00, 21.23it/s, acc=0.936, loss=0.226]"
     ]
    },
    {
     "name": "stdout",
     "output_type": "stream",
     "text": [
      "Training Loss: 0.226 Acc: 0.936\n"
     ]
    },
    {
     "name": "stderr",
     "output_type": "stream",
     "text": [
      "\n"
     ]
    },
    {
     "name": "stdout",
     "output_type": "stream",
     "text": [
      "Validation Loss: 0.153 Acc: 0.961\n"
     ]
    },
    {
     "name": "stderr",
     "output_type": "stream",
     "text": [
      "Epoch 28/100: 100%|██████████| 1094/1094 [00:51<00:00, 21.19it/s, acc=0.936, loss=0.222]"
     ]
    },
    {
     "name": "stdout",
     "output_type": "stream",
     "text": [
      "Training Loss: 0.222 Acc: 0.936\n"
     ]
    },
    {
     "name": "stderr",
     "output_type": "stream",
     "text": [
      "\n"
     ]
    },
    {
     "name": "stdout",
     "output_type": "stream",
     "text": [
      "Validation Loss: 0.147 Acc: 0.962\n"
     ]
    },
    {
     "name": "stderr",
     "output_type": "stream",
     "text": [
      "Epoch 29/100: 100%|██████████| 1094/1094 [00:51<00:00, 21.08it/s, acc=0.94, loss=0.215]"
     ]
    },
    {
     "name": "stdout",
     "output_type": "stream",
     "text": [
      "Training Loss: 0.215 Acc: 0.940\n"
     ]
    },
    {
     "name": "stderr",
     "output_type": "stream",
     "text": [
      "\n"
     ]
    },
    {
     "name": "stdout",
     "output_type": "stream",
     "text": [
      "Validation Loss: 0.143 Acc: 0.965\n",
      "Best model saved at epoch 29 with validation accuracy: 0.965\n"
     ]
    },
    {
     "name": "stderr",
     "output_type": "stream",
     "text": [
      "Epoch 30/100: 100%|██████████| 1094/1094 [00:52<00:00, 20.67it/s, acc=0.939, loss=0.214]"
     ]
    },
    {
     "name": "stdout",
     "output_type": "stream",
     "text": [
      "Training Loss: 0.214 Acc: 0.939\n"
     ]
    },
    {
     "name": "stderr",
     "output_type": "stream",
     "text": [
      "\n"
     ]
    },
    {
     "name": "stdout",
     "output_type": "stream",
     "text": [
      "Validation Loss: 0.141 Acc: 0.963\n"
     ]
    },
    {
     "name": "stderr",
     "output_type": "stream",
     "text": [
      "Epoch 31/100: 100%|██████████| 1094/1094 [00:51<00:00, 21.05it/s, acc=0.94, loss=0.211]"
     ]
    },
    {
     "name": "stdout",
     "output_type": "stream",
     "text": [
      "Training Loss: 0.211 Acc: 0.940\n"
     ]
    },
    {
     "name": "stderr",
     "output_type": "stream",
     "text": [
      "\n"
     ]
    },
    {
     "name": "stdout",
     "output_type": "stream",
     "text": [
      "Validation Loss: 0.140 Acc: 0.963\n"
     ]
    },
    {
     "name": "stderr",
     "output_type": "stream",
     "text": [
      "Epoch 32/100: 100%|██████████| 1094/1094 [00:51<00:00, 21.30it/s, acc=0.942, loss=0.207]"
     ]
    },
    {
     "name": "stdout",
     "output_type": "stream",
     "text": [
      "Training Loss: 0.207 Acc: 0.942\n"
     ]
    },
    {
     "name": "stderr",
     "output_type": "stream",
     "text": [
      "\n"
     ]
    },
    {
     "name": "stdout",
     "output_type": "stream",
     "text": [
      "Validation Loss: 0.137 Acc: 0.964\n"
     ]
    },
    {
     "name": "stderr",
     "output_type": "stream",
     "text": [
      "Epoch 33/100: 100%|██████████| 1094/1094 [00:51<00:00, 21.13it/s, acc=0.941, loss=0.206]"
     ]
    },
    {
     "name": "stdout",
     "output_type": "stream",
     "text": [
      "Training Loss: 0.206 Acc: 0.941\n"
     ]
    },
    {
     "name": "stderr",
     "output_type": "stream",
     "text": [
      "\n"
     ]
    },
    {
     "name": "stdout",
     "output_type": "stream",
     "text": [
      "Validation Loss: 0.135 Acc: 0.963\n"
     ]
    },
    {
     "name": "stderr",
     "output_type": "stream",
     "text": [
      "Epoch 34/100: 100%|██████████| 1094/1094 [00:51<00:00, 21.16it/s, acc=0.941, loss=0.205]\n"
     ]
    },
    {
     "name": "stdout",
     "output_type": "stream",
     "text": [
      "Training Loss: 0.205 Acc: 0.941\n",
      "Validation Loss: 0.133 Acc: 0.966\n",
      "Best model saved at epoch 34 with validation accuracy: 0.966\n"
     ]
    },
    {
     "name": "stderr",
     "output_type": "stream",
     "text": [
      "Epoch 35/100: 100%|██████████| 1094/1094 [00:51<00:00, 21.19it/s, acc=0.94, loss=0.205]"
     ]
    },
    {
     "name": "stdout",
     "output_type": "stream",
     "text": [
      "Training Loss: 0.205 Acc: 0.940\n"
     ]
    },
    {
     "name": "stderr",
     "output_type": "stream",
     "text": [
      "\n"
     ]
    },
    {
     "name": "stdout",
     "output_type": "stream",
     "text": [
      "Validation Loss: 0.131 Acc: 0.965\n"
     ]
    },
    {
     "name": "stderr",
     "output_type": "stream",
     "text": [
      "Epoch 36/100: 100%|██████████| 1094/1094 [00:51<00:00, 21.18it/s, acc=0.942, loss=0.201]"
     ]
    },
    {
     "name": "stdout",
     "output_type": "stream",
     "text": [
      "Training Loss: 0.201 Acc: 0.942\n"
     ]
    },
    {
     "name": "stderr",
     "output_type": "stream",
     "text": [
      "\n"
     ]
    },
    {
     "name": "stdout",
     "output_type": "stream",
     "text": [
      "Validation Loss: 0.128 Acc: 0.966\n",
      "Best model saved at epoch 36 with validation accuracy: 0.966\n"
     ]
    },
    {
     "name": "stderr",
     "output_type": "stream",
     "text": [
      "Epoch 37/100: 100%|██████████| 1094/1094 [00:52<00:00, 20.82it/s, acc=0.942, loss=0.199]"
     ]
    },
    {
     "name": "stdout",
     "output_type": "stream",
     "text": [
      "Training Loss: 0.199 Acc: 0.942\n"
     ]
    },
    {
     "name": "stderr",
     "output_type": "stream",
     "text": [
      "\n"
     ]
    },
    {
     "name": "stdout",
     "output_type": "stream",
     "text": [
      "Validation Loss: 0.129 Acc: 0.965\n"
     ]
    },
    {
     "name": "stderr",
     "output_type": "stream",
     "text": [
      "Epoch 38/100: 100%|██████████| 1094/1094 [00:51<00:00, 21.36it/s, acc=0.943, loss=0.196]"
     ]
    },
    {
     "name": "stdout",
     "output_type": "stream",
     "text": [
      "Training Loss: 0.196 Acc: 0.943\n"
     ]
    },
    {
     "name": "stderr",
     "output_type": "stream",
     "text": [
      "\n"
     ]
    },
    {
     "name": "stdout",
     "output_type": "stream",
     "text": [
      "Validation Loss: 0.125 Acc: 0.968\n",
      "Best model saved at epoch 38 with validation accuracy: 0.968\n"
     ]
    },
    {
     "name": "stderr",
     "output_type": "stream",
     "text": [
      "Epoch 39/100: 100%|██████████| 1094/1094 [00:51<00:00, 21.29it/s, acc=0.942, loss=0.197]\n"
     ]
    },
    {
     "name": "stdout",
     "output_type": "stream",
     "text": [
      "Training Loss: 0.197 Acc: 0.942\n",
      "Validation Loss: 0.129 Acc: 0.965\n"
     ]
    },
    {
     "name": "stderr",
     "output_type": "stream",
     "text": [
      "Epoch 40/100: 100%|██████████| 1094/1094 [00:51<00:00, 21.30it/s, acc=0.942, loss=0.197]"
     ]
    },
    {
     "name": "stdout",
     "output_type": "stream",
     "text": [
      "Training Loss: 0.197 Acc: 0.942\n"
     ]
    },
    {
     "name": "stderr",
     "output_type": "stream",
     "text": [
      "\n"
     ]
    },
    {
     "name": "stdout",
     "output_type": "stream",
     "text": [
      "Validation Loss: 0.123 Acc: 0.967\n"
     ]
    },
    {
     "name": "stderr",
     "output_type": "stream",
     "text": [
      "Epoch 41/100: 100%|██████████| 1094/1094 [00:50<00:00, 21.48it/s, acc=0.941, loss=0.194]"
     ]
    },
    {
     "name": "stdout",
     "output_type": "stream",
     "text": [
      "Training Loss: 0.194 Acc: 0.941\n"
     ]
    },
    {
     "name": "stderr",
     "output_type": "stream",
     "text": [
      "\n"
     ]
    },
    {
     "name": "stdout",
     "output_type": "stream",
     "text": [
      "Validation Loss: 0.124 Acc: 0.966\n"
     ]
    },
    {
     "name": "stderr",
     "output_type": "stream",
     "text": [
      "Epoch 42/100: 100%|██████████| 1094/1094 [00:51<00:00, 21.04it/s, acc=0.943, loss=0.194]"
     ]
    },
    {
     "name": "stdout",
     "output_type": "stream",
     "text": [
      "Training Loss: 0.194 Acc: 0.943\n"
     ]
    },
    {
     "name": "stderr",
     "output_type": "stream",
     "text": [
      "\n"
     ]
    },
    {
     "name": "stdout",
     "output_type": "stream",
     "text": [
      "Validation Loss: 0.123 Acc: 0.966\n"
     ]
    },
    {
     "name": "stderr",
     "output_type": "stream",
     "text": [
      "Epoch 43/100: 100%|██████████| 1094/1094 [00:51<00:00, 21.36it/s, acc=0.943, loss=0.192]"
     ]
    },
    {
     "name": "stdout",
     "output_type": "stream",
     "text": [
      "Training Loss: 0.192 Acc: 0.943\n"
     ]
    },
    {
     "name": "stderr",
     "output_type": "stream",
     "text": [
      "\n"
     ]
    },
    {
     "name": "stdout",
     "output_type": "stream",
     "text": [
      "Validation Loss: 0.119 Acc: 0.969\n",
      "Best model saved at epoch 43 with validation accuracy: 0.969\n"
     ]
    },
    {
     "name": "stderr",
     "output_type": "stream",
     "text": [
      "Epoch 44/100: 100%|██████████| 1094/1094 [00:50<00:00, 21.47it/s, acc=0.944, loss=0.19]"
     ]
    },
    {
     "name": "stdout",
     "output_type": "stream",
     "text": [
      "Training Loss: 0.190 Acc: 0.944\n"
     ]
    },
    {
     "name": "stderr",
     "output_type": "stream",
     "text": [
      "\n"
     ]
    },
    {
     "name": "stdout",
     "output_type": "stream",
     "text": [
      "Validation Loss: 0.118 Acc: 0.968\n"
     ]
    },
    {
     "name": "stderr",
     "output_type": "stream",
     "text": [
      "Epoch 45/100: 100%|██████████| 1094/1094 [00:51<00:00, 21.38it/s, acc=0.944, loss=0.186]"
     ]
    },
    {
     "name": "stdout",
     "output_type": "stream",
     "text": [
      "Training Loss: 0.186 Acc: 0.944\n"
     ]
    },
    {
     "name": "stderr",
     "output_type": "stream",
     "text": [
      "\n"
     ]
    },
    {
     "name": "stdout",
     "output_type": "stream",
     "text": [
      "Validation Loss: 0.118 Acc: 0.967\n"
     ]
    },
    {
     "name": "stderr",
     "output_type": "stream",
     "text": [
      "Epoch 46/100: 100%|██████████| 1094/1094 [00:51<00:00, 21.07it/s, acc=0.945, loss=0.184]\n"
     ]
    },
    {
     "name": "stdout",
     "output_type": "stream",
     "text": [
      "Training Loss: 0.184 Acc: 0.945\n",
      "Validation Loss: 0.119 Acc: 0.967\n"
     ]
    },
    {
     "name": "stderr",
     "output_type": "stream",
     "text": [
      "Epoch 47/100: 100%|██████████| 1094/1094 [00:52<00:00, 21.03it/s, acc=0.943, loss=0.189]"
     ]
    },
    {
     "name": "stdout",
     "output_type": "stream",
     "text": [
      "Training Loss: 0.189 Acc: 0.943\n"
     ]
    },
    {
     "name": "stderr",
     "output_type": "stream",
     "text": [
      "\n"
     ]
    },
    {
     "name": "stdout",
     "output_type": "stream",
     "text": [
      "Validation Loss: 0.116 Acc: 0.968\n"
     ]
    },
    {
     "name": "stderr",
     "output_type": "stream",
     "text": [
      "Epoch 48/100: 100%|██████████| 1094/1094 [00:51<00:00, 21.15it/s, acc=0.944, loss=0.185]\n"
     ]
    },
    {
     "name": "stdout",
     "output_type": "stream",
     "text": [
      "Training Loss: 0.185 Acc: 0.944\n",
      "Validation Loss: 0.121 Acc: 0.965\n"
     ]
    },
    {
     "name": "stderr",
     "output_type": "stream",
     "text": [
      "Epoch 49/100: 100%|██████████| 1094/1094 [00:51<00:00, 21.41it/s, acc=0.946, loss=0.183]"
     ]
    },
    {
     "name": "stdout",
     "output_type": "stream",
     "text": [
      "Training Loss: 0.183 Acc: 0.946\n"
     ]
    },
    {
     "name": "stderr",
     "output_type": "stream",
     "text": [
      "\n"
     ]
    },
    {
     "name": "stdout",
     "output_type": "stream",
     "text": [
      "Validation Loss: 0.115 Acc: 0.969\n",
      "Best model saved at epoch 49 with validation accuracy: 0.969\n"
     ]
    },
    {
     "name": "stderr",
     "output_type": "stream",
     "text": [
      "Epoch 50/100: 100%|██████████| 1094/1094 [00:51<00:00, 21.36it/s, acc=0.945, loss=0.182]\n"
     ]
    },
    {
     "name": "stdout",
     "output_type": "stream",
     "text": [
      "Training Loss: 0.182 Acc: 0.945\n",
      "Validation Loss: 0.114 Acc: 0.967\n"
     ]
    },
    {
     "name": "stderr",
     "output_type": "stream",
     "text": [
      "Epoch 51/100: 100%|██████████| 1094/1094 [00:51<00:00, 21.15it/s, acc=0.946, loss=0.179]"
     ]
    },
    {
     "name": "stdout",
     "output_type": "stream",
     "text": [
      "Training Loss: 0.179 Acc: 0.946\n"
     ]
    },
    {
     "name": "stderr",
     "output_type": "stream",
     "text": [
      "\n"
     ]
    },
    {
     "name": "stdout",
     "output_type": "stream",
     "text": [
      "Validation Loss: 0.111 Acc: 0.969\n",
      "Best model saved at epoch 51 with validation accuracy: 0.969\n"
     ]
    },
    {
     "name": "stderr",
     "output_type": "stream",
     "text": [
      "Epoch 52/100: 100%|██████████| 1094/1094 [00:52<00:00, 20.91it/s, acc=0.948, loss=0.179]"
     ]
    },
    {
     "name": "stdout",
     "output_type": "stream",
     "text": [
      "Training Loss: 0.179 Acc: 0.948\n"
     ]
    },
    {
     "name": "stderr",
     "output_type": "stream",
     "text": [
      "\n"
     ]
    },
    {
     "name": "stdout",
     "output_type": "stream",
     "text": [
      "Validation Loss: 0.113 Acc: 0.969\n",
      "Best model saved at epoch 52 with validation accuracy: 0.969\n"
     ]
    },
    {
     "name": "stderr",
     "output_type": "stream",
     "text": [
      "Epoch 53/100: 100%|██████████| 1094/1094 [00:52<00:00, 20.79it/s, acc=0.947, loss=0.179]"
     ]
    },
    {
     "name": "stdout",
     "output_type": "stream",
     "text": [
      "Training Loss: 0.179 Acc: 0.947\n"
     ]
    },
    {
     "name": "stderr",
     "output_type": "stream",
     "text": [
      "\n"
     ]
    },
    {
     "name": "stdout",
     "output_type": "stream",
     "text": [
      "Validation Loss: 0.112 Acc: 0.969\n",
      "Best model saved at epoch 53 with validation accuracy: 0.969\n"
     ]
    },
    {
     "name": "stderr",
     "output_type": "stream",
     "text": [
      "Epoch 54/100: 100%|██████████| 1094/1094 [00:52<00:00, 20.91it/s, acc=0.945, loss=0.18]"
     ]
    },
    {
     "name": "stdout",
     "output_type": "stream",
     "text": [
      "Training Loss: 0.180 Acc: 0.945\n"
     ]
    },
    {
     "name": "stderr",
     "output_type": "stream",
     "text": [
      "\n"
     ]
    },
    {
     "name": "stdout",
     "output_type": "stream",
     "text": [
      "Validation Loss: 0.112 Acc: 0.969\n"
     ]
    },
    {
     "name": "stderr",
     "output_type": "stream",
     "text": [
      "Epoch 55/100: 100%|██████████| 1094/1094 [00:51<00:00, 21.25it/s, acc=0.946, loss=0.178]"
     ]
    },
    {
     "name": "stdout",
     "output_type": "stream",
     "text": [
      "Training Loss: 0.178 Acc: 0.946\n"
     ]
    },
    {
     "name": "stderr",
     "output_type": "stream",
     "text": [
      "\n"
     ]
    },
    {
     "name": "stdout",
     "output_type": "stream",
     "text": [
      "Validation Loss: 0.112 Acc: 0.968\n"
     ]
    },
    {
     "name": "stderr",
     "output_type": "stream",
     "text": [
      "Epoch 56/100: 100%|██████████| 1094/1094 [00:51<00:00, 21.07it/s, acc=0.946, loss=0.178]"
     ]
    },
    {
     "name": "stdout",
     "output_type": "stream",
     "text": [
      "Training Loss: 0.178 Acc: 0.946\n"
     ]
    },
    {
     "name": "stderr",
     "output_type": "stream",
     "text": [
      "\n"
     ]
    },
    {
     "name": "stdout",
     "output_type": "stream",
     "text": [
      "Validation Loss: 0.108 Acc: 0.970\n",
      "Best model saved at epoch 56 with validation accuracy: 0.970\n"
     ]
    },
    {
     "name": "stderr",
     "output_type": "stream",
     "text": [
      "Epoch 57/100: 100%|██████████| 1094/1094 [00:51<00:00, 21.33it/s, acc=0.946, loss=0.174]"
     ]
    },
    {
     "name": "stdout",
     "output_type": "stream",
     "text": [
      "Training Loss: 0.174 Acc: 0.946\n"
     ]
    },
    {
     "name": "stderr",
     "output_type": "stream",
     "text": [
      "\n"
     ]
    },
    {
     "name": "stdout",
     "output_type": "stream",
     "text": [
      "Validation Loss: 0.110 Acc: 0.968\n"
     ]
    },
    {
     "name": "stderr",
     "output_type": "stream",
     "text": [
      "Epoch 58/100: 100%|██████████| 1094/1094 [00:51<00:00, 21.06it/s, acc=0.945, loss=0.176]"
     ]
    },
    {
     "name": "stdout",
     "output_type": "stream",
     "text": [
      "Training Loss: 0.176 Acc: 0.945\n"
     ]
    },
    {
     "name": "stderr",
     "output_type": "stream",
     "text": [
      "\n"
     ]
    },
    {
     "name": "stdout",
     "output_type": "stream",
     "text": [
      "Validation Loss: 0.107 Acc: 0.969\n"
     ]
    },
    {
     "name": "stderr",
     "output_type": "stream",
     "text": [
      "Epoch 59/100: 100%|██████████| 1094/1094 [00:51<00:00, 21.16it/s, acc=0.945, loss=0.174]"
     ]
    },
    {
     "name": "stdout",
     "output_type": "stream",
     "text": [
      "Training Loss: 0.174 Acc: 0.945\n"
     ]
    },
    {
     "name": "stderr",
     "output_type": "stream",
     "text": [
      "\n"
     ]
    },
    {
     "name": "stdout",
     "output_type": "stream",
     "text": [
      "Validation Loss: 0.112 Acc: 0.968\n"
     ]
    },
    {
     "name": "stderr",
     "output_type": "stream",
     "text": [
      "Epoch 60/100: 100%|██████████| 1094/1094 [00:51<00:00, 21.04it/s, acc=0.946, loss=0.175]"
     ]
    },
    {
     "name": "stdout",
     "output_type": "stream",
     "text": [
      "Training Loss: 0.175 Acc: 0.946\n"
     ]
    },
    {
     "name": "stderr",
     "output_type": "stream",
     "text": [
      "\n"
     ]
    },
    {
     "name": "stdout",
     "output_type": "stream",
     "text": [
      "Validation Loss: 0.106 Acc: 0.969\n"
     ]
    },
    {
     "name": "stderr",
     "output_type": "stream",
     "text": [
      "Epoch 61/100: 100%|██████████| 1094/1094 [00:53<00:00, 20.64it/s, acc=0.946, loss=0.174]"
     ]
    },
    {
     "name": "stdout",
     "output_type": "stream",
     "text": [
      "Training Loss: 0.174 Acc: 0.946\n"
     ]
    },
    {
     "name": "stderr",
     "output_type": "stream",
     "text": [
      "\n"
     ]
    },
    {
     "name": "stdout",
     "output_type": "stream",
     "text": [
      "Validation Loss: 0.107 Acc: 0.970\n"
     ]
    },
    {
     "name": "stderr",
     "output_type": "stream",
     "text": [
      "Epoch 62/100: 100%|██████████| 1094/1094 [00:54<00:00, 20.14it/s, acc=0.947, loss=0.171]"
     ]
    },
    {
     "name": "stdout",
     "output_type": "stream",
     "text": [
      "Training Loss: 0.171 Acc: 0.947\n"
     ]
    },
    {
     "name": "stderr",
     "output_type": "stream",
     "text": [
      "\n"
     ]
    },
    {
     "name": "stdout",
     "output_type": "stream",
     "text": [
      "Validation Loss: 0.103 Acc: 0.971\n",
      "Best model saved at epoch 62 with validation accuracy: 0.971\n"
     ]
    },
    {
     "name": "stderr",
     "output_type": "stream",
     "text": [
      "Epoch 63/100: 100%|██████████| 1094/1094 [00:52<00:00, 21.02it/s, acc=0.948, loss=0.169]"
     ]
    },
    {
     "name": "stdout",
     "output_type": "stream",
     "text": [
      "Training Loss: 0.169 Acc: 0.948\n"
     ]
    },
    {
     "name": "stderr",
     "output_type": "stream",
     "text": [
      "\n"
     ]
    },
    {
     "name": "stdout",
     "output_type": "stream",
     "text": [
      "Validation Loss: 0.104 Acc: 0.970\n"
     ]
    },
    {
     "name": "stderr",
     "output_type": "stream",
     "text": [
      "Epoch 64/100: 100%|██████████| 1094/1094 [00:52<00:00, 20.89it/s, acc=0.947, loss=0.17]\n"
     ]
    },
    {
     "name": "stdout",
     "output_type": "stream",
     "text": [
      "Training Loss: 0.170 Acc: 0.947\n",
      "Validation Loss: 0.102 Acc: 0.971\n",
      "Best model saved at epoch 64 with validation accuracy: 0.971\n"
     ]
    },
    {
     "name": "stderr",
     "output_type": "stream",
     "text": [
      "Epoch 65/100: 100%|██████████| 1094/1094 [00:51<00:00, 21.04it/s, acc=0.947, loss=0.174]"
     ]
    },
    {
     "name": "stdout",
     "output_type": "stream",
     "text": [
      "Training Loss: 0.174 Acc: 0.947\n"
     ]
    },
    {
     "name": "stderr",
     "output_type": "stream",
     "text": [
      "\n"
     ]
    },
    {
     "name": "stdout",
     "output_type": "stream",
     "text": [
      "Validation Loss: 0.101 Acc: 0.972\n",
      "Best model saved at epoch 65 with validation accuracy: 0.972\n"
     ]
    },
    {
     "name": "stderr",
     "output_type": "stream",
     "text": [
      "Epoch 66/100: 100%|██████████| 1094/1094 [00:52<00:00, 20.82it/s, acc=0.948, loss=0.167]"
     ]
    },
    {
     "name": "stdout",
     "output_type": "stream",
     "text": [
      "Training Loss: 0.167 Acc: 0.948\n"
     ]
    },
    {
     "name": "stderr",
     "output_type": "stream",
     "text": [
      "\n"
     ]
    },
    {
     "name": "stdout",
     "output_type": "stream",
     "text": [
      "Validation Loss: 0.104 Acc: 0.971\n"
     ]
    },
    {
     "name": "stderr",
     "output_type": "stream",
     "text": [
      "Epoch 67/100: 100%|██████████| 1094/1094 [00:52<00:00, 20.77it/s, acc=0.948, loss=0.168]"
     ]
    },
    {
     "name": "stdout",
     "output_type": "stream",
     "text": [
      "Training Loss: 0.168 Acc: 0.948\n"
     ]
    },
    {
     "name": "stderr",
     "output_type": "stream",
     "text": [
      "\n"
     ]
    },
    {
     "name": "stdout",
     "output_type": "stream",
     "text": [
      "Validation Loss: 0.102 Acc: 0.970\n"
     ]
    },
    {
     "name": "stderr",
     "output_type": "stream",
     "text": [
      "Epoch 68/100: 100%|██████████| 1094/1094 [00:52<00:00, 21.01it/s, acc=0.948, loss=0.169]"
     ]
    },
    {
     "name": "stdout",
     "output_type": "stream",
     "text": [
      "Training Loss: 0.169 Acc: 0.948\n"
     ]
    },
    {
     "name": "stderr",
     "output_type": "stream",
     "text": [
      "\n"
     ]
    },
    {
     "name": "stdout",
     "output_type": "stream",
     "text": [
      "Validation Loss: 0.102 Acc: 0.970\n"
     ]
    },
    {
     "name": "stderr",
     "output_type": "stream",
     "text": [
      "Epoch 69/100: 100%|██████████| 1094/1094 [00:52<00:00, 20.78it/s, acc=0.948, loss=0.166]"
     ]
    },
    {
     "name": "stdout",
     "output_type": "stream",
     "text": [
      "Training Loss: 0.166 Acc: 0.948\n"
     ]
    },
    {
     "name": "stderr",
     "output_type": "stream",
     "text": [
      "\n"
     ]
    },
    {
     "name": "stdout",
     "output_type": "stream",
     "text": [
      "Validation Loss: 0.102 Acc: 0.970\n"
     ]
    },
    {
     "name": "stderr",
     "output_type": "stream",
     "text": [
      "Epoch 70/100: 100%|██████████| 1094/1094 [00:52<00:00, 20.93it/s, acc=0.949, loss=0.166]"
     ]
    },
    {
     "name": "stdout",
     "output_type": "stream",
     "text": [
      "Training Loss: 0.166 Acc: 0.949\n"
     ]
    },
    {
     "name": "stderr",
     "output_type": "stream",
     "text": [
      "\n"
     ]
    },
    {
     "name": "stdout",
     "output_type": "stream",
     "text": [
      "Validation Loss: 0.101 Acc: 0.971\n"
     ]
    },
    {
     "name": "stderr",
     "output_type": "stream",
     "text": [
      "Epoch 71/100: 100%|██████████| 1094/1094 [00:50<00:00, 21.55it/s, acc=0.948, loss=0.166]"
     ]
    },
    {
     "name": "stdout",
     "output_type": "stream",
     "text": [
      "Training Loss: 0.166 Acc: 0.948\n"
     ]
    },
    {
     "name": "stderr",
     "output_type": "stream",
     "text": [
      "\n"
     ]
    },
    {
     "name": "stdout",
     "output_type": "stream",
     "text": [
      "Validation Loss: 0.099 Acc: 0.971\n"
     ]
    },
    {
     "name": "stderr",
     "output_type": "stream",
     "text": [
      "Epoch 72/100: 100%|██████████| 1094/1094 [00:51<00:00, 21.17it/s, acc=0.948, loss=0.166]\n"
     ]
    },
    {
     "name": "stdout",
     "output_type": "stream",
     "text": [
      "Training Loss: 0.166 Acc: 0.948\n",
      "Validation Loss: 0.100 Acc: 0.971\n"
     ]
    },
    {
     "name": "stderr",
     "output_type": "stream",
     "text": [
      "Epoch 73/100: 100%|██████████| 1094/1094 [00:51<00:00, 21.12it/s, acc=0.949, loss=0.164]"
     ]
    },
    {
     "name": "stdout",
     "output_type": "stream",
     "text": [
      "Training Loss: 0.164 Acc: 0.949\n"
     ]
    },
    {
     "name": "stderr",
     "output_type": "stream",
     "text": [
      "\n"
     ]
    },
    {
     "name": "stdout",
     "output_type": "stream",
     "text": [
      "Validation Loss: 0.097 Acc: 0.974\n",
      "Best model saved at epoch 73 with validation accuracy: 0.974\n"
     ]
    },
    {
     "name": "stderr",
     "output_type": "stream",
     "text": [
      "Epoch 74/100: 100%|██████████| 1094/1094 [00:51<00:00, 21.07it/s, acc=0.949, loss=0.162]"
     ]
    },
    {
     "name": "stdout",
     "output_type": "stream",
     "text": [
      "Training Loss: 0.162 Acc: 0.949\n"
     ]
    },
    {
     "name": "stderr",
     "output_type": "stream",
     "text": [
      "\n"
     ]
    },
    {
     "name": "stdout",
     "output_type": "stream",
     "text": [
      "Validation Loss: 0.098 Acc: 0.972\n"
     ]
    },
    {
     "name": "stderr",
     "output_type": "stream",
     "text": [
      "Epoch 75/100: 100%|██████████| 1094/1094 [00:52<00:00, 20.65it/s, acc=0.948, loss=0.166]\n"
     ]
    },
    {
     "name": "stdout",
     "output_type": "stream",
     "text": [
      "Training Loss: 0.166 Acc: 0.948\n",
      "Validation Loss: 0.098 Acc: 0.971\n"
     ]
    },
    {
     "name": "stderr",
     "output_type": "stream",
     "text": [
      "Epoch 76/100: 100%|██████████| 1094/1094 [00:51<00:00, 21.27it/s, acc=0.948, loss=0.165]\n"
     ]
    },
    {
     "name": "stdout",
     "output_type": "stream",
     "text": [
      "Training Loss: 0.165 Acc: 0.948\n",
      "Validation Loss: 0.096 Acc: 0.972\n"
     ]
    },
    {
     "name": "stderr",
     "output_type": "stream",
     "text": [
      "Epoch 77/100: 100%|██████████| 1094/1094 [00:52<00:00, 20.88it/s, acc=0.949, loss=0.164]"
     ]
    },
    {
     "name": "stdout",
     "output_type": "stream",
     "text": [
      "Training Loss: 0.164 Acc: 0.949\n"
     ]
    },
    {
     "name": "stderr",
     "output_type": "stream",
     "text": [
      "\n"
     ]
    },
    {
     "name": "stdout",
     "output_type": "stream",
     "text": [
      "Validation Loss: 0.096 Acc: 0.972\n"
     ]
    },
    {
     "name": "stderr",
     "output_type": "stream",
     "text": [
      "Epoch 78/100: 100%|██████████| 1094/1094 [00:51<00:00, 21.42it/s, acc=0.948, loss=0.163]"
     ]
    },
    {
     "name": "stdout",
     "output_type": "stream",
     "text": [
      "Training Loss: 0.163 Acc: 0.948\n"
     ]
    },
    {
     "name": "stderr",
     "output_type": "stream",
     "text": [
      "\n"
     ]
    },
    {
     "name": "stdout",
     "output_type": "stream",
     "text": [
      "Validation Loss: 0.096 Acc: 0.973\n"
     ]
    },
    {
     "name": "stderr",
     "output_type": "stream",
     "text": [
      "Epoch 79/100: 100%|██████████| 1094/1094 [00:52<00:00, 20.91it/s, acc=0.949, loss=0.162]\n"
     ]
    },
    {
     "name": "stdout",
     "output_type": "stream",
     "text": [
      "Training Loss: 0.162 Acc: 0.949\n",
      "Validation Loss: 0.093 Acc: 0.973\n"
     ]
    },
    {
     "name": "stderr",
     "output_type": "stream",
     "text": [
      "Epoch 80/100: 100%|██████████| 1094/1094 [00:51<00:00, 21.37it/s, acc=0.949, loss=0.162]\n"
     ]
    },
    {
     "name": "stdout",
     "output_type": "stream",
     "text": [
      "Training Loss: 0.162 Acc: 0.949\n",
      "Validation Loss: 0.095 Acc: 0.973\n"
     ]
    },
    {
     "name": "stderr",
     "output_type": "stream",
     "text": [
      "Epoch 81/100: 100%|██████████| 1094/1094 [00:52<00:00, 20.97it/s, acc=0.95, loss=0.162]"
     ]
    },
    {
     "name": "stdout",
     "output_type": "stream",
     "text": [
      "Training Loss: 0.162 Acc: 0.950\n"
     ]
    },
    {
     "name": "stderr",
     "output_type": "stream",
     "text": [
      "\n"
     ]
    },
    {
     "name": "stdout",
     "output_type": "stream",
     "text": [
      "Validation Loss: 0.098 Acc: 0.971\n"
     ]
    },
    {
     "name": "stderr",
     "output_type": "stream",
     "text": [
      "Epoch 82/100: 100%|██████████| 1094/1094 [00:51<00:00, 21.33it/s, acc=0.949, loss=0.162]"
     ]
    },
    {
     "name": "stdout",
     "output_type": "stream",
     "text": [
      "Training Loss: 0.162 Acc: 0.949\n"
     ]
    },
    {
     "name": "stderr",
     "output_type": "stream",
     "text": [
      "\n"
     ]
    },
    {
     "name": "stdout",
     "output_type": "stream",
     "text": [
      "Validation Loss: 0.095 Acc: 0.971\n"
     ]
    },
    {
     "name": "stderr",
     "output_type": "stream",
     "text": [
      "Epoch 83/100: 100%|██████████| 1094/1094 [00:51<00:00, 21.20it/s, acc=0.95, loss=0.162]"
     ]
    },
    {
     "name": "stdout",
     "output_type": "stream",
     "text": [
      "Training Loss: 0.162 Acc: 0.950\n"
     ]
    },
    {
     "name": "stderr",
     "output_type": "stream",
     "text": [
      "\n"
     ]
    },
    {
     "name": "stdout",
     "output_type": "stream",
     "text": [
      "Validation Loss: 0.093 Acc: 0.973\n"
     ]
    },
    {
     "name": "stderr",
     "output_type": "stream",
     "text": [
      "Epoch 84/100: 100%|██████████| 1094/1094 [00:51<00:00, 21.31it/s, acc=0.949, loss=0.16]"
     ]
    },
    {
     "name": "stdout",
     "output_type": "stream",
     "text": [
      "Training Loss: 0.160 Acc: 0.949\n"
     ]
    },
    {
     "name": "stderr",
     "output_type": "stream",
     "text": [
      "\n"
     ]
    },
    {
     "name": "stdout",
     "output_type": "stream",
     "text": [
      "Validation Loss: 0.095 Acc: 0.973\n"
     ]
    },
    {
     "name": "stderr",
     "output_type": "stream",
     "text": [
      "Epoch 85/100: 100%|██████████| 1094/1094 [00:51<00:00, 21.30it/s, acc=0.951, loss=0.161]"
     ]
    },
    {
     "name": "stdout",
     "output_type": "stream",
     "text": [
      "Training Loss: 0.161 Acc: 0.951\n"
     ]
    },
    {
     "name": "stderr",
     "output_type": "stream",
     "text": [
      "\n"
     ]
    },
    {
     "name": "stdout",
     "output_type": "stream",
     "text": [
      "Validation Loss: 0.093 Acc: 0.973\n"
     ]
    },
    {
     "name": "stderr",
     "output_type": "stream",
     "text": [
      "Epoch 86/100: 100%|██████████| 1094/1094 [00:50<00:00, 21.48it/s, acc=0.949, loss=0.159]"
     ]
    },
    {
     "name": "stdout",
     "output_type": "stream",
     "text": [
      "Training Loss: 0.159 Acc: 0.949\n"
     ]
    },
    {
     "name": "stderr",
     "output_type": "stream",
     "text": [
      "\n"
     ]
    },
    {
     "name": "stdout",
     "output_type": "stream",
     "text": [
      "Validation Loss: 0.095 Acc: 0.973\n"
     ]
    },
    {
     "name": "stderr",
     "output_type": "stream",
     "text": [
      "Epoch 87/100: 100%|██████████| 1094/1094 [00:51<00:00, 21.10it/s, acc=0.95, loss=0.158]"
     ]
    },
    {
     "name": "stdout",
     "output_type": "stream",
     "text": [
      "Training Loss: 0.158 Acc: 0.950\n"
     ]
    },
    {
     "name": "stderr",
     "output_type": "stream",
     "text": [
      "\n"
     ]
    },
    {
     "name": "stdout",
     "output_type": "stream",
     "text": [
      "Validation Loss: 0.091 Acc: 0.974\n",
      "Best model saved at epoch 87 with validation accuracy: 0.974\n"
     ]
    },
    {
     "name": "stderr",
     "output_type": "stream",
     "text": [
      "Epoch 88/100: 100%|██████████| 1094/1094 [00:51<00:00, 21.44it/s, acc=0.948, loss=0.161]"
     ]
    },
    {
     "name": "stdout",
     "output_type": "stream",
     "text": [
      "Training Loss: 0.161 Acc: 0.948\n"
     ]
    },
    {
     "name": "stderr",
     "output_type": "stream",
     "text": [
      "\n"
     ]
    },
    {
     "name": "stdout",
     "output_type": "stream",
     "text": [
      "Validation Loss: 0.093 Acc: 0.974\n"
     ]
    },
    {
     "name": "stderr",
     "output_type": "stream",
     "text": [
      "Epoch 89/100: 100%|██████████| 1094/1094 [00:51<00:00, 21.36it/s, acc=0.95, loss=0.158]"
     ]
    },
    {
     "name": "stdout",
     "output_type": "stream",
     "text": [
      "Training Loss: 0.158 Acc: 0.950\n"
     ]
    },
    {
     "name": "stderr",
     "output_type": "stream",
     "text": [
      "\n"
     ]
    },
    {
     "name": "stdout",
     "output_type": "stream",
     "text": [
      "Validation Loss: 0.093 Acc: 0.972\n"
     ]
    },
    {
     "name": "stderr",
     "output_type": "stream",
     "text": [
      "Epoch 90/100: 100%|██████████| 1094/1094 [00:50<00:00, 21.62it/s, acc=0.949, loss=0.158]"
     ]
    },
    {
     "name": "stdout",
     "output_type": "stream",
     "text": [
      "Training Loss: 0.158 Acc: 0.949\n"
     ]
    },
    {
     "name": "stderr",
     "output_type": "stream",
     "text": [
      "\n"
     ]
    },
    {
     "name": "stdout",
     "output_type": "stream",
     "text": [
      "Validation Loss: 0.092 Acc: 0.973\n"
     ]
    },
    {
     "name": "stderr",
     "output_type": "stream",
     "text": [
      "Epoch 91/100: 100%|██████████| 1094/1094 [00:50<00:00, 21.46it/s, acc=0.951, loss=0.157]"
     ]
    },
    {
     "name": "stdout",
     "output_type": "stream",
     "text": [
      "Training Loss: 0.157 Acc: 0.951\n"
     ]
    },
    {
     "name": "stderr",
     "output_type": "stream",
     "text": [
      "\n"
     ]
    },
    {
     "name": "stdout",
     "output_type": "stream",
     "text": [
      "Validation Loss: 0.091 Acc: 0.974\n"
     ]
    },
    {
     "name": "stderr",
     "output_type": "stream",
     "text": [
      "Epoch 92/100: 100%|██████████| 1094/1094 [00:52<00:00, 20.82it/s, acc=0.95, loss=0.158]\n"
     ]
    },
    {
     "name": "stdout",
     "output_type": "stream",
     "text": [
      "Training Loss: 0.158 Acc: 0.950\n",
      "Validation Loss: 0.090 Acc: 0.973\n"
     ]
    },
    {
     "name": "stderr",
     "output_type": "stream",
     "text": [
      "Epoch 93/100: 100%|██████████| 1094/1094 [00:50<00:00, 21.56it/s, acc=0.949, loss=0.157]"
     ]
    },
    {
     "name": "stdout",
     "output_type": "stream",
     "text": [
      "Training Loss: 0.157 Acc: 0.949\n"
     ]
    },
    {
     "name": "stderr",
     "output_type": "stream",
     "text": [
      "\n"
     ]
    },
    {
     "name": "stdout",
     "output_type": "stream",
     "text": [
      "Validation Loss: 0.095 Acc: 0.971\n"
     ]
    },
    {
     "name": "stderr",
     "output_type": "stream",
     "text": [
      "Epoch 94/100: 100%|██████████| 1094/1094 [00:52<00:00, 21.04it/s, acc=0.949, loss=0.159]"
     ]
    },
    {
     "name": "stdout",
     "output_type": "stream",
     "text": [
      "Training Loss: 0.159 Acc: 0.949\n"
     ]
    },
    {
     "name": "stderr",
     "output_type": "stream",
     "text": [
      "\n"
     ]
    },
    {
     "name": "stdout",
     "output_type": "stream",
     "text": [
      "Validation Loss: 0.090 Acc: 0.975\n",
      "Best model saved at epoch 94 with validation accuracy: 0.975\n"
     ]
    },
    {
     "name": "stderr",
     "output_type": "stream",
     "text": [
      "Epoch 95/100: 100%|██████████| 1094/1094 [00:50<00:00, 21.55it/s, acc=0.948, loss=0.16]"
     ]
    },
    {
     "name": "stdout",
     "output_type": "stream",
     "text": [
      "Training Loss: 0.160 Acc: 0.948\n"
     ]
    },
    {
     "name": "stderr",
     "output_type": "stream",
     "text": [
      "\n"
     ]
    },
    {
     "name": "stdout",
     "output_type": "stream",
     "text": [
      "Validation Loss: 0.091 Acc: 0.974\n"
     ]
    },
    {
     "name": "stderr",
     "output_type": "stream",
     "text": [
      "Epoch 96/100: 100%|██████████| 1094/1094 [00:52<00:00, 21.04it/s, acc=0.952, loss=0.155]"
     ]
    },
    {
     "name": "stdout",
     "output_type": "stream",
     "text": [
      "Training Loss: 0.155 Acc: 0.952\n"
     ]
    },
    {
     "name": "stderr",
     "output_type": "stream",
     "text": [
      "\n"
     ]
    },
    {
     "name": "stdout",
     "output_type": "stream",
     "text": [
      "Validation Loss: 0.089 Acc: 0.974\n"
     ]
    },
    {
     "name": "stderr",
     "output_type": "stream",
     "text": [
      "Epoch 97/100: 100%|██████████| 1094/1094 [00:51<00:00, 21.27it/s, acc=0.95, loss=0.155]"
     ]
    },
    {
     "name": "stdout",
     "output_type": "stream",
     "text": [
      "Training Loss: 0.155 Acc: 0.950\n"
     ]
    },
    {
     "name": "stderr",
     "output_type": "stream",
     "text": [
      "\n"
     ]
    },
    {
     "name": "stdout",
     "output_type": "stream",
     "text": [
      "Validation Loss: 0.090 Acc: 0.973\n"
     ]
    },
    {
     "name": "stderr",
     "output_type": "stream",
     "text": [
      "Epoch 98/100: 100%|██████████| 1094/1094 [00:52<00:00, 20.92it/s, acc=0.949, loss=0.157]\n"
     ]
    },
    {
     "name": "stdout",
     "output_type": "stream",
     "text": [
      "Training Loss: 0.157 Acc: 0.949\n",
      "Validation Loss: 0.090 Acc: 0.973\n"
     ]
    },
    {
     "name": "stderr",
     "output_type": "stream",
     "text": [
      "Epoch 99/100: 100%|██████████| 1094/1094 [00:51<00:00, 21.10it/s, acc=0.951, loss=0.155]"
     ]
    },
    {
     "name": "stdout",
     "output_type": "stream",
     "text": [
      "Training Loss: 0.155 Acc: 0.951\n"
     ]
    },
    {
     "name": "stderr",
     "output_type": "stream",
     "text": [
      "\n"
     ]
    },
    {
     "name": "stdout",
     "output_type": "stream",
     "text": [
      "Validation Loss: 0.090 Acc: 0.975\n"
     ]
    },
    {
     "name": "stderr",
     "output_type": "stream",
     "text": [
      "Epoch 100/100: 100%|██████████| 1094/1094 [00:51<00:00, 21.16it/s, acc=0.951, loss=0.154]"
     ]
    },
    {
     "name": "stdout",
     "output_type": "stream",
     "text": [
      "Training Loss: 0.154 Acc: 0.951\n"
     ]
    },
    {
     "name": "stderr",
     "output_type": "stream",
     "text": [
      "\n"
     ]
    },
    {
     "name": "stdout",
     "output_type": "stream",
     "text": [
      "Validation Loss: 0.091 Acc: 0.974\n",
      "Training Time: 6692.92 seconds ---> 111.55 minutes\n"
     ]
    }
   ],
   "source": [
    "start_time = time.time()\n",
    "\n",
    "def train_model(model, criterion, optimizer, dataloader_train_dataset, dataloader_valid_dataset, num_epochs=100, save_path_checkpoints=\"checkpoints\"):\n",
    "    train_loss_history = []\n",
    "    train_acc_history = []\n",
    "    val_loss_history = []\n",
    "    val_acc_history = []\n",
    "\n",
    "    best_val_acc = 0.0\n",
    "\n",
    "    for epoch in range(num_epochs):\n",
    "        \n",
    "        model.train()\n",
    "        running_loss = 0.0\n",
    "        correct_train = 0\n",
    "        total_train = 0\n",
    "\n",
    "        progress_bar = tqdm(enumerate(dataloader_train_dataset), total=len(dataloader_train_dataset))\n",
    "        for i, (inputs, labels) in progress_bar:\n",
    "            inputs, labels = inputs.to(device), labels.to(device)\n",
    "            optimizer.zero_grad()\n",
    "            outputs = model(inputs)\n",
    "            loss = criterion(outputs, labels)\n",
    "            loss.backward()\n",
    "            optimizer.step()\n",
    "            _, predicted = torch.max(outputs, 1)\n",
    "            running_loss += loss.item() * inputs.size(0)\n",
    "            total_train += labels.size(0)\n",
    "            correct_train += (predicted == labels).sum().item()\n",
    "\n",
    "            progress_bar.set_description(f\"Epoch {epoch+1}/{num_epochs}\")\n",
    "            progress_bar.set_postfix(loss=running_loss / total_train, acc=correct_train / total_train)\n",
    "\n",
    "        epoch_train_loss = running_loss / total_train\n",
    "        epoch_train_acc = correct_train / total_train\n",
    "        train_loss_history.append(epoch_train_loss)\n",
    "        train_acc_history.append(epoch_train_acc)\n",
    "\n",
    "        print('Training Loss: {:.3f} Acc: {:.3f}'.format(epoch_train_loss, epoch_train_acc))\n",
    "\n",
    "        \n",
    "        model.eval()\n",
    "        running_loss = 0.0\n",
    "        correct_val = 0\n",
    "        total_val = 0\n",
    "\n",
    "        with torch.no_grad():\n",
    "            for inputs, labels in dataloader_valid_dataset:\n",
    "                inputs, labels = inputs.to(device), labels.to(device)\n",
    "                outputs = model(inputs)\n",
    "                loss = criterion(outputs, labels)\n",
    "                _, predicted = torch.max(outputs, 1)\n",
    "                running_loss += loss.item() * inputs.size(0)\n",
    "                total_val += labels.size(0)\n",
    "                correct_val += (predicted == labels).sum().item()\n",
    "\n",
    "        epoch_val_loss = running_loss / total_val\n",
    "        epoch_val_acc = correct_val / total_val\n",
    "        val_loss_history.append(epoch_val_loss)\n",
    "        val_acc_history.append(epoch_val_acc)\n",
    "\n",
    "        print('Validation Loss: {:.3f} Acc: {:.3f}'.format(epoch_val_loss, epoch_val_acc))\n",
    "\n",
    "        \n",
    "    \n",
    "        if epoch_val_acc > best_val_acc:\n",
    "            best_val_acc = epoch_val_acc\n",
    "            best_epoch = epoch + 1\n",
    "            filepath = f\"{save_path_checkpoints}/model.pt\"\n",
    "            checkpoint = {\n",
    "                \"epoch\": epoch + 1,\n",
    "                \"model_weight\": model.state_dict(),\n",
    "                \"optimizer_state\": optimizer.state_dict()\n",
    "            }\n",
    "            torch.save(checkpoint, filepath)\n",
    "            print(f\"Best model saved at epoch {best_epoch} with validation accuracy: {best_val_acc:.3f}\")\n",
    "\n",
    "    return train_loss_history, train_acc_history, val_loss_history, val_acc_history\n",
    "\n",
    "\n",
    "train_loss_history, train_acc_history, val_loss_history, val_acc_history = train_model(\n",
    "    model, criterion, optimizer, dataloader_train_dataset, dataloader_valid_dataset, save_path_checkpoints=save_path_checkpoints\n",
    ")\n",
    "\n",
    "end_time = time.time()\n",
    "training_time = end_time - start_time\n",
    "print(f\"Training Time: {training_time:.2f} seconds ---> {training_time/60:.2f} minutes\")\n",
    "\n",
    "data = {\n",
    "    'Epoch': list(range(1, len(train_loss_history) + 1)),\n",
    "    'Train Loss': train_loss_history,\n",
    "    'Train Accuracy': train_acc_history,\n",
    "    'Validation Loss': val_loss_history,\n",
    "    'Validation Accuracy': val_acc_history\n",
    "}\n",
    "\n",
    "history = pd.DataFrame(data)\n",
    "history.to_excel('/kaggle/working/training_data.xlsx', index=False)"
   ]
  },
  {
   "cell_type": "code",
   "execution_count": 17,
   "id": "c94ee1d8",
   "metadata": {
    "execution": {
     "iopub.execute_input": "2025-09-07T19:56:02.808255Z",
     "iopub.status.busy": "2025-09-07T19:56:02.807857Z",
     "iopub.status.idle": "2025-09-07T19:56:03.125404Z",
     "shell.execute_reply": "2025-09-07T19:56:03.124637Z"
    },
    "papermill": {
     "duration": 11.201821,
     "end_time": "2025-09-07T19:56:03.126668",
     "exception": false,
     "start_time": "2025-09-07T19:55:51.924847",
     "status": "completed"
    },
    "tags": []
   },
   "outputs": [
    {
     "data": {
      "image/png": "[encoded data removed]",
      "text/plain": [
       "<Figure size 1200x400 with 2 Axes>"
      ]
     },
     "metadata": {},
     "output_type": "display_data"
    }
   ],
   "source": [
    "history = pd.read_excel('/kaggle/working/training_data.xlsx')\n",
    "\n",
    "plt.figure(figsize=(12, 4))\n",
    "\n",
    "plt.subplot(1, 2, 1)\n",
    "plt.plot(history['Epoch'], history['Train Loss'], label='Train Loss')\n",
    "plt.plot(history['Validation Loss'], label='Validation Loss')\n",
    "plt.xlabel('Epochs')\n",
    "plt.ylabel('Loss')\n",
    "plt.legend(['Training Loss', 'Validation Loss'], loc='upper right')\n",
    "plt.ylim(0,2)\n",
    "\n",
    "plt.subplot(1, 2, 2)\n",
    "plt.plot(history['Epoch'], history['Train Accuracy'], label='Train Accuracy')\n",
    "plt.plot(history['Validation Accuracy'], label='Validation Accuracy')\n",
    "plt.xlabel('Epochs')\n",
    "plt.ylabel('Accuracy')\n",
    "plt.legend(['Training Accuracy', 'Validation Accuracy'], loc='lower right')\n",
    "plt.ylim(0,1.1)\n",
    "\n",
    "plt.show()"
   ]
  },
  {
   "cell_type": "markdown",
   "id": "9aece2bf",
   "metadata": {
    "papermill": {
     "duration": 10.943607,
     "end_time": "2025-09-07T19:56:25.368680",
     "exception": false,
     "start_time": "2025-09-07T19:56:14.425073",
     "status": "completed"
    },
    "tags": []
   },
   "source": [
    "# EVOLUTION"
   ]
  },
  {
   "cell_type": "code",
   "execution_count": 18,
   "id": "5bd766a7",
   "metadata": {
    "execution": {
     "iopub.execute_input": "2025-09-07T19:56:47.500466Z",
     "iopub.status.busy": "2025-09-07T19:56:47.500191Z",
     "iopub.status.idle": "2025-09-07T19:56:47.505504Z",
     "shell.execute_reply": "2025-09-07T19:56:47.504749Z"
    },
    "papermill": {
     "duration": 11.051905,
     "end_time": "2025-09-07T19:56:47.506635",
     "exception": false,
     "start_time": "2025-09-07T19:56:36.454730",
     "status": "completed"
    },
    "tags": []
   },
   "outputs": [],
   "source": [
    "def evaluate_model(model, criterion, dataloader):\n",
    "    model.eval()\n",
    "    running_loss = 0.0\n",
    "    correct = 0\n",
    "    total = 0\n",
    "\n",
    "    with torch.no_grad():\n",
    "        for inputs, labels in dataloader:\n",
    "            inputs, labels = inputs.to(device), labels.to(device)\n",
    "            outputs = model(inputs)\n",
    "            loss = criterion(outputs, labels)\n",
    "            _, predicted = torch.max(outputs, 1)\n",
    "            running_loss += loss.item() * inputs.size(0)\n",
    "            total += labels.size(0)\n",
    "            correct += (predicted == labels).sum().item()\n",
    "\n",
    "    loss = running_loss / total\n",
    "    accuracy = correct / total\n",
    "\n",
    "    return loss, accuracy"
   ]
  },
  {
   "cell_type": "code",
   "execution_count": 19,
   "id": "83e77f1a",
   "metadata": {
    "execution": {
     "iopub.execute_input": "2025-09-07T19:57:09.566981Z",
     "iopub.status.busy": "2025-09-07T19:57:09.566665Z",
     "iopub.status.idle": "2025-09-07T19:57:24.200091Z",
     "shell.execute_reply": "2025-09-07T19:57:24.199205Z"
    },
    "papermill": {
     "duration": 25.853584,
     "end_time": "2025-09-07T19:57:24.201271",
     "exception": false,
     "start_time": "2025-09-07T19:56:58.347687",
     "status": "completed"
    },
    "tags": []
   },
   "outputs": [
    {
     "name": "stdout",
     "output_type": "stream",
     "text": [
      "Best model (from epoch 94) - Validation Loss: 0.090, Validation Accuracy: 0.97453\n"
     ]
    }
   ],
   "source": [
    "best_checkpoint_path = f\"{save_path_checkpoints}/model.pt\"\n",
    "checkpoint = torch.load(best_checkpoint_path)\n",
    "best_epoch = checkpoint[\"epoch\"]\n",
    "model.load_state_dict(checkpoint[\"model_weight\"])\n",
    "optimizer.load_state_dict(checkpoint[\"optimizer_state\"])\n",
    "\n",
    "best_val_loss, best_val_accuracy = evaluate_model(model, criterion, dataloader_valid_dataset)\n",
    "print(f\"Best model (from epoch {best_epoch}) - Validation Loss: {best_val_loss:.3f}, Validation Accuracy: {best_val_accuracy:.5f}\")"
   ]
  },
  {
   "cell_type": "code",
   "execution_count": 20,
   "id": "a794997e",
   "metadata": {
    "execution": {
     "iopub.execute_input": "2025-09-07T19:57:45.971103Z",
     "iopub.status.busy": "2025-09-07T19:57:45.970336Z",
     "iopub.status.idle": "2025-09-07T19:58:18.047228Z",
     "shell.execute_reply": "2025-09-07T19:58:18.046302Z"
    },
    "papermill": {
     "duration": 43.071502,
     "end_time": "2025-09-07T19:58:18.048563",
     "exception": false,
     "start_time": "2025-09-07T19:57:34.977061",
     "status": "completed"
    },
    "tags": []
   },
   "outputs": [
    {
     "name": "stdout",
     "output_type": "stream",
     "text": [
      "Test Accuracy: 0.972\n",
      "Test Time: 32.07 seconds ---> 0.53 minutes\n"
     ]
    }
   ],
   "source": [
    "start_time = time.time()\n",
    "\n",
    "test_loss, test_accuracy = evaluate_model(model, criterion, dataloader_test_dataset)\n",
    "print(f\"Test Accuracy: {test_accuracy:.3f}\")\n",
    "\n",
    "end_time = time.time()\n",
    "test_time = end_time - start_time\n",
    "print(f\"Test Time: {test_time:.2f} seconds ---> {test_time/60:.2f} minutes\")"
   ]
  },
  {
   "cell_type": "code",
   "execution_count": 21,
   "id": "532ce538",
   "metadata": {
    "execution": {
     "iopub.execute_input": "2025-09-07T19:58:40.092945Z",
     "iopub.status.busy": "2025-09-07T19:58:40.092043Z",
     "iopub.status.idle": "2025-09-07T19:59:09.328137Z",
     "shell.execute_reply": "2025-09-07T19:59:09.327227Z"
    },
    "papermill": {
     "duration": 40.386715,
     "end_time": "2025-09-07T19:59:09.329274",
     "exception": false,
     "start_time": "2025-09-07T19:58:28.942559",
     "status": "completed"
    },
    "tags": []
   },
   "outputs": [
    {
     "name": "stdout",
     "output_type": "stream",
     "text": [
      "Classification Report:\n",
      "              precision    recall  f1-score   support\n",
      "\n",
      "           0       0.95      0.97      0.96       375\n",
      "           1       0.96      0.96      0.96       375\n",
      "           2       0.99      0.99      0.99       375\n",
      "           3       0.99      0.99      0.99       375\n",
      "           4       0.99      0.99      0.99       375\n",
      "           5       0.99      0.98      0.98       375\n",
      "           6       0.95      0.98      0.96       375\n",
      "           7       0.95      0.95      0.95       375\n",
      "           8       0.98      0.99      0.99       375\n",
      "           9       1.00      1.00      1.00       375\n",
      "          10       0.98      0.98      0.98       375\n",
      "          11       0.97      0.98      0.98       375\n",
      "          12       0.99      0.99      0.99       375\n",
      "          13       0.98      0.98      0.98       375\n",
      "          14       0.96      0.92      0.94       375\n",
      "          15       0.96      0.95      0.96       375\n",
      "          16       0.93      0.93      0.93       375\n",
      "          17       0.99      0.98      0.99       375\n",
      "          18       0.96      0.96      0.96       375\n",
      "          19       0.97      0.96      0.97       375\n",
      "\n",
      "    accuracy                           0.97      7500\n",
      "   macro avg       0.97      0.97      0.97      7500\n",
      "weighted avg       0.97      0.97      0.97      7500\n",
      "\n",
      "Class 0 Accuracy: 0.971\n",
      "Class 1 Accuracy: 0.960\n",
      "Class 2 Accuracy: 0.992\n",
      "Class 3 Accuracy: 0.987\n",
      "Class 4 Accuracy: 0.987\n",
      "Class 5 Accuracy: 0.976\n",
      "Class 6 Accuracy: 0.981\n",
      "Class 7 Accuracy: 0.955\n",
      "Class 8 Accuracy: 0.995\n",
      "Class 9 Accuracy: 0.997\n",
      "Class 10 Accuracy: 0.979\n",
      "Class 11 Accuracy: 0.979\n",
      "Class 12 Accuracy: 0.989\n",
      "Class 13 Accuracy: 0.984\n",
      "Class 14 Accuracy: 0.917\n",
      "Class 15 Accuracy: 0.955\n",
      "Class 16 Accuracy: 0.931\n",
      "Class 17 Accuracy: 0.984\n",
      "Class 18 Accuracy: 0.957\n",
      "Class 19 Accuracy: 0.963\n"
     ]
    }
   ],
   "source": [
    "def class_accuracy(model, dataloader, num_classes):\n",
    "    class_correct = [0.0] * num_classes\n",
    "    class_total = [0.0] * num_classes\n",
    "\n",
    "    model.eval()\n",
    "    with torch.no_grad():\n",
    "        for inputs, labels in dataloader:\n",
    "            inputs, labels = inputs.to(device), labels.to(device)\n",
    "            outputs = model(inputs)\n",
    "            _, predicted = torch.max(outputs, 1)\n",
    "            correct = (predicted == labels)\n",
    "            for i in range(len(labels)):\n",
    "                label = labels[i]\n",
    "                class_correct[label] += correct[i].item()\n",
    "                class_total[label] += 1\n",
    "\n",
    "    class_accuracy = [class_correct[i] / class_total[i] if class_total[i] > 0 else 0 for i in range(num_classes)]\n",
    "\n",
    "    return class_accuracy\n",
    "\n",
    "y_true = []\n",
    "y_pred = []\n",
    "\n",
    "model.eval()\n",
    "with torch.no_grad():\n",
    "    for inputs, labels in dataloader_test_dataset:\n",
    "        inputs, labels = inputs.to(device), labels.to(device)\n",
    "        outputs = model(inputs)\n",
    "        _, predicted = torch.max(outputs, 1)\n",
    "        y_true.extend(labels.cpu().numpy())\n",
    "        y_pred.extend(predicted.cpu().numpy())\n",
    "\n",
    "y_true = np.array(y_true)\n",
    "y_pred = np.array(y_pred)\n",
    "\n",
    "class_names = [str(i) for i in range(total_class)]\n",
    "\n",
    "print(\"Classification Report:\")\n",
    "print(classification_report(y_true, y_pred, target_names=class_names))\n",
    "\n",
    "class_acc = class_accuracy(model, dataloader_test_dataset, total_class)\n",
    "for i in range(total_class):\n",
    "    print(f\"Class {i} Accuracy: {class_acc[i]:.3f}\")"
   ]
  }
 ],
 "metadata": {
  "kaggle": {
   "accelerator": "gpu",
   "dataSources": [
    {
     "datasetId": 8209227,
     "sourceId": 12970497,
     "sourceType": "datasetVersion"
    }
   ],
   "dockerImageVersionId": 31090,
   "isGpuEnabled": true,
   "isInternetEnabled": true,
   "language": "python",
   "sourceType": "notebook"
  },
  "kernelspec": {
   "display_name": "Python 3",
   "language": "python",
   "name": "python3"
  },
  "language_info": {
   "codemirror_mode": {
    "name": "ipython",
    "version": 3
   },
   "file_extension": ".py",
   "mimetype": "text/x-python",
   "name": "python",
   "nbconvert_exporter": "python",
   "pygments_lexer": "ipython3",
   "version": "3.11.13"
  },
  "papermill": {
   "default_parameters": {},
   "duration": 6938.94001,
   "end_time": "2025-09-07T19:59:23.201110",
   "environment_variables": {},
   "exception": null,
   "input_path": "__notebook__.ipynb",
   "output_path": "__notebook__.ipynb",
   "parameters": {},
   "start_time": "2025-09-07T18:03:44.261100",
   "version": "2.6.0"
  }
 },
 "nbformat": 4,
 "nbformat_minor": 5
}
