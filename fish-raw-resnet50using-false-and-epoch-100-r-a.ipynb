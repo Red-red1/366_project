{
 "cells": [
  {
   "cell_type": "code",
   "execution_count": 1,
   "id": "01d39770",
   "metadata": {
    "execution": {
     "iopub.execute_input": "2025-09-08T02:52:40.630886Z",
     "iopub.status.busy": "2025-09-08T02:52:40.630623Z",
     "iopub.status.idle": "2025-09-08T02:52:44.497774Z",
     "shell.execute_reply": "2025-09-08T02:52:44.496819Z"
    },
    "papermill": {
     "duration": 3.874788,
     "end_time": "2025-09-08T02:52:44.499279",
     "exception": false,
     "start_time": "2025-09-08T02:52:40.624491",
     "status": "completed"
    },
    "tags": []
   },
   "outputs": [
    {
     "name": "stdout",
     "output_type": "stream",
     "text": [
      "Requirement already satisfied: torchinfo in /usr/local/lib/python3.11/dist-packages (1.8.0)\r\n"
     ]
    }
   ],
   "source": [
    "!pip install torchinfo"
   ]
  },
  {
   "cell_type": "markdown",
   "id": "c32b1c01",
   "metadata": {
    "papermill": {
     "duration": 0.003947,
     "end_time": "2025-09-08T02:52:44.507944",
     "exception": false,
     "start_time": "2025-09-08T02:52:44.503997",
     "status": "completed"
    },
    "tags": []
   },
   "source": [
    "**Import Libraries**"
   ]
  },
  {
   "cell_type": "code",
   "execution_count": 2,
   "id": "27d9dccc",
   "metadata": {
    "execution": {
     "iopub.execute_input": "2025-09-08T02:52:44.517926Z",
     "iopub.status.busy": "2025-09-08T02:52:44.517454Z",
     "iopub.status.idle": "2025-09-08T02:52:56.854106Z",
     "shell.execute_reply": "2025-09-08T02:52:56.853288Z"
    },
    "papermill": {
     "duration": 12.343618,
     "end_time": "2025-09-08T02:52:56.855659",
     "exception": false,
     "start_time": "2025-09-08T02:52:44.512041",
     "status": "completed"
    },
    "tags": []
   },
   "outputs": [],
   "source": [
    "import time\n",
    "import os\n",
    "import pandas as pd\n",
    "from sklearn.model_selection import train_test_split\n",
    "from torchvision import datasets, transforms\n",
    "from torch.utils.data import DataLoader\n",
    "from sklearn.metrics import classification_report\n",
    "import numpy as np\n",
    "import cv2\n",
    "import torch\n",
    "from torch import nn\n",
    "import torch.nn.functional as F\n",
    "from torch.utils.data import DataLoader, Dataset\n",
    "import torchvision\n",
    "from torchvision import transforms\n",
    "from torchinfo import summary\n",
    "import torchvision.models as models\n",
    "import torch.optim as optim\n",
    "from torch.optim.lr_scheduler import StepLR\n",
    "from tqdm.notebook import tqdm\n",
    "from sklearn.metrics import accuracy_score\n",
    "import PIL\n",
    "import matplotlib.pyplot as plt\n",
    "import seaborn as sns\n",
    "import time\n",
    "from collections import OrderedDict\n",
    "import platform\n",
    "import psutil\n",
    "import random\n",
    "import glob\n",
    "from tqdm import tqdm\n",
    "from PIL import Image\n",
    "from torchvision import transforms\n",
    "from torchvision.transforms import ColorJitter, RandomRotation, RandomResizedCrop\n",
    "from torchvision.transforms.functional import gaussian_blur\n",
    "from PIL import ImageOps\n",
    "from tabulate import tabulate"
   ]
  },
  {
   "cell_type": "markdown",
   "id": "2d828219",
   "metadata": {
    "papermill": {
     "duration": 0.003893,
     "end_time": "2025-09-08T02:52:56.863838",
     "exception": false,
     "start_time": "2025-09-08T02:52:56.859945",
     "status": "completed"
    },
    "tags": []
   },
   "source": [
    "**Configuration**"
   ]
  },
  {
   "cell_type": "code",
   "execution_count": 3,
   "id": "30ff183c",
   "metadata": {
    "execution": {
     "iopub.execute_input": "2025-09-08T02:52:56.873143Z",
     "iopub.status.busy": "2025-09-08T02:52:56.872407Z",
     "iopub.status.idle": "2025-09-08T02:52:56.902430Z",
     "shell.execute_reply": "2025-09-08T02:52:56.901604Z"
    },
    "papermill": {
     "duration": 0.035931,
     "end_time": "2025-09-08T02:52:56.903657",
     "exception": false,
     "start_time": "2025-09-08T02:52:56.867726",
     "status": "completed"
    },
    "tags": []
   },
   "outputs": [
    {
     "name": "stdout",
     "output_type": "stream",
     "text": [
      "CPU: x86_64\n",
      "Total RAM (GB): 31.35\n",
      "GPU: Tesla P100-PCIE-16GB\n"
     ]
    }
   ],
   "source": [
    "cpu_info = platform.processor()\n",
    "\n",
    "ram_info = psutil.virtual_memory()\n",
    "total_ram_gb = ram_info.total / (1024 ** 3)\n",
    "\n",
    "try:\n",
    "    gpu_info = !nvidia-smi --query-gpu=gpu_name --format=csv\n",
    "    gpu_name = gpu_info[1]\n",
    "except:\n",
    "    gpu_name = \"No GPU available\"\n",
    "\n",
    "print(\"CPU:\", cpu_info)\n",
    "print(\"Total RAM (GB):\", round(total_ram_gb, 2))\n",
    "print(\"GPU:\", gpu_name)"
   ]
  },
  {
   "cell_type": "markdown",
   "id": "8a5518d5",
   "metadata": {
    "papermill": {
     "duration": 0.003972,
     "end_time": "2025-09-08T02:52:56.911911",
     "exception": false,
     "start_time": "2025-09-08T02:52:56.907939",
     "status": "completed"
    },
    "tags": []
   },
   "source": [
    "**Seed Value**"
   ]
  },
  {
   "cell_type": "code",
   "execution_count": 4,
   "id": "2d0f0377",
   "metadata": {
    "execution": {
     "iopub.execute_input": "2025-09-08T02:52:56.921254Z",
     "iopub.status.busy": "2025-09-08T02:52:56.921050Z",
     "iopub.status.idle": "2025-09-08T02:52:56.929153Z",
     "shell.execute_reply": "2025-09-08T02:52:56.928651Z"
    },
    "papermill": {
     "duration": 0.014338,
     "end_time": "2025-09-08T02:52:56.930218",
     "exception": false,
     "start_time": "2025-09-08T02:52:56.915880",
     "status": "completed"
    },
    "tags": []
   },
   "outputs": [],
   "source": [
    "seed = 1\n",
    "torch.manual_seed(seed)\n",
    "torch.cuda.manual_seed(seed)\n",
    "np.random.seed(seed)\n",
    "random.seed(seed)"
   ]
  },
  {
   "cell_type": "markdown",
   "id": "1b0c5898",
   "metadata": {
    "papermill": {
     "duration": 0.004191,
     "end_time": "2025-09-08T02:52:56.938409",
     "exception": false,
     "start_time": "2025-09-08T02:52:56.934218",
     "status": "completed"
    },
    "tags": []
   },
   "source": [
    "**Loading Dataset**"
   ]
  },
  {
   "cell_type": "code",
   "execution_count": 5,
   "id": "6d1766b5",
   "metadata": {
    "execution": {
     "iopub.execute_input": "2025-09-08T02:52:56.946972Z",
     "iopub.status.busy": "2025-09-08T02:52:56.946778Z",
     "iopub.status.idle": "2025-09-08T02:52:57.446989Z",
     "shell.execute_reply": "2025-09-08T02:52:57.446352Z"
    },
    "papermill": {
     "duration": 0.506053,
     "end_time": "2025-09-08T02:52:57.448386",
     "exception": false,
     "start_time": "2025-09-08T02:52:56.942333",
     "status": "completed"
    },
    "tags": []
   },
   "outputs": [],
   "source": [
    "data_dir = \"/kaggle/input/fish-ra\"\n",
    "\n",
    "file_paths = []\n",
    "labels = []\n",
    "\n",
    "for class_name in os.listdir(data_dir):\n",
    "    class_dir = os.path.join(data_dir, class_name)\n",
    "    for image_name in os.listdir(class_dir):\n",
    "        file_paths.append(os.path.join(class_dir, image_name))\n",
    "        labels.append(class_name)\n",
    "\n",
    "df = pd.DataFrame({\"file_path\": file_paths, \"label\": labels})\n",
    "df = df.sample(frac=1).reset_index(drop=True)"
   ]
  },
  {
   "cell_type": "code",
   "execution_count": 6,
   "id": "7dba6e94",
   "metadata": {
    "execution": {
     "iopub.execute_input": "2025-09-08T02:52:57.459226Z",
     "iopub.status.busy": "2025-09-08T02:52:57.458968Z",
     "iopub.status.idle": "2025-09-08T02:52:57.780697Z",
     "shell.execute_reply": "2025-09-08T02:52:57.780045Z"
    },
    "papermill": {
     "duration": 0.328343,
     "end_time": "2025-09-08T02:52:57.781927",
     "exception": false,
     "start_time": "2025-09-08T02:52:57.453584",
     "status": "completed"
    },
    "tags": []
   },
   "outputs": [
    {
     "name": "stdout",
     "output_type": "stream",
     "text": [
      "Class: Tarabaim, Count: 2500\n",
      "Class: Shol, Count: 2500\n",
      "Class: Puti, Count: 2500\n",
      "Class: DeshiPuti, Count: 2500\n",
      "Class: Aair, Count: 2500\n",
      "Class: Tengra, Count: 2500\n",
      "Class: Pabda, Count: 2500\n",
      "Class: Foli, Count: 2500\n",
      "Class: Katla, Count: 2500\n",
      "Class: Ilish, Count: 2500\n",
      "Class: Taki, Count: 2500\n",
      "Class: KalBaush, Count: 2500\n",
      "Class: Chapila, Count: 2500\n",
      "Class: Magur, Count: 2500\n",
      "Class: Pangas, Count: 2500\n",
      "Class: Mrigel, Count: 2500\n",
      "Class: Telapiya, Count: 2500\n",
      "Class: Koi, Count: 2500\n",
      "Class: Boal, Count: 2500\n",
      "Class: Rui, Count: 2500\n"
     ]
    },
    {
     "data": {
      "image/png": "[encoded data removed]",
      "text/plain": [
       "<Figure size 1400x400 with 1 Axes>"
      ]
     },
     "metadata": {},
     "output_type": "display_data"
    }
   ],
   "source": [
    "class_counts_train = df['label'].value_counts()\n",
    "\n",
    "for class_name, count in class_counts_train.items():\n",
    "    print(f\"Class: {class_name}, Count: {count}\")\n",
    "\n",
    "plt.figure(figsize=(14, 4))\n",
    "ax = class_counts_train.plot(kind='bar')\n",
    "plt.xlabel('Classes')\n",
    "plt.ylabel('Amount of data')\n",
    "plt.xticks(rotation=360)\n",
    "for i, count in enumerate(class_counts_train):\n",
    "    ax.text(i, count + 5, str(count), ha='center')\n",
    "plt.ylim(0, max(class_counts_train) * 1.2)\n",
    "plt.show()"
   ]
  },
  {
   "cell_type": "code",
   "execution_count": 7,
   "id": "7679784d",
   "metadata": {
    "execution": {
     "iopub.execute_input": "2025-09-08T02:52:57.792651Z",
     "iopub.status.busy": "2025-09-08T02:52:57.792144Z",
     "iopub.status.idle": "2025-09-08T02:52:57.976943Z",
     "shell.execute_reply": "2025-09-08T02:52:57.976322Z"
    },
    "papermill": {
     "duration": 0.194099,
     "end_time": "2025-09-08T02:52:57.981014",
     "exception": false,
     "start_time": "2025-09-08T02:52:57.786915",
     "status": "completed"
    },
    "tags": []
   },
   "outputs": [
    {
     "data": {
      "image/png": "[encoded data removed]",
      "text/plain": [
       "<Figure size 640x480 with 1 Axes>"
      ]
     },
     "metadata": {},
     "output_type": "display_data"
    }
   ],
   "source": [
    "random_index = random.randint(1, len(df) - 1)\n",
    "random_row = df.iloc[random_index]\n",
    "\n",
    "file_path = random_row['file_path']\n",
    "label = random_row['label']\n",
    "\n",
    "image = Image.open(file_path)\n",
    "plt.imshow(image)\n",
    "plt.title(f\"Label: {label}\")\n",
    "plt.axis('off')\n",
    "plt.show()"
   ]
  },
  {
   "cell_type": "markdown",
   "id": "50e8d171",
   "metadata": {
    "papermill": {
     "duration": 0.006641,
     "end_time": "2025-09-08T02:52:57.994828",
     "exception": false,
     "start_time": "2025-09-08T02:52:57.988187",
     "status": "completed"
    },
    "tags": []
   },
   "source": [
    "\n",
    "# Train-Test-Validation Split (Ratio 70:15:15)"
   ]
  },
  {
   "cell_type": "code",
   "execution_count": 8,
   "id": "577d8c7b",
   "metadata": {
    "execution": {
     "iopub.execute_input": "2025-09-08T02:52:58.009220Z",
     "iopub.status.busy": "2025-09-08T02:52:58.008972Z",
     "iopub.status.idle": "2025-09-08T02:52:58.069075Z",
     "shell.execute_reply": "2025-09-08T02:52:58.068519Z"
    },
    "papermill": {
     "duration": 0.068813,
     "end_time": "2025-09-08T02:52:58.070373",
     "exception": false,
     "start_time": "2025-09-08T02:52:58.001560",
     "status": "completed"
    },
    "tags": []
   },
   "outputs": [],
   "source": [
    "train_dataframe, temp_dataframe = train_test_split(df, test_size=0.30, \n",
    "                                     stratify=df['label'], random_state=42)\n",
    "valid_dataframe, test_df = train_test_split(temp_dataframe, test_size=0.50, \n",
    "                                            stratify=temp_dataframe['label'], random_state=42)"
   ]
  },
  {
   "cell_type": "code",
   "execution_count": 9,
   "id": "9bc002e7",
   "metadata": {
    "execution": {
     "iopub.execute_input": "2025-09-08T02:52:58.085423Z",
     "iopub.status.busy": "2025-09-08T02:52:58.085179Z",
     "iopub.status.idle": "2025-09-08T02:52:58.089932Z",
     "shell.execute_reply": "2025-09-08T02:52:58.088954Z"
    },
    "papermill": {
     "duration": 0.01377,
     "end_time": "2025-09-08T02:52:58.091231",
     "exception": false,
     "start_time": "2025-09-08T02:52:58.077461",
     "status": "completed"
    },
    "tags": []
   },
   "outputs": [
    {
     "name": "stdout",
     "output_type": "stream",
     "text": [
      "Training Data:  35000\n",
      "Validation Data:  7500\n",
      "Test Data:  7500\n",
      "-------------------------------------------\n",
      "Total amounts of data in the dataset:  50000\n"
     ]
    }
   ],
   "source": [
    "print(\"Training Data: \", len(train_dataframe))\n",
    "print(\"Validation Data: \", len(valid_dataframe))\n",
    "print(\"Test Data: \", len(test_df))\n",
    "print(\"-------------------------------------------\")\n",
    "print(\"Total amounts of data in the dataset: \", len(df))"
   ]
  },
  {
   "cell_type": "code",
   "execution_count": 10,
   "id": "86ea8925",
   "metadata": {
    "execution": {
     "iopub.execute_input": "2025-09-08T02:52:58.105914Z",
     "iopub.status.busy": "2025-09-08T02:52:58.105706Z",
     "iopub.status.idle": "2025-09-08T02:52:58.167457Z",
     "shell.execute_reply": "2025-09-08T02:52:58.166648Z"
    },
    "papermill": {
     "duration": 0.070464,
     "end_time": "2025-09-08T02:52:58.168560",
     "exception": false,
     "start_time": "2025-09-08T02:52:58.098096",
     "status": "completed"
    },
    "tags": []
   },
   "outputs": [
    {
     "name": "stdout",
     "output_type": "stream",
     "text": [
      "cuda\n"
     ]
    }
   ],
   "source": [
    "device = torch.device('cuda' if torch.cuda.is_available() else 'cpu')\n",
    "print(device)"
   ]
  },
  {
   "cell_type": "markdown",
   "id": "3aecfcfc",
   "metadata": {
    "papermill": {
     "duration": 0.006855,
     "end_time": "2025-09-08T02:52:58.182687",
     "exception": false,
     "start_time": "2025-09-08T02:52:58.175832",
     "status": "completed"
    },
    "tags": []
   },
   "source": [
    "# Checkpoint"
   ]
  },
  {
   "cell_type": "code",
   "execution_count": 11,
   "id": "7ef1ff70",
   "metadata": {
    "execution": {
     "iopub.execute_input": "2025-09-08T02:52:58.197379Z",
     "iopub.status.busy": "2025-09-08T02:52:58.197107Z",
     "iopub.status.idle": "2025-09-08T02:52:58.200754Z",
     "shell.execute_reply": "2025-09-08T02:52:58.200196Z"
    },
    "papermill": {
     "duration": 0.012372,
     "end_time": "2025-09-08T02:52:58.201831",
     "exception": false,
     "start_time": "2025-09-08T02:52:58.189459",
     "status": "completed"
    },
    "tags": []
   },
   "outputs": [],
   "source": [
    "save_path_checkpoints = \"/kaggle/working/\"\n",
    "os.makedirs(save_path_checkpoints, exist_ok=True)"
   ]
  },
  {
   "cell_type": "markdown",
   "id": "e8d34c54",
   "metadata": {
    "papermill": {
     "duration": 0.006776,
     "end_time": "2025-09-08T02:52:58.215465",
     "exception": false,
     "start_time": "2025-09-08T02:52:58.208689",
     "status": "completed"
    },
    "tags": []
   },
   "source": [
    "# Dataset Class, Dataloader and Transform"
   ]
  },
  {
   "cell_type": "code",
   "execution_count": 12,
   "id": "bcf6e43f",
   "metadata": {
    "execution": {
     "iopub.execute_input": "2025-09-08T02:52:58.230244Z",
     "iopub.status.busy": "2025-09-08T02:52:58.230046Z",
     "iopub.status.idle": "2025-09-08T02:52:58.235508Z",
     "shell.execute_reply": "2025-09-08T02:52:58.234790Z"
    },
    "papermill": {
     "duration": 0.014157,
     "end_time": "2025-09-08T02:52:58.236585",
     "exception": false,
     "start_time": "2025-09-08T02:52:58.222428",
     "status": "completed"
    },
    "tags": []
   },
   "outputs": [],
   "source": [
    "class ImageDataset(Dataset):\n",
    "    def __init__(self, dataframe, normalize, is_lb=False):\n",
    "        self.dataframe = dataframe\n",
    "        self.normalize = normalize\n",
    "        self.is_lb = is_lb\n",
    "        class_names = sorted(self.dataframe['label'].unique())  # Ensure consistent order\n",
    "        self.label_map = {class_name: idx for idx, class_name in enumerate(class_names)}\n",
    "\n",
    "    def __len__(self):\n",
    "        return len(self.dataframe)\n",
    "\n",
    "    def __getitem__(self, index):\n",
    "        img_path = self.dataframe.iloc[index]['file_path']\n",
    "        image = PIL.Image.open(img_path)\n",
    "\n",
    "        if self.is_lb:\n",
    "            label = self.label_map[self.dataframe.iloc[index]['label']]\n",
    "            return self.normalize(image), label\n",
    "        else:\n",
    "            return self.normalize(image), self.normalize(image)"
   ]
  },
  {
   "cell_type": "code",
   "execution_count": 13,
   "id": "85c135f1",
   "metadata": {
    "execution": {
     "iopub.execute_input": "2025-09-08T02:52:58.251182Z",
     "iopub.status.busy": "2025-09-08T02:52:58.250967Z",
     "iopub.status.idle": "2025-09-08T02:52:58.258280Z",
     "shell.execute_reply": "2025-09-08T02:52:58.257595Z"
    },
    "papermill": {
     "duration": 0.016082,
     "end_time": "2025-09-08T02:52:58.259419",
     "exception": false,
     "start_time": "2025-09-08T02:52:58.243337",
     "status": "completed"
    },
    "tags": []
   },
   "outputs": [
    {
     "name": "stdout",
     "output_type": "stream",
     "text": [
      "{'Aair': 0, 'Boal': 1, 'Chapila': 2, 'DeshiPuti': 3, 'Foli': 4, 'Ilish': 5, 'KalBaush': 6, 'Katla': 7, 'Koi': 8, 'Magur': 9, 'Mrigel': 10, 'Pabda': 11, 'Pangas': 12, 'Puti': 13, 'Rui': 14, 'Shol': 15, 'Taki': 16, 'Tarabaim': 17, 'Telapiya': 18, 'Tengra': 19}\n"
     ]
    }
   ],
   "source": [
    "normalize = transforms.Compose([\n",
    "    transforms.Resize((224, 224)),\n",
    "    transforms.ToTensor()\n",
    "])\n",
    "\n",
    "train_dataset = ImageDataset(train_dataframe, normalize, is_lb=True)\n",
    "print(train_dataset.label_map)"
   ]
  },
  {
   "cell_type": "code",
   "execution_count": 14,
   "id": "6f6ef63b",
   "metadata": {
    "execution": {
     "iopub.execute_input": "2025-09-08T02:52:58.274169Z",
     "iopub.status.busy": "2025-09-08T02:52:58.273957Z",
     "iopub.status.idle": "2025-09-08T02:52:58.281922Z",
     "shell.execute_reply": "2025-09-08T02:52:58.281274Z"
    },
    "papermill": {
     "duration": 0.016611,
     "end_time": "2025-09-08T02:52:58.282950",
     "exception": false,
     "start_time": "2025-09-08T02:52:58.266339",
     "status": "completed"
    },
    "tags": []
   },
   "outputs": [],
   "source": [
    "train_batch = 32\n",
    "val_batch = 8\n",
    "\n",
    "def data_transfrom():\n",
    "    normalize = transforms.Compose([\n",
    "            transforms.ToTensor(),\n",
    "            transforms.Normalize(mean=[0.485, 0.456, 0.406],\n",
    "                                 std=[0.229, 0.224, 0.225])\n",
    "    ])\n",
    "\n",
    "    train_dataset = ImageDataset (\n",
    "        train_dataframe,\n",
    "        normalize,\n",
    "        is_lb=True\n",
    "    )\n",
    "\n",
    "    valid_dataset = ImageDataset(\n",
    "        valid_dataframe,\n",
    "        normalize,\n",
    "        is_lb=True\n",
    "    )\n",
    "\n",
    "    test_dataset = ImageDataset(\n",
    "        test_df,\n",
    "        normalize,\n",
    "        is_lb=True\n",
    "    )\n",
    "\n",
    "    dataloader_train_dataset = DataLoader(train_dataset, batch_size = train_batch, shuffle=True, num_workers=2)\n",
    "    dataloader_valid_dataset = DataLoader(valid_dataset, batch_size = val_batch, shuffle=False, num_workers=2)\n",
    "    dataloader_test_dataset = DataLoader(test_dataset, batch_size = val_batch, shuffle=False, num_workers=2)\n",
    "\n",
    "    return dataloader_train_dataset, dataloader_valid_dataset, dataloader_test_dataset\n",
    "\n",
    "dataloader_train_dataset, dataloader_valid_dataset, dataloader_test_dataset = data_transfrom()"
   ]
  },
  {
   "cell_type": "markdown",
   "id": "bae9f7ee",
   "metadata": {
    "papermill": {
     "duration": 0.008023,
     "end_time": "2025-09-08T02:52:58.298058",
     "exception": false,
     "start_time": "2025-09-08T02:52:58.290035",
     "status": "completed"
    },
    "tags": []
   },
   "source": [
    "# Neural Network(ResNET50)"
   ]
  },
  {
   "cell_type": "code",
   "execution_count": 15,
   "id": "0850498b",
   "metadata": {
    "execution": {
     "iopub.execute_input": "2025-09-08T02:52:58.313736Z",
     "iopub.status.busy": "2025-09-08T02:52:58.313203Z",
     "iopub.status.idle": "2025-09-08T02:52:59.507756Z",
     "shell.execute_reply": "2025-09-08T02:52:59.507175Z"
    },
    "papermill": {
     "duration": 1.203812,
     "end_time": "2025-09-08T02:52:59.509111",
     "exception": false,
     "start_time": "2025-09-08T02:52:58.305299",
     "status": "completed"
    },
    "tags": []
   },
   "outputs": [
    {
     "name": "stderr",
     "output_type": "stream",
     "text": [
      "/usr/local/lib/python3.11/dist-packages/torchvision/models/_utils.py:208: UserWarning: The parameter 'pretrained' is deprecated since 0.13 and may be removed in the future, please use 'weights' instead.\n",
      "  warnings.warn(\n",
      "/usr/local/lib/python3.11/dist-packages/torchvision/models/_utils.py:223: UserWarning: Arguments other than a weight enum or `None` for 'weights' are deprecated since 0.13 and may be removed in the future. The current behavior is equivalent to passing `weights=ResNet50_Weights.IMAGENET1K_V1`. You can also use `weights=ResNet50_Weights.DEFAULT` to get the most up-to-date weights.\n",
      "  warnings.warn(msg)\n",
      "Downloading: \"https://download.pytorch.org/models/resnet50-0676ba61.pth\" to /root/.cache/torch/hub/checkpoints/resnet50-0676ba61.pth\n",
      "100%|██████████| 97.8M/97.8M [00:00<00:00, 232MB/s]\n"
     ]
    }
   ],
   "source": [
    "total_class = 20\n",
    "learning_rate = 0.0001\n",
    "\n",
    "\n",
    "model = models.resnet50(pretrained=True)\n",
    "\n",
    "for param in model.parameters():\n",
    "    param.requires_grad = False\n",
    "\n",
    "model.fc = nn.Linear(model.fc.in_features, total_class)\n",
    "\n",
    "device = torch.device(\"cuda\" if torch.cuda.is_available() else \"cpu\")\n",
    "model = model.to(device)\n",
    "\n",
    "optimizer = optim.Adam(model.fc.parameters(), lr=learning_rate)\n",
    "criterion = nn.CrossEntropyLoss()"
   ]
  },
  {
   "cell_type": "code",
   "execution_count": 16,
   "id": "74a61286",
   "metadata": {
    "execution": {
     "iopub.execute_input": "2025-09-08T02:52:59.526774Z",
     "iopub.status.busy": "2025-09-08T02:52:59.526561Z",
     "iopub.status.idle": "2025-09-08T02:53:00.211200Z",
     "shell.execute_reply": "2025-09-08T02:53:00.210455Z"
    },
    "papermill": {
     "duration": 0.694671,
     "end_time": "2025-09-08T02:53:00.212520",
     "exception": false,
     "start_time": "2025-09-08T02:52:59.517849",
     "status": "completed"
    },
    "tags": []
   },
   "outputs": [
    {
     "data": {
      "text/plain": [
       "==========================================================================================\n",
       "Layer (type:depth-idx)                   Output Shape              Param #\n",
       "==========================================================================================\n",
       "ResNet                                   [32, 20]                  --\n",
       "├─Conv2d: 1-1                            [32, 64, 112, 112]        (9,408)\n",
       "├─BatchNorm2d: 1-2                       [32, 64, 112, 112]        (128)\n",
       "├─ReLU: 1-3                              [32, 64, 112, 112]        --\n",
       "├─MaxPool2d: 1-4                         [32, 64, 56, 56]          --\n",
       "├─Sequential: 1-5                        [32, 256, 56, 56]         --\n",
       "│    └─Bottleneck: 2-1                   [32, 256, 56, 56]         --\n",
       "│    │    └─Conv2d: 3-1                  [32, 64, 56, 56]          (4,096)\n",
       "│    │    └─BatchNorm2d: 3-2             [32, 64, 56, 56]          (128)\n",
       "│    │    └─ReLU: 3-3                    [32, 64, 56, 56]          --\n",
       "│    │    └─Conv2d: 3-4                  [32, 64, 56, 56]          (36,864)\n",
       "│    │    └─BatchNorm2d: 3-5             [32, 64, 56, 56]          (128)\n",
       "│    │    └─ReLU: 3-6                    [32, 64, 56, 56]          --\n",
       "│    │    └─Conv2d: 3-7                  [32, 256, 56, 56]         (16,384)\n",
       "│    │    └─BatchNorm2d: 3-8             [32, 256, 56, 56]         (512)\n",
       "│    │    └─Sequential: 3-9              [32, 256, 56, 56]         (16,896)\n",
       "│    │    └─ReLU: 3-10                   [32, 256, 56, 56]         --\n",
       "│    └─Bottleneck: 2-2                   [32, 256, 56, 56]         --\n",
       "│    │    └─Conv2d: 3-11                 [32, 64, 56, 56]          (16,384)\n",
       "│    │    └─BatchNorm2d: 3-12            [32, 64, 56, 56]          (128)\n",
       "│    │    └─ReLU: 3-13                   [32, 64, 56, 56]          --\n",
       "│    │    └─Conv2d: 3-14                 [32, 64, 56, 56]          (36,864)\n",
       "│    │    └─BatchNorm2d: 3-15            [32, 64, 56, 56]          (128)\n",
       "│    │    └─ReLU: 3-16                   [32, 64, 56, 56]          --\n",
       "│    │    └─Conv2d: 3-17                 [32, 256, 56, 56]         (16,384)\n",
       "│    │    └─BatchNorm2d: 3-18            [32, 256, 56, 56]         (512)\n",
       "│    │    └─ReLU: 3-19                   [32, 256, 56, 56]         --\n",
       "│    └─Bottleneck: 2-3                   [32, 256, 56, 56]         --\n",
       "│    │    └─Conv2d: 3-20                 [32, 64, 56, 56]          (16,384)\n",
       "│    │    └─BatchNorm2d: 3-21            [32, 64, 56, 56]          (128)\n",
       "│    │    └─ReLU: 3-22                   [32, 64, 56, 56]          --\n",
       "│    │    └─Conv2d: 3-23                 [32, 64, 56, 56]          (36,864)\n",
       "│    │    └─BatchNorm2d: 3-24            [32, 64, 56, 56]          (128)\n",
       "│    │    └─ReLU: 3-25                   [32, 64, 56, 56]          --\n",
       "│    │    └─Conv2d: 3-26                 [32, 256, 56, 56]         (16,384)\n",
       "│    │    └─BatchNorm2d: 3-27            [32, 256, 56, 56]         (512)\n",
       "│    │    └─ReLU: 3-28                   [32, 256, 56, 56]         --\n",
       "├─Sequential: 1-6                        [32, 512, 28, 28]         --\n",
       "│    └─Bottleneck: 2-4                   [32, 512, 28, 28]         --\n",
       "│    │    └─Conv2d: 3-29                 [32, 128, 56, 56]         (32,768)\n",
       "│    │    └─BatchNorm2d: 3-30            [32, 128, 56, 56]         (256)\n",
       "│    │    └─ReLU: 3-31                   [32, 128, 56, 56]         --\n",
       "│    │    └─Conv2d: 3-32                 [32, 128, 28, 28]         (147,456)\n",
       "│    │    └─BatchNorm2d: 3-33            [32, 128, 28, 28]         (256)\n",
       "│    │    └─ReLU: 3-34                   [32, 128, 28, 28]         --\n",
       "│    │    └─Conv2d: 3-35                 [32, 512, 28, 28]         (65,536)\n",
       "│    │    └─BatchNorm2d: 3-36            [32, 512, 28, 28]         (1,024)\n",
       "│    │    └─Sequential: 3-37             [32, 512, 28, 28]         (132,096)\n",
       "│    │    └─ReLU: 3-38                   [32, 512, 28, 28]         --\n",
       "│    └─Bottleneck: 2-5                   [32, 512, 28, 28]         --\n",
       "│    │    └─Conv2d: 3-39                 [32, 128, 28, 28]         (65,536)\n",
       "│    │    └─BatchNorm2d: 3-40            [32, 128, 28, 28]         (256)\n",
       "│    │    └─ReLU: 3-41                   [32, 128, 28, 28]         --\n",
       "│    │    └─Conv2d: 3-42                 [32, 128, 28, 28]         (147,456)\n",
       "│    │    └─BatchNorm2d: 3-43            [32, 128, 28, 28]         (256)\n",
       "│    │    └─ReLU: 3-44                   [32, 128, 28, 28]         --\n",
       "│    │    └─Conv2d: 3-45                 [32, 512, 28, 28]         (65,536)\n",
       "│    │    └─BatchNorm2d: 3-46            [32, 512, 28, 28]         (1,024)\n",
       "│    │    └─ReLU: 3-47                   [32, 512, 28, 28]         --\n",
       "│    └─Bottleneck: 2-6                   [32, 512, 28, 28]         --\n",
       "│    │    └─Conv2d: 3-48                 [32, 128, 28, 28]         (65,536)\n",
       "│    │    └─BatchNorm2d: 3-49            [32, 128, 28, 28]         (256)\n",
       "│    │    └─ReLU: 3-50                   [32, 128, 28, 28]         --\n",
       "│    │    └─Conv2d: 3-51                 [32, 128, 28, 28]         (147,456)\n",
       "│    │    └─BatchNorm2d: 3-52            [32, 128, 28, 28]         (256)\n",
       "│    │    └─ReLU: 3-53                   [32, 128, 28, 28]         --\n",
       "│    │    └─Conv2d: 3-54                 [32, 512, 28, 28]         (65,536)\n",
       "│    │    └─BatchNorm2d: 3-55            [32, 512, 28, 28]         (1,024)\n",
       "│    │    └─ReLU: 3-56                   [32, 512, 28, 28]         --\n",
       "│    └─Bottleneck: 2-7                   [32, 512, 28, 28]         --\n",
       "│    │    └─Conv2d: 3-57                 [32, 128, 28, 28]         (65,536)\n",
       "│    │    └─BatchNorm2d: 3-58            [32, 128, 28, 28]         (256)\n",
       "│    │    └─ReLU: 3-59                   [32, 128, 28, 28]         --\n",
       "│    │    └─Conv2d: 3-60                 [32, 128, 28, 28]         (147,456)\n",
       "│    │    └─BatchNorm2d: 3-61            [32, 128, 28, 28]         (256)\n",
       "│    │    └─ReLU: 3-62                   [32, 128, 28, 28]         --\n",
       "│    │    └─Conv2d: 3-63                 [32, 512, 28, 28]         (65,536)\n",
       "│    │    └─BatchNorm2d: 3-64            [32, 512, 28, 28]         (1,024)\n",
       "│    │    └─ReLU: 3-65                   [32, 512, 28, 28]         --\n",
       "├─Sequential: 1-7                        [32, 1024, 14, 14]        --\n",
       "│    └─Bottleneck: 2-8                   [32, 1024, 14, 14]        --\n",
       "│    │    └─Conv2d: 3-66                 [32, 256, 28, 28]         (131,072)\n",
       "│    │    └─BatchNorm2d: 3-67            [32, 256, 28, 28]         (512)\n",
       "│    │    └─ReLU: 3-68                   [32, 256, 28, 28]         --\n",
       "│    │    └─Conv2d: 3-69                 [32, 256, 14, 14]         (589,824)\n",
       "│    │    └─BatchNorm2d: 3-70            [32, 256, 14, 14]         (512)\n",
       "│    │    └─ReLU: 3-71                   [32, 256, 14, 14]         --\n",
       "│    │    └─Conv2d: 3-72                 [32, 1024, 14, 14]        (262,144)\n",
       "│    │    └─BatchNorm2d: 3-73            [32, 1024, 14, 14]        (2,048)\n",
       "│    │    └─Sequential: 3-74             [32, 1024, 14, 14]        (526,336)\n",
       "│    │    └─ReLU: 3-75                   [32, 1024, 14, 14]        --\n",
       "│    └─Bottleneck: 2-9                   [32, 1024, 14, 14]        --\n",
       "│    │    └─Conv2d: 3-76                 [32, 256, 14, 14]         (262,144)\n",
       "│    │    └─BatchNorm2d: 3-77            [32, 256, 14, 14]         (512)\n",
       "│    │    └─ReLU: 3-78                   [32, 256, 14, 14]         --\n",
       "│    │    └─Conv2d: 3-79                 [32, 256, 14, 14]         (589,824)\n",
       "│    │    └─BatchNorm2d: 3-80            [32, 256, 14, 14]         (512)\n",
       "│    │    └─ReLU: 3-81                   [32, 256, 14, 14]         --\n",
       "│    │    └─Conv2d: 3-82                 [32, 1024, 14, 14]        (262,144)\n",
       "│    │    └─BatchNorm2d: 3-83            [32, 1024, 14, 14]        (2,048)\n",
       "│    │    └─ReLU: 3-84                   [32, 1024, 14, 14]        --\n",
       "│    └─Bottleneck: 2-10                  [32, 1024, 14, 14]        --\n",
       "│    │    └─Conv2d: 3-85                 [32, 256, 14, 14]         (262,144)\n",
       "│    │    └─BatchNorm2d: 3-86            [32, 256, 14, 14]         (512)\n",
       "│    │    └─ReLU: 3-87                   [32, 256, 14, 14]         --\n",
       "│    │    └─Conv2d: 3-88                 [32, 256, 14, 14]         (589,824)\n",
       "│    │    └─BatchNorm2d: 3-89            [32, 256, 14, 14]         (512)\n",
       "│    │    └─ReLU: 3-90                   [32, 256, 14, 14]         --\n",
       "│    │    └─Conv2d: 3-91                 [32, 1024, 14, 14]        (262,144)\n",
       "│    │    └─BatchNorm2d: 3-92            [32, 1024, 14, 14]        (2,048)\n",
       "│    │    └─ReLU: 3-93                   [32, 1024, 14, 14]        --\n",
       "│    └─Bottleneck: 2-11                  [32, 1024, 14, 14]        --\n",
       "│    │    └─Conv2d: 3-94                 [32, 256, 14, 14]         (262,144)\n",
       "│    │    └─BatchNorm2d: 3-95            [32, 256, 14, 14]         (512)\n",
       "│    │    └─ReLU: 3-96                   [32, 256, 14, 14]         --\n",
       "│    │    └─Conv2d: 3-97                 [32, 256, 14, 14]         (589,824)\n",
       "│    │    └─BatchNorm2d: 3-98            [32, 256, 14, 14]         (512)\n",
       "│    │    └─ReLU: 3-99                   [32, 256, 14, 14]         --\n",
       "│    │    └─Conv2d: 3-100                [32, 1024, 14, 14]        (262,144)\n",
       "│    │    └─BatchNorm2d: 3-101           [32, 1024, 14, 14]        (2,048)\n",
       "│    │    └─ReLU: 3-102                  [32, 1024, 14, 14]        --\n",
       "│    └─Bottleneck: 2-12                  [32, 1024, 14, 14]        --\n",
       "│    │    └─Conv2d: 3-103                [32, 256, 14, 14]         (262,144)\n",
       "│    │    └─BatchNorm2d: 3-104           [32, 256, 14, 14]         (512)\n",
       "│    │    └─ReLU: 3-105                  [32, 256, 14, 14]         --\n",
       "│    │    └─Conv2d: 3-106                [32, 256, 14, 14]         (589,824)\n",
       "│    │    └─BatchNorm2d: 3-107           [32, 256, 14, 14]         (512)\n",
       "│    │    └─ReLU: 3-108                  [32, 256, 14, 14]         --\n",
       "│    │    └─Conv2d: 3-109                [32, 1024, 14, 14]        (262,144)\n",
       "│    │    └─BatchNorm2d: 3-110           [32, 1024, 14, 14]        (2,048)\n",
       "│    │    └─ReLU: 3-111                  [32, 1024, 14, 14]        --\n",
       "│    └─Bottleneck: 2-13                  [32, 1024, 14, 14]        --\n",
       "│    │    └─Conv2d: 3-112                [32, 256, 14, 14]         (262,144)\n",
       "│    │    └─BatchNorm2d: 3-113           [32, 256, 14, 14]         (512)\n",
       "│    │    └─ReLU: 3-114                  [32, 256, 14, 14]         --\n",
       "│    │    └─Conv2d: 3-115                [32, 256, 14, 14]         (589,824)\n",
       "│    │    └─BatchNorm2d: 3-116           [32, 256, 14, 14]         (512)\n",
       "│    │    └─ReLU: 3-117                  [32, 256, 14, 14]         --\n",
       "│    │    └─Conv2d: 3-118                [32, 1024, 14, 14]        (262,144)\n",
       "│    │    └─BatchNorm2d: 3-119           [32, 1024, 14, 14]        (2,048)\n",
       "│    │    └─ReLU: 3-120                  [32, 1024, 14, 14]        --\n",
       "├─Sequential: 1-8                        [32, 2048, 7, 7]          --\n",
       "│    └─Bottleneck: 2-14                  [32, 2048, 7, 7]          --\n",
       "│    │    └─Conv2d: 3-121                [32, 512, 14, 14]         (524,288)\n",
       "│    │    └─BatchNorm2d: 3-122           [32, 512, 14, 14]         (1,024)\n",
       "│    │    └─ReLU: 3-123                  [32, 512, 14, 14]         --\n",
       "│    │    └─Conv2d: 3-124                [32, 512, 7, 7]           (2,359,296)\n",
       "│    │    └─BatchNorm2d: 3-125           [32, 512, 7, 7]           (1,024)\n",
       "│    │    └─ReLU: 3-126                  [32, 512, 7, 7]           --\n",
       "│    │    └─Conv2d: 3-127                [32, 2048, 7, 7]          (1,048,576)\n",
       "│    │    └─BatchNorm2d: 3-128           [32, 2048, 7, 7]          (4,096)\n",
       "│    │    └─Sequential: 3-129            [32, 2048, 7, 7]          (2,101,248)\n",
       "│    │    └─ReLU: 3-130                  [32, 2048, 7, 7]          --\n",
       "│    └─Bottleneck: 2-15                  [32, 2048, 7, 7]          --\n",
       "│    │    └─Conv2d: 3-131                [32, 512, 7, 7]           (1,048,576)\n",
       "│    │    └─BatchNorm2d: 3-132           [32, 512, 7, 7]           (1,024)\n",
       "│    │    └─ReLU: 3-133                  [32, 512, 7, 7]           --\n",
       "│    │    └─Conv2d: 3-134                [32, 512, 7, 7]           (2,359,296)\n",
       "│    │    └─BatchNorm2d: 3-135           [32, 512, 7, 7]           (1,024)\n",
       "│    │    └─ReLU: 3-136                  [32, 512, 7, 7]           --\n",
       "│    │    └─Conv2d: 3-137                [32, 2048, 7, 7]          (1,048,576)\n",
       "│    │    └─BatchNorm2d: 3-138           [32, 2048, 7, 7]          (4,096)\n",
       "│    │    └─ReLU: 3-139                  [32, 2048, 7, 7]          --\n",
       "│    └─Bottleneck: 2-16                  [32, 2048, 7, 7]          --\n",
       "│    │    └─Conv2d: 3-140                [32, 512, 7, 7]           (1,048,576)\n",
       "│    │    └─BatchNorm2d: 3-141           [32, 512, 7, 7]           (1,024)\n",
       "│    │    └─ReLU: 3-142                  [32, 512, 7, 7]           --\n",
       "│    │    └─Conv2d: 3-143                [32, 512, 7, 7]           (2,359,296)\n",
       "│    │    └─BatchNorm2d: 3-144           [32, 512, 7, 7]           (1,024)\n",
       "│    │    └─ReLU: 3-145                  [32, 512, 7, 7]           --\n",
       "│    │    └─Conv2d: 3-146                [32, 2048, 7, 7]          (1,048,576)\n",
       "│    │    └─BatchNorm2d: 3-147           [32, 2048, 7, 7]          (4,096)\n",
       "│    │    └─ReLU: 3-148                  [32, 2048, 7, 7]          --\n",
       "├─AdaptiveAvgPool2d: 1-9                 [32, 2048, 1, 1]          --\n",
       "├─Linear: 1-10                           [32, 20]                  40,980\n",
       "==========================================================================================\n",
       "Total params: 23,549,012\n",
       "Trainable params: 40,980\n",
       "Non-trainable params: 23,508,032\n",
       "Total mult-adds (Units.GIGABYTES): 130.79\n",
       "==========================================================================================\n",
       "Input size (MB): 19.27\n",
       "Forward/backward pass size (MB): 5690.36\n",
       "Params size (MB): 94.20\n",
       "Estimated Total Size (MB): 5803.83\n",
       "=========================================================================================="
      ]
     },
     "execution_count": 16,
     "metadata": {},
     "output_type": "execute_result"
    }
   ],
   "source": [
    "summary(model, input_size=(train_batch, 3, 224, 224)) "
   ]
  },
  {
   "cell_type": "markdown",
   "id": "d34bef32",
   "metadata": {
    "papermill": {
     "duration": 0.008301,
     "end_time": "2025-09-08T02:53:00.229626",
     "exception": false,
     "start_time": "2025-09-08T02:53:00.221325",
     "status": "completed"
    },
    "tags": []
   },
   "source": [
    "# Training"
   ]
  },
  {
   "cell_type": "code",
   "execution_count": 17,
   "id": "4196bcec",
   "metadata": {
    "execution": {
     "iopub.execute_input": "2025-09-08T02:53:00.247974Z",
     "iopub.status.busy": "2025-09-08T02:53:00.247734Z",
     "iopub.status.idle": "2025-09-08T05:27:15.518903Z",
     "shell.execute_reply": "2025-09-08T05:27:15.518179Z"
    },
    "papermill": {
     "duration": 9255.282263,
     "end_time": "2025-09-08T05:27:15.520292",
     "exception": false,
     "start_time": "2025-09-08T02:53:00.238029",
     "status": "completed"
    },
    "tags": []
   },
   "outputs": [
    {
     "name": "stderr",
     "output_type": "stream",
     "text": [
      "Epoch 1/100: 100%|██████████| 1094/1094 [01:26<00:00, 12.65it/s, acc=0.74, loss=1.51]"
     ]
    },
    {
     "name": "stdout",
     "output_type": "stream",
     "text": [
      "Training Loss: 1.515 Acc: 0.740\n"
     ]
    },
    {
     "name": "stderr",
     "output_type": "stream",
     "text": [
      "\n"
     ]
    },
    {
     "name": "stdout",
     "output_type": "stream",
     "text": [
      "Validation Loss: 0.760 Acc: 0.888\n",
      "Best model saved at epoch 1 with validation accuracy: 0.888\n"
     ]
    },
    {
     "name": "stderr",
     "output_type": "stream",
     "text": [
      "Epoch 2/100: 100%|██████████| 1094/1094 [01:14<00:00, 14.75it/s, acc=0.886, loss=0.65]"
     ]
    },
    {
     "name": "stdout",
     "output_type": "stream",
     "text": [
      "Training Loss: 0.650 Acc: 0.886\n"
     ]
    },
    {
     "name": "stderr",
     "output_type": "stream",
     "text": [
      "\n"
     ]
    },
    {
     "name": "stdout",
     "output_type": "stream",
     "text": [
      "Validation Loss: 0.450 Acc: 0.920\n",
      "Best model saved at epoch 2 with validation accuracy: 0.920\n"
     ]
    },
    {
     "name": "stderr",
     "output_type": "stream",
     "text": [
      "Epoch 3/100: 100%|██████████| 1094/1094 [01:14<00:00, 14.78it/s, acc=0.915, loss=0.447]"
     ]
    },
    {
     "name": "stdout",
     "output_type": "stream",
     "text": [
      "Training Loss: 0.447 Acc: 0.915\n"
     ]
    },
    {
     "name": "stderr",
     "output_type": "stream",
     "text": [
      "\n"
     ]
    },
    {
     "name": "stdout",
     "output_type": "stream",
     "text": [
      "Validation Loss: 0.328 Acc: 0.938\n",
      "Best model saved at epoch 3 with validation accuracy: 0.938\n"
     ]
    },
    {
     "name": "stderr",
     "output_type": "stream",
     "text": [
      "Epoch 4/100: 100%|██████████| 1094/1094 [01:14<00:00, 14.78it/s, acc=0.929, loss=0.351]"
     ]
    },
    {
     "name": "stdout",
     "output_type": "stream",
     "text": [
      "Training Loss: 0.351 Acc: 0.929\n"
     ]
    },
    {
     "name": "stderr",
     "output_type": "stream",
     "text": [
      "\n"
     ]
    },
    {
     "name": "stdout",
     "output_type": "stream",
     "text": [
      "Validation Loss: 0.265 Acc: 0.948\n",
      "Best model saved at epoch 4 with validation accuracy: 0.948\n"
     ]
    },
    {
     "name": "stderr",
     "output_type": "stream",
     "text": [
      "Epoch 5/100: 100%|██████████| 1094/1094 [01:14<00:00, 14.78it/s, acc=0.939, loss=0.294]"
     ]
    },
    {
     "name": "stdout",
     "output_type": "stream",
     "text": [
      "Training Loss: 0.294 Acc: 0.939\n"
     ]
    },
    {
     "name": "stderr",
     "output_type": "stream",
     "text": [
      "\n"
     ]
    },
    {
     "name": "stdout",
     "output_type": "stream",
     "text": [
      "Validation Loss: 0.227 Acc: 0.953\n",
      "Best model saved at epoch 5 with validation accuracy: 0.953\n"
     ]
    },
    {
     "name": "stderr",
     "output_type": "stream",
     "text": [
      "Epoch 6/100: 100%|██████████| 1094/1094 [01:14<00:00, 14.77it/s, acc=0.942, loss=0.256]"
     ]
    },
    {
     "name": "stdout",
     "output_type": "stream",
     "text": [
      "Training Loss: 0.256 Acc: 0.942\n"
     ]
    },
    {
     "name": "stderr",
     "output_type": "stream",
     "text": [
      "\n"
     ]
    },
    {
     "name": "stdout",
     "output_type": "stream",
     "text": [
      "Validation Loss: 0.205 Acc: 0.957\n",
      "Best model saved at epoch 6 with validation accuracy: 0.957\n"
     ]
    },
    {
     "name": "stderr",
     "output_type": "stream",
     "text": [
      "Epoch 7/100: 100%|██████████| 1094/1094 [01:14<00:00, 14.77it/s, acc=0.949, loss=0.23]"
     ]
    },
    {
     "name": "stdout",
     "output_type": "stream",
     "text": [
      "Training Loss: 0.230 Acc: 0.949\n"
     ]
    },
    {
     "name": "stderr",
     "output_type": "stream",
     "text": [
      "\n"
     ]
    },
    {
     "name": "stdout",
     "output_type": "stream",
     "text": [
      "Validation Loss: 0.182 Acc: 0.959\n",
      "Best model saved at epoch 7 with validation accuracy: 0.959\n"
     ]
    },
    {
     "name": "stderr",
     "output_type": "stream",
     "text": [
      "Epoch 8/100: 100%|██████████| 1094/1094 [01:14<00:00, 14.73it/s, acc=0.952, loss=0.205]"
     ]
    },
    {
     "name": "stdout",
     "output_type": "stream",
     "text": [
      "Training Loss: 0.205 Acc: 0.952\n"
     ]
    },
    {
     "name": "stderr",
     "output_type": "stream",
     "text": [
      "\n"
     ]
    },
    {
     "name": "stdout",
     "output_type": "stream",
     "text": [
      "Validation Loss: 0.167 Acc: 0.960\n",
      "Best model saved at epoch 8 with validation accuracy: 0.960\n"
     ]
    },
    {
     "name": "stderr",
     "output_type": "stream",
     "text": [
      "Epoch 9/100: 100%|██████████| 1094/1094 [01:14<00:00, 14.71it/s, acc=0.956, loss=0.191]"
     ]
    },
    {
     "name": "stdout",
     "output_type": "stream",
     "text": [
      "Training Loss: 0.191 Acc: 0.956\n"
     ]
    },
    {
     "name": "stderr",
     "output_type": "stream",
     "text": [
      "\n"
     ]
    },
    {
     "name": "stdout",
     "output_type": "stream",
     "text": [
      "Validation Loss: 0.156 Acc: 0.966\n",
      "Best model saved at epoch 9 with validation accuracy: 0.966\n"
     ]
    },
    {
     "name": "stderr",
     "output_type": "stream",
     "text": [
      "Epoch 10/100: 100%|██████████| 1094/1094 [01:14<00:00, 14.74it/s, acc=0.958, loss=0.18]"
     ]
    },
    {
     "name": "stdout",
     "output_type": "stream",
     "text": [
      "Training Loss: 0.180 Acc: 0.958\n"
     ]
    },
    {
     "name": "stderr",
     "output_type": "stream",
     "text": [
      "\n"
     ]
    },
    {
     "name": "stdout",
     "output_type": "stream",
     "text": [
      "Validation Loss: 0.142 Acc: 0.966\n",
      "Best model saved at epoch 10 with validation accuracy: 0.966\n"
     ]
    },
    {
     "name": "stderr",
     "output_type": "stream",
     "text": [
      "Epoch 11/100: 100%|██████████| 1094/1094 [01:14<00:00, 14.70it/s, acc=0.959, loss=0.167]"
     ]
    },
    {
     "name": "stdout",
     "output_type": "stream",
     "text": [
      "Training Loss: 0.167 Acc: 0.959\n"
     ]
    },
    {
     "name": "stderr",
     "output_type": "stream",
     "text": [
      "\n"
     ]
    },
    {
     "name": "stdout",
     "output_type": "stream",
     "text": [
      "Validation Loss: 0.137 Acc: 0.965\n"
     ]
    },
    {
     "name": "stderr",
     "output_type": "stream",
     "text": [
      "Epoch 12/100: 100%|██████████| 1094/1094 [01:14<00:00, 14.77it/s, acc=0.963, loss=0.157]"
     ]
    },
    {
     "name": "stdout",
     "output_type": "stream",
     "text": [
      "Training Loss: 0.157 Acc: 0.963\n"
     ]
    },
    {
     "name": "stderr",
     "output_type": "stream",
     "text": [
      "\n"
     ]
    },
    {
     "name": "stdout",
     "output_type": "stream",
     "text": [
      "Validation Loss: 0.131 Acc: 0.966\n"
     ]
    },
    {
     "name": "stderr",
     "output_type": "stream",
     "text": [
      "Epoch 13/100: 100%|██████████| 1094/1094 [01:14<00:00, 14.67it/s, acc=0.964, loss=0.15]"
     ]
    },
    {
     "name": "stdout",
     "output_type": "stream",
     "text": [
      "Training Loss: 0.150 Acc: 0.964\n"
     ]
    },
    {
     "name": "stderr",
     "output_type": "stream",
     "text": [
      "\n"
     ]
    },
    {
     "name": "stdout",
     "output_type": "stream",
     "text": [
      "Validation Loss: 0.121 Acc: 0.968\n",
      "Best model saved at epoch 13 with validation accuracy: 0.968\n"
     ]
    },
    {
     "name": "stderr",
     "output_type": "stream",
     "text": [
      "Epoch 14/100: 100%|██████████| 1094/1094 [01:14<00:00, 14.71it/s, acc=0.966, loss=0.143]"
     ]
    },
    {
     "name": "stdout",
     "output_type": "stream",
     "text": [
      "Training Loss: 0.143 Acc: 0.966\n"
     ]
    },
    {
     "name": "stderr",
     "output_type": "stream",
     "text": [
      "\n"
     ]
    },
    {
     "name": "stdout",
     "output_type": "stream",
     "text": [
      "Validation Loss: 0.118 Acc: 0.969\n",
      "Best model saved at epoch 14 with validation accuracy: 0.969\n"
     ]
    },
    {
     "name": "stderr",
     "output_type": "stream",
     "text": [
      "Epoch 15/100: 100%|██████████| 1094/1094 [01:14<00:00, 14.76it/s, acc=0.966, loss=0.137]"
     ]
    },
    {
     "name": "stdout",
     "output_type": "stream",
     "text": [
      "Training Loss: 0.137 Acc: 0.966\n"
     ]
    },
    {
     "name": "stderr",
     "output_type": "stream",
     "text": [
      "\n"
     ]
    },
    {
     "name": "stdout",
     "output_type": "stream",
     "text": [
      "Validation Loss: 0.113 Acc: 0.970\n",
      "Best model saved at epoch 15 with validation accuracy: 0.970\n"
     ]
    },
    {
     "name": "stderr",
     "output_type": "stream",
     "text": [
      "Epoch 16/100: 100%|██████████| 1094/1094 [01:14<00:00, 14.73it/s, acc=0.968, loss=0.131]"
     ]
    },
    {
     "name": "stdout",
     "output_type": "stream",
     "text": [
      "Training Loss: 0.131 Acc: 0.968\n"
     ]
    },
    {
     "name": "stderr",
     "output_type": "stream",
     "text": [
      "\n"
     ]
    },
    {
     "name": "stdout",
     "output_type": "stream",
     "text": [
      "Validation Loss: 0.105 Acc: 0.972\n",
      "Best model saved at epoch 16 with validation accuracy: 0.972\n"
     ]
    },
    {
     "name": "stderr",
     "output_type": "stream",
     "text": [
      "Epoch 17/100: 100%|██████████| 1094/1094 [01:13<00:00, 14.79it/s, acc=0.968, loss=0.129]"
     ]
    },
    {
     "name": "stdout",
     "output_type": "stream",
     "text": [
      "Training Loss: 0.129 Acc: 0.968\n"
     ]
    },
    {
     "name": "stderr",
     "output_type": "stream",
     "text": [
      "\n"
     ]
    },
    {
     "name": "stdout",
     "output_type": "stream",
     "text": [
      "Validation Loss: 0.104 Acc: 0.971\n"
     ]
    },
    {
     "name": "stderr",
     "output_type": "stream",
     "text": [
      "Epoch 18/100: 100%|██████████| 1094/1094 [01:14<00:00, 14.76it/s, acc=0.971, loss=0.12]"
     ]
    },
    {
     "name": "stdout",
     "output_type": "stream",
     "text": [
      "Training Loss: 0.120 Acc: 0.971\n"
     ]
    },
    {
     "name": "stderr",
     "output_type": "stream",
     "text": [
      "\n"
     ]
    },
    {
     "name": "stdout",
     "output_type": "stream",
     "text": [
      "Validation Loss: 0.101 Acc: 0.972\n"
     ]
    },
    {
     "name": "stderr",
     "output_type": "stream",
     "text": [
      "Epoch 19/100: 100%|██████████| 1094/1094 [01:14<00:00, 14.74it/s, acc=0.971, loss=0.118]"
     ]
    },
    {
     "name": "stdout",
     "output_type": "stream",
     "text": [
      "Training Loss: 0.118 Acc: 0.971\n"
     ]
    },
    {
     "name": "stderr",
     "output_type": "stream",
     "text": [
      "\n"
     ]
    },
    {
     "name": "stdout",
     "output_type": "stream",
     "text": [
      "Validation Loss: 0.100 Acc: 0.973\n",
      "Best model saved at epoch 19 with validation accuracy: 0.973\n"
     ]
    },
    {
     "name": "stderr",
     "output_type": "stream",
     "text": [
      "Epoch 20/100: 100%|██████████| 1094/1094 [01:14<00:00, 14.74it/s, acc=0.971, loss=0.114]"
     ]
    },
    {
     "name": "stdout",
     "output_type": "stream",
     "text": [
      "Training Loss: 0.114 Acc: 0.971\n"
     ]
    },
    {
     "name": "stderr",
     "output_type": "stream",
     "text": [
      "\n"
     ]
    },
    {
     "name": "stdout",
     "output_type": "stream",
     "text": [
      "Validation Loss: 0.096 Acc: 0.975\n",
      "Best model saved at epoch 20 with validation accuracy: 0.975\n"
     ]
    },
    {
     "name": "stderr",
     "output_type": "stream",
     "text": [
      "Epoch 21/100: 100%|██████████| 1094/1094 [01:14<00:00, 14.73it/s, acc=0.972, loss=0.111]"
     ]
    },
    {
     "name": "stdout",
     "output_type": "stream",
     "text": [
      "Training Loss: 0.111 Acc: 0.972\n"
     ]
    },
    {
     "name": "stderr",
     "output_type": "stream",
     "text": [
      "\n"
     ]
    },
    {
     "name": "stdout",
     "output_type": "stream",
     "text": [
      "Validation Loss: 0.096 Acc: 0.974\n"
     ]
    },
    {
     "name": "stderr",
     "output_type": "stream",
     "text": [
      "Epoch 22/100: 100%|██████████| 1094/1094 [01:14<00:00, 14.74it/s, acc=0.973, loss=0.106]"
     ]
    },
    {
     "name": "stdout",
     "output_type": "stream",
     "text": [
      "Training Loss: 0.106 Acc: 0.973\n"
     ]
    },
    {
     "name": "stderr",
     "output_type": "stream",
     "text": [
      "\n"
     ]
    },
    {
     "name": "stdout",
     "output_type": "stream",
     "text": [
      "Validation Loss: 0.091 Acc: 0.976\n",
      "Best model saved at epoch 22 with validation accuracy: 0.976\n"
     ]
    },
    {
     "name": "stderr",
     "output_type": "stream",
     "text": [
      "Epoch 23/100: 100%|██████████| 1094/1094 [01:14<00:00, 14.75it/s, acc=0.973, loss=0.105]"
     ]
    },
    {
     "name": "stdout",
     "output_type": "stream",
     "text": [
      "Training Loss: 0.105 Acc: 0.973\n"
     ]
    },
    {
     "name": "stderr",
     "output_type": "stream",
     "text": [
      "\n"
     ]
    },
    {
     "name": "stdout",
     "output_type": "stream",
     "text": [
      "Validation Loss: 0.090 Acc: 0.973\n"
     ]
    },
    {
     "name": "stderr",
     "output_type": "stream",
     "text": [
      "Epoch 24/100: 100%|██████████| 1094/1094 [01:14<00:00, 14.78it/s, acc=0.974, loss=0.103]"
     ]
    },
    {
     "name": "stdout",
     "output_type": "stream",
     "text": [
      "Training Loss: 0.103 Acc: 0.974\n"
     ]
    },
    {
     "name": "stderr",
     "output_type": "stream",
     "text": [
      "\n"
     ]
    },
    {
     "name": "stdout",
     "output_type": "stream",
     "text": [
      "Validation Loss: 0.088 Acc: 0.977\n",
      "Best model saved at epoch 24 with validation accuracy: 0.977\n"
     ]
    },
    {
     "name": "stderr",
     "output_type": "stream",
     "text": [
      "Epoch 25/100: 100%|██████████| 1094/1094 [01:14<00:00, 14.74it/s, acc=0.974, loss=0.101]"
     ]
    },
    {
     "name": "stdout",
     "output_type": "stream",
     "text": [
      "Training Loss: 0.101 Acc: 0.974\n"
     ]
    },
    {
     "name": "stderr",
     "output_type": "stream",
     "text": [
      "\n"
     ]
    },
    {
     "name": "stdout",
     "output_type": "stream",
     "text": [
      "Validation Loss: 0.088 Acc: 0.976\n"
     ]
    },
    {
     "name": "stderr",
     "output_type": "stream",
     "text": [
      "Epoch 26/100: 100%|██████████| 1094/1094 [01:14<00:00, 14.75it/s, acc=0.975, loss=0.098]"
     ]
    },
    {
     "name": "stdout",
     "output_type": "stream",
     "text": [
      "Training Loss: 0.098 Acc: 0.975\n"
     ]
    },
    {
     "name": "stderr",
     "output_type": "stream",
     "text": [
      "\n"
     ]
    },
    {
     "name": "stdout",
     "output_type": "stream",
     "text": [
      "Validation Loss: 0.086 Acc: 0.977\n"
     ]
    },
    {
     "name": "stderr",
     "output_type": "stream",
     "text": [
      "Epoch 27/100: 100%|██████████| 1094/1094 [01:14<00:00, 14.69it/s, acc=0.977, loss=0.0933]"
     ]
    },
    {
     "name": "stdout",
     "output_type": "stream",
     "text": [
      "Training Loss: 0.093 Acc: 0.977\n"
     ]
    },
    {
     "name": "stderr",
     "output_type": "stream",
     "text": [
      "\n"
     ]
    },
    {
     "name": "stdout",
     "output_type": "stream",
     "text": [
      "Validation Loss: 0.085 Acc: 0.975\n"
     ]
    },
    {
     "name": "stderr",
     "output_type": "stream",
     "text": [
      "Epoch 28/100: 100%|██████████| 1094/1094 [01:14<00:00, 14.74it/s, acc=0.975, loss=0.0938]"
     ]
    },
    {
     "name": "stdout",
     "output_type": "stream",
     "text": [
      "Training Loss: 0.094 Acc: 0.975\n"
     ]
    },
    {
     "name": "stderr",
     "output_type": "stream",
     "text": [
      "\n"
     ]
    },
    {
     "name": "stdout",
     "output_type": "stream",
     "text": [
      "Validation Loss: 0.085 Acc: 0.976\n"
     ]
    },
    {
     "name": "stderr",
     "output_type": "stream",
     "text": [
      "Epoch 29/100: 100%|██████████| 1094/1094 [01:14<00:00, 14.72it/s, acc=0.976, loss=0.0903]"
     ]
    },
    {
     "name": "stdout",
     "output_type": "stream",
     "text": [
      "Training Loss: 0.090 Acc: 0.976\n"
     ]
    },
    {
     "name": "stderr",
     "output_type": "stream",
     "text": [
      "\n"
     ]
    },
    {
     "name": "stdout",
     "output_type": "stream",
     "text": [
      "Validation Loss: 0.079 Acc: 0.978\n",
      "Best model saved at epoch 29 with validation accuracy: 0.978\n"
     ]
    },
    {
     "name": "stderr",
     "output_type": "stream",
     "text": [
      "Epoch 30/100: 100%|██████████| 1094/1094 [01:14<00:00, 14.76it/s, acc=0.977, loss=0.088]"
     ]
    },
    {
     "name": "stdout",
     "output_type": "stream",
     "text": [
      "Training Loss: 0.088 Acc: 0.977\n"
     ]
    },
    {
     "name": "stderr",
     "output_type": "stream",
     "text": [
      "\n"
     ]
    },
    {
     "name": "stdout",
     "output_type": "stream",
     "text": [
      "Validation Loss: 0.078 Acc: 0.978\n"
     ]
    },
    {
     "name": "stderr",
     "output_type": "stream",
     "text": [
      "Epoch 31/100: 100%|██████████| 1094/1094 [01:14<00:00, 14.74it/s, acc=0.976, loss=0.0881]"
     ]
    },
    {
     "name": "stdout",
     "output_type": "stream",
     "text": [
      "Training Loss: 0.088 Acc: 0.976\n"
     ]
    },
    {
     "name": "stderr",
     "output_type": "stream",
     "text": [
      "\n"
     ]
    },
    {
     "name": "stdout",
     "output_type": "stream",
     "text": [
      "Validation Loss: 0.079 Acc: 0.977\n"
     ]
    },
    {
     "name": "stderr",
     "output_type": "stream",
     "text": [
      "Epoch 32/100: 100%|██████████| 1094/1094 [01:14<00:00, 14.76it/s, acc=0.978, loss=0.0847]"
     ]
    },
    {
     "name": "stdout",
     "output_type": "stream",
     "text": [
      "Training Loss: 0.085 Acc: 0.978\n"
     ]
    },
    {
     "name": "stderr",
     "output_type": "stream",
     "text": [
      "\n"
     ]
    },
    {
     "name": "stdout",
     "output_type": "stream",
     "text": [
      "Validation Loss: 0.075 Acc: 0.978\n"
     ]
    },
    {
     "name": "stderr",
     "output_type": "stream",
     "text": [
      "Epoch 33/100: 100%|██████████| 1094/1094 [01:14<00:00, 14.75it/s, acc=0.979, loss=0.0834]"
     ]
    },
    {
     "name": "stdout",
     "output_type": "stream",
     "text": [
      "Training Loss: 0.083 Acc: 0.979\n"
     ]
    },
    {
     "name": "stderr",
     "output_type": "stream",
     "text": [
      "\n"
     ]
    },
    {
     "name": "stdout",
     "output_type": "stream",
     "text": [
      "Validation Loss: 0.075 Acc: 0.979\n",
      "Best model saved at epoch 33 with validation accuracy: 0.979\n"
     ]
    },
    {
     "name": "stderr",
     "output_type": "stream",
     "text": [
      "Epoch 34/100: 100%|██████████| 1094/1094 [01:14<00:00, 14.77it/s, acc=0.979, loss=0.0816]"
     ]
    },
    {
     "name": "stdout",
     "output_type": "stream",
     "text": [
      "Training Loss: 0.082 Acc: 0.979\n"
     ]
    },
    {
     "name": "stderr",
     "output_type": "stream",
     "text": [
      "\n"
     ]
    },
    {
     "name": "stdout",
     "output_type": "stream",
     "text": [
      "Validation Loss: 0.074 Acc: 0.980\n",
      "Best model saved at epoch 34 with validation accuracy: 0.980\n"
     ]
    },
    {
     "name": "stderr",
     "output_type": "stream",
     "text": [
      "Epoch 35/100: 100%|██████████| 1094/1094 [01:14<00:00, 14.74it/s, acc=0.979, loss=0.0801]"
     ]
    },
    {
     "name": "stdout",
     "output_type": "stream",
     "text": [
      "Training Loss: 0.080 Acc: 0.979\n"
     ]
    },
    {
     "name": "stderr",
     "output_type": "stream",
     "text": [
      "\n"
     ]
    },
    {
     "name": "stdout",
     "output_type": "stream",
     "text": [
      "Validation Loss: 0.073 Acc: 0.980\n"
     ]
    },
    {
     "name": "stderr",
     "output_type": "stream",
     "text": [
      "Epoch 36/100: 100%|██████████| 1094/1094 [01:14<00:00, 14.75it/s, acc=0.98, loss=0.0782]"
     ]
    },
    {
     "name": "stdout",
     "output_type": "stream",
     "text": [
      "Training Loss: 0.078 Acc: 0.980\n"
     ]
    },
    {
     "name": "stderr",
     "output_type": "stream",
     "text": [
      "\n"
     ]
    },
    {
     "name": "stdout",
     "output_type": "stream",
     "text": [
      "Validation Loss: 0.073 Acc: 0.978\n"
     ]
    },
    {
     "name": "stderr",
     "output_type": "stream",
     "text": [
      "Epoch 37/100: 100%|██████████| 1094/1094 [01:14<00:00, 14.74it/s, acc=0.981, loss=0.0771]"
     ]
    },
    {
     "name": "stdout",
     "output_type": "stream",
     "text": [
      "Training Loss: 0.077 Acc: 0.981\n"
     ]
    },
    {
     "name": "stderr",
     "output_type": "stream",
     "text": [
      "\n"
     ]
    },
    {
     "name": "stdout",
     "output_type": "stream",
     "text": [
      "Validation Loss: 0.073 Acc: 0.979\n"
     ]
    },
    {
     "name": "stderr",
     "output_type": "stream",
     "text": [
      "Epoch 38/100: 100%|██████████| 1094/1094 [01:14<00:00, 14.73it/s, acc=0.98, loss=0.0767]"
     ]
    },
    {
     "name": "stdout",
     "output_type": "stream",
     "text": [
      "Training Loss: 0.077 Acc: 0.980\n"
     ]
    },
    {
     "name": "stderr",
     "output_type": "stream",
     "text": [
      "\n"
     ]
    },
    {
     "name": "stdout",
     "output_type": "stream",
     "text": [
      "Validation Loss: 0.073 Acc: 0.978\n"
     ]
    },
    {
     "name": "stderr",
     "output_type": "stream",
     "text": [
      "Epoch 39/100: 100%|██████████| 1094/1094 [01:14<00:00, 14.69it/s, acc=0.981, loss=0.0752]"
     ]
    },
    {
     "name": "stdout",
     "output_type": "stream",
     "text": [
      "Training Loss: 0.075 Acc: 0.981\n"
     ]
    },
    {
     "name": "stderr",
     "output_type": "stream",
     "text": [
      "\n"
     ]
    },
    {
     "name": "stdout",
     "output_type": "stream",
     "text": [
      "Validation Loss: 0.072 Acc: 0.979\n"
     ]
    },
    {
     "name": "stderr",
     "output_type": "stream",
     "text": [
      "Epoch 40/100: 100%|██████████| 1094/1094 [01:14<00:00, 14.74it/s, acc=0.981, loss=0.0726]"
     ]
    },
    {
     "name": "stdout",
     "output_type": "stream",
     "text": [
      "Training Loss: 0.073 Acc: 0.981\n"
     ]
    },
    {
     "name": "stderr",
     "output_type": "stream",
     "text": [
      "\n"
     ]
    },
    {
     "name": "stdout",
     "output_type": "stream",
     "text": [
      "Validation Loss: 0.071 Acc: 0.978\n"
     ]
    },
    {
     "name": "stderr",
     "output_type": "stream",
     "text": [
      "Epoch 41/100: 100%|██████████| 1094/1094 [01:14<00:00, 14.68it/s, acc=0.982, loss=0.0718]"
     ]
    },
    {
     "name": "stdout",
     "output_type": "stream",
     "text": [
      "Training Loss: 0.072 Acc: 0.982\n"
     ]
    },
    {
     "name": "stderr",
     "output_type": "stream",
     "text": [
      "\n"
     ]
    },
    {
     "name": "stdout",
     "output_type": "stream",
     "text": [
      "Validation Loss: 0.071 Acc: 0.978\n"
     ]
    },
    {
     "name": "stderr",
     "output_type": "stream",
     "text": [
      "Epoch 42/100: 100%|██████████| 1094/1094 [01:14<00:00, 14.74it/s, acc=0.982, loss=0.0715]"
     ]
    },
    {
     "name": "stdout",
     "output_type": "stream",
     "text": [
      "Training Loss: 0.071 Acc: 0.982\n"
     ]
    },
    {
     "name": "stderr",
     "output_type": "stream",
     "text": [
      "\n"
     ]
    },
    {
     "name": "stdout",
     "output_type": "stream",
     "text": [
      "Validation Loss: 0.074 Acc: 0.978\n"
     ]
    },
    {
     "name": "stderr",
     "output_type": "stream",
     "text": [
      "Epoch 43/100: 100%|██████████| 1094/1094 [01:14<00:00, 14.78it/s, acc=0.982, loss=0.0696]"
     ]
    },
    {
     "name": "stdout",
     "output_type": "stream",
     "text": [
      "Training Loss: 0.070 Acc: 0.982\n"
     ]
    },
    {
     "name": "stderr",
     "output_type": "stream",
     "text": [
      "\n"
     ]
    },
    {
     "name": "stdout",
     "output_type": "stream",
     "text": [
      "Validation Loss: 0.067 Acc: 0.981\n",
      "Best model saved at epoch 43 with validation accuracy: 0.981\n"
     ]
    },
    {
     "name": "stderr",
     "output_type": "stream",
     "text": [
      "Epoch 44/100: 100%|██████████| 1094/1094 [01:14<00:00, 14.76it/s, acc=0.982, loss=0.0694]"
     ]
    },
    {
     "name": "stdout",
     "output_type": "stream",
     "text": [
      "Training Loss: 0.069 Acc: 0.982\n"
     ]
    },
    {
     "name": "stderr",
     "output_type": "stream",
     "text": [
      "\n"
     ]
    },
    {
     "name": "stdout",
     "output_type": "stream",
     "text": [
      "Validation Loss: 0.068 Acc: 0.981\n"
     ]
    },
    {
     "name": "stderr",
     "output_type": "stream",
     "text": [
      "Epoch 45/100: 100%|██████████| 1094/1094 [01:14<00:00, 14.76it/s, acc=0.983, loss=0.0671]"
     ]
    },
    {
     "name": "stdout",
     "output_type": "stream",
     "text": [
      "Training Loss: 0.067 Acc: 0.983\n"
     ]
    },
    {
     "name": "stderr",
     "output_type": "stream",
     "text": [
      "\n"
     ]
    },
    {
     "name": "stdout",
     "output_type": "stream",
     "text": [
      "Validation Loss: 0.069 Acc: 0.980\n"
     ]
    },
    {
     "name": "stderr",
     "output_type": "stream",
     "text": [
      "Epoch 46/100: 100%|██████████| 1094/1094 [01:14<00:00, 14.74it/s, acc=0.983, loss=0.0663]"
     ]
    },
    {
     "name": "stdout",
     "output_type": "stream",
     "text": [
      "Training Loss: 0.066 Acc: 0.983\n"
     ]
    },
    {
     "name": "stderr",
     "output_type": "stream",
     "text": [
      "\n"
     ]
    },
    {
     "name": "stdout",
     "output_type": "stream",
     "text": [
      "Validation Loss: 0.066 Acc: 0.980\n"
     ]
    },
    {
     "name": "stderr",
     "output_type": "stream",
     "text": [
      "Epoch 47/100: 100%|██████████| 1094/1094 [01:14<00:00, 14.72it/s, acc=0.983, loss=0.0668]"
     ]
    },
    {
     "name": "stdout",
     "output_type": "stream",
     "text": [
      "Training Loss: 0.067 Acc: 0.983\n"
     ]
    },
    {
     "name": "stderr",
     "output_type": "stream",
     "text": [
      "\n"
     ]
    },
    {
     "name": "stdout",
     "output_type": "stream",
     "text": [
      "Validation Loss: 0.063 Acc: 0.982\n",
      "Best model saved at epoch 47 with validation accuracy: 0.982\n"
     ]
    },
    {
     "name": "stderr",
     "output_type": "stream",
     "text": [
      "Epoch 48/100: 100%|██████████| 1094/1094 [01:14<00:00, 14.77it/s, acc=0.984, loss=0.0645]"
     ]
    },
    {
     "name": "stdout",
     "output_type": "stream",
     "text": [
      "Training Loss: 0.065 Acc: 0.984\n"
     ]
    },
    {
     "name": "stderr",
     "output_type": "stream",
     "text": [
      "\n"
     ]
    },
    {
     "name": "stdout",
     "output_type": "stream",
     "text": [
      "Validation Loss: 0.064 Acc: 0.980\n"
     ]
    },
    {
     "name": "stderr",
     "output_type": "stream",
     "text": [
      "Epoch 49/100: 100%|██████████| 1094/1094 [01:14<00:00, 14.78it/s, acc=0.985, loss=0.062]"
     ]
    },
    {
     "name": "stdout",
     "output_type": "stream",
     "text": [
      "Training Loss: 0.062 Acc: 0.985\n"
     ]
    },
    {
     "name": "stderr",
     "output_type": "stream",
     "text": [
      "\n"
     ]
    },
    {
     "name": "stdout",
     "output_type": "stream",
     "text": [
      "Validation Loss: 0.065 Acc: 0.980\n"
     ]
    },
    {
     "name": "stderr",
     "output_type": "stream",
     "text": [
      "Epoch 50/100: 100%|██████████| 1094/1094 [01:14<00:00, 14.74it/s, acc=0.983, loss=0.0642]"
     ]
    },
    {
     "name": "stdout",
     "output_type": "stream",
     "text": [
      "Training Loss: 0.064 Acc: 0.983\n"
     ]
    },
    {
     "name": "stderr",
     "output_type": "stream",
     "text": [
      "\n"
     ]
    },
    {
     "name": "stdout",
     "output_type": "stream",
     "text": [
      "Validation Loss: 0.065 Acc: 0.981\n"
     ]
    },
    {
     "name": "stderr",
     "output_type": "stream",
     "text": [
      "Epoch 51/100: 100%|██████████| 1094/1094 [01:14<00:00, 14.77it/s, acc=0.985, loss=0.0612]"
     ]
    },
    {
     "name": "stdout",
     "output_type": "stream",
     "text": [
      "Training Loss: 0.061 Acc: 0.985\n"
     ]
    },
    {
     "name": "stderr",
     "output_type": "stream",
     "text": [
      "\n"
     ]
    },
    {
     "name": "stdout",
     "output_type": "stream",
     "text": [
      "Validation Loss: 0.064 Acc: 0.980\n"
     ]
    },
    {
     "name": "stderr",
     "output_type": "stream",
     "text": [
      "Epoch 52/100: 100%|██████████| 1094/1094 [01:14<00:00, 14.73it/s, acc=0.984, loss=0.0602]"
     ]
    },
    {
     "name": "stdout",
     "output_type": "stream",
     "text": [
      "Training Loss: 0.060 Acc: 0.984\n"
     ]
    },
    {
     "name": "stderr",
     "output_type": "stream",
     "text": [
      "\n"
     ]
    },
    {
     "name": "stdout",
     "output_type": "stream",
     "text": [
      "Validation Loss: 0.062 Acc: 0.981\n"
     ]
    },
    {
     "name": "stderr",
     "output_type": "stream",
     "text": [
      "Epoch 53/100: 100%|██████████| 1094/1094 [01:14<00:00, 14.74it/s, acc=0.985, loss=0.0598]"
     ]
    },
    {
     "name": "stdout",
     "output_type": "stream",
     "text": [
      "Training Loss: 0.060 Acc: 0.985\n"
     ]
    },
    {
     "name": "stderr",
     "output_type": "stream",
     "text": [
      "\n"
     ]
    },
    {
     "name": "stdout",
     "output_type": "stream",
     "text": [
      "Validation Loss: 0.065 Acc: 0.980\n"
     ]
    },
    {
     "name": "stderr",
     "output_type": "stream",
     "text": [
      "Epoch 54/100: 100%|██████████| 1094/1094 [01:14<00:00, 14.74it/s, acc=0.984, loss=0.0615]"
     ]
    },
    {
     "name": "stdout",
     "output_type": "stream",
     "text": [
      "Training Loss: 0.061 Acc: 0.984\n"
     ]
    },
    {
     "name": "stderr",
     "output_type": "stream",
     "text": [
      "\n"
     ]
    },
    {
     "name": "stdout",
     "output_type": "stream",
     "text": [
      "Validation Loss: 0.061 Acc: 0.982\n"
     ]
    },
    {
     "name": "stderr",
     "output_type": "stream",
     "text": [
      "Epoch 55/100: 100%|██████████| 1094/1094 [01:14<00:00, 14.68it/s, acc=0.985, loss=0.0597]"
     ]
    },
    {
     "name": "stdout",
     "output_type": "stream",
     "text": [
      "Training Loss: 0.060 Acc: 0.985\n"
     ]
    },
    {
     "name": "stderr",
     "output_type": "stream",
     "text": [
      "\n"
     ]
    },
    {
     "name": "stdout",
     "output_type": "stream",
     "text": [
      "Validation Loss: 0.062 Acc: 0.981\n"
     ]
    },
    {
     "name": "stderr",
     "output_type": "stream",
     "text": [
      "Epoch 56/100: 100%|██████████| 1094/1094 [01:14<00:00, 14.72it/s, acc=0.984, loss=0.0593]"
     ]
    },
    {
     "name": "stdout",
     "output_type": "stream",
     "text": [
      "Training Loss: 0.059 Acc: 0.984\n"
     ]
    },
    {
     "name": "stderr",
     "output_type": "stream",
     "text": [
      "\n"
     ]
    },
    {
     "name": "stdout",
     "output_type": "stream",
     "text": [
      "Validation Loss: 0.063 Acc: 0.981\n"
     ]
    },
    {
     "name": "stderr",
     "output_type": "stream",
     "text": [
      "Epoch 57/100: 100%|██████████| 1094/1094 [01:14<00:00, 14.76it/s, acc=0.986, loss=0.057]"
     ]
    },
    {
     "name": "stdout",
     "output_type": "stream",
     "text": [
      "Training Loss: 0.057 Acc: 0.986\n"
     ]
    },
    {
     "name": "stderr",
     "output_type": "stream",
     "text": [
      "\n"
     ]
    },
    {
     "name": "stdout",
     "output_type": "stream",
     "text": [
      "Validation Loss: 0.059 Acc: 0.981\n"
     ]
    },
    {
     "name": "stderr",
     "output_type": "stream",
     "text": [
      "Epoch 58/100: 100%|██████████| 1094/1094 [01:14<00:00, 14.72it/s, acc=0.986, loss=0.0557]"
     ]
    },
    {
     "name": "stdout",
     "output_type": "stream",
     "text": [
      "Training Loss: 0.056 Acc: 0.986\n"
     ]
    },
    {
     "name": "stderr",
     "output_type": "stream",
     "text": [
      "\n"
     ]
    },
    {
     "name": "stdout",
     "output_type": "stream",
     "text": [
      "Validation Loss: 0.057 Acc: 0.983\n",
      "Best model saved at epoch 58 with validation accuracy: 0.983\n"
     ]
    },
    {
     "name": "stderr",
     "output_type": "stream",
     "text": [
      "Epoch 59/100: 100%|██████████| 1094/1094 [01:14<00:00, 14.75it/s, acc=0.986, loss=0.0559]"
     ]
    },
    {
     "name": "stdout",
     "output_type": "stream",
     "text": [
      "Training Loss: 0.056 Acc: 0.986\n"
     ]
    },
    {
     "name": "stderr",
     "output_type": "stream",
     "text": [
      "\n"
     ]
    },
    {
     "name": "stdout",
     "output_type": "stream",
     "text": [
      "Validation Loss: 0.059 Acc: 0.984\n",
      "Best model saved at epoch 59 with validation accuracy: 0.984\n"
     ]
    },
    {
     "name": "stderr",
     "output_type": "stream",
     "text": [
      "Epoch 60/100: 100%|██████████| 1094/1094 [01:14<00:00, 14.68it/s, acc=0.985, loss=0.0557]"
     ]
    },
    {
     "name": "stdout",
     "output_type": "stream",
     "text": [
      "Training Loss: 0.056 Acc: 0.985\n"
     ]
    },
    {
     "name": "stderr",
     "output_type": "stream",
     "text": [
      "\n"
     ]
    },
    {
     "name": "stdout",
     "output_type": "stream",
     "text": [
      "Validation Loss: 0.060 Acc: 0.982\n"
     ]
    },
    {
     "name": "stderr",
     "output_type": "stream",
     "text": [
      "Epoch 61/100: 100%|██████████| 1094/1094 [01:14<00:00, 14.71it/s, acc=0.986, loss=0.0543]"
     ]
    },
    {
     "name": "stdout",
     "output_type": "stream",
     "text": [
      "Training Loss: 0.054 Acc: 0.986\n"
     ]
    },
    {
     "name": "stderr",
     "output_type": "stream",
     "text": [
      "\n"
     ]
    },
    {
     "name": "stdout",
     "output_type": "stream",
     "text": [
      "Validation Loss: 0.059 Acc: 0.983\n"
     ]
    },
    {
     "name": "stderr",
     "output_type": "stream",
     "text": [
      "Epoch 62/100: 100%|██████████| 1094/1094 [01:14<00:00, 14.74it/s, acc=0.986, loss=0.0543]"
     ]
    },
    {
     "name": "stdout",
     "output_type": "stream",
     "text": [
      "Training Loss: 0.054 Acc: 0.986\n"
     ]
    },
    {
     "name": "stderr",
     "output_type": "stream",
     "text": [
      "\n"
     ]
    },
    {
     "name": "stdout",
     "output_type": "stream",
     "text": [
      "Validation Loss: 0.061 Acc: 0.982\n"
     ]
    },
    {
     "name": "stderr",
     "output_type": "stream",
     "text": [
      "Epoch 63/100: 100%|██████████| 1094/1094 [01:14<00:00, 14.73it/s, acc=0.987, loss=0.0539]"
     ]
    },
    {
     "name": "stdout",
     "output_type": "stream",
     "text": [
      "Training Loss: 0.054 Acc: 0.987\n"
     ]
    },
    {
     "name": "stderr",
     "output_type": "stream",
     "text": [
      "\n"
     ]
    },
    {
     "name": "stdout",
     "output_type": "stream",
     "text": [
      "Validation Loss: 0.057 Acc: 0.984\n"
     ]
    },
    {
     "name": "stderr",
     "output_type": "stream",
     "text": [
      "Epoch 64/100: 100%|██████████| 1094/1094 [01:14<00:00, 14.71it/s, acc=0.987, loss=0.0526]"
     ]
    },
    {
     "name": "stdout",
     "output_type": "stream",
     "text": [
      "Training Loss: 0.053 Acc: 0.987\n"
     ]
    },
    {
     "name": "stderr",
     "output_type": "stream",
     "text": [
      "\n"
     ]
    },
    {
     "name": "stdout",
     "output_type": "stream",
     "text": [
      "Validation Loss: 0.058 Acc: 0.983\n"
     ]
    },
    {
     "name": "stderr",
     "output_type": "stream",
     "text": [
      "Epoch 65/100: 100%|██████████| 1094/1094 [01:14<00:00, 14.73it/s, acc=0.986, loss=0.0538]"
     ]
    },
    {
     "name": "stdout",
     "output_type": "stream",
     "text": [
      "Training Loss: 0.054 Acc: 0.986\n"
     ]
    },
    {
     "name": "stderr",
     "output_type": "stream",
     "text": [
      "\n"
     ]
    },
    {
     "name": "stdout",
     "output_type": "stream",
     "text": [
      "Validation Loss: 0.058 Acc: 0.983\n"
     ]
    },
    {
     "name": "stderr",
     "output_type": "stream",
     "text": [
      "Epoch 66/100: 100%|██████████| 1094/1094 [01:14<00:00, 14.68it/s, acc=0.987, loss=0.0518]"
     ]
    },
    {
     "name": "stdout",
     "output_type": "stream",
     "text": [
      "Training Loss: 0.052 Acc: 0.987\n"
     ]
    },
    {
     "name": "stderr",
     "output_type": "stream",
     "text": [
      "\n"
     ]
    },
    {
     "name": "stdout",
     "output_type": "stream",
     "text": [
      "Validation Loss: 0.056 Acc: 0.983\n"
     ]
    },
    {
     "name": "stderr",
     "output_type": "stream",
     "text": [
      "Epoch 67/100: 100%|██████████| 1094/1094 [01:14<00:00, 14.69it/s, acc=0.987, loss=0.0507]"
     ]
    },
    {
     "name": "stdout",
     "output_type": "stream",
     "text": [
      "Training Loss: 0.051 Acc: 0.987\n"
     ]
    },
    {
     "name": "stderr",
     "output_type": "stream",
     "text": [
      "\n"
     ]
    },
    {
     "name": "stdout",
     "output_type": "stream",
     "text": [
      "Validation Loss: 0.058 Acc: 0.983\n"
     ]
    },
    {
     "name": "stderr",
     "output_type": "stream",
     "text": [
      "Epoch 68/100: 100%|██████████| 1094/1094 [01:14<00:00, 14.70it/s, acc=0.987, loss=0.0519]"
     ]
    },
    {
     "name": "stdout",
     "output_type": "stream",
     "text": [
      "Training Loss: 0.052 Acc: 0.987\n"
     ]
    },
    {
     "name": "stderr",
     "output_type": "stream",
     "text": [
      "\n"
     ]
    },
    {
     "name": "stdout",
     "output_type": "stream",
     "text": [
      "Validation Loss: 0.059 Acc: 0.982\n"
     ]
    },
    {
     "name": "stderr",
     "output_type": "stream",
     "text": [
      "Epoch 69/100: 100%|██████████| 1094/1094 [01:14<00:00, 14.73it/s, acc=0.987, loss=0.0503]"
     ]
    },
    {
     "name": "stdout",
     "output_type": "stream",
     "text": [
      "Training Loss: 0.050 Acc: 0.987\n"
     ]
    },
    {
     "name": "stderr",
     "output_type": "stream",
     "text": [
      "\n"
     ]
    },
    {
     "name": "stdout",
     "output_type": "stream",
     "text": [
      "Validation Loss: 0.058 Acc: 0.982\n"
     ]
    },
    {
     "name": "stderr",
     "output_type": "stream",
     "text": [
      "Epoch 70/100: 100%|██████████| 1094/1094 [01:14<00:00, 14.68it/s, acc=0.987, loss=0.0501]"
     ]
    },
    {
     "name": "stdout",
     "output_type": "stream",
     "text": [
      "Training Loss: 0.050 Acc: 0.987\n"
     ]
    },
    {
     "name": "stderr",
     "output_type": "stream",
     "text": [
      "\n"
     ]
    },
    {
     "name": "stdout",
     "output_type": "stream",
     "text": [
      "Validation Loss: 0.059 Acc: 0.981\n"
     ]
    },
    {
     "name": "stderr",
     "output_type": "stream",
     "text": [
      "Epoch 71/100: 100%|██████████| 1094/1094 [01:14<00:00, 14.69it/s, acc=0.987, loss=0.0494]"
     ]
    },
    {
     "name": "stdout",
     "output_type": "stream",
     "text": [
      "Training Loss: 0.049 Acc: 0.987\n"
     ]
    },
    {
     "name": "stderr",
     "output_type": "stream",
     "text": [
      "\n"
     ]
    },
    {
     "name": "stdout",
     "output_type": "stream",
     "text": [
      "Validation Loss: 0.054 Acc: 0.983\n"
     ]
    },
    {
     "name": "stderr",
     "output_type": "stream",
     "text": [
      "Epoch 72/100: 100%|██████████| 1094/1094 [01:14<00:00, 14.70it/s, acc=0.988, loss=0.0479]"
     ]
    },
    {
     "name": "stdout",
     "output_type": "stream",
     "text": [
      "Training Loss: 0.048 Acc: 0.988\n"
     ]
    },
    {
     "name": "stderr",
     "output_type": "stream",
     "text": [
      "\n"
     ]
    },
    {
     "name": "stdout",
     "output_type": "stream",
     "text": [
      "Validation Loss: 0.056 Acc: 0.983\n"
     ]
    },
    {
     "name": "stderr",
     "output_type": "stream",
     "text": [
      "Epoch 73/100: 100%|██████████| 1094/1094 [01:14<00:00, 14.70it/s, acc=0.988, loss=0.0486]"
     ]
    },
    {
     "name": "stdout",
     "output_type": "stream",
     "text": [
      "Training Loss: 0.049 Acc: 0.988\n"
     ]
    },
    {
     "name": "stderr",
     "output_type": "stream",
     "text": [
      "\n"
     ]
    },
    {
     "name": "stdout",
     "output_type": "stream",
     "text": [
      "Validation Loss: 0.054 Acc: 0.983\n"
     ]
    },
    {
     "name": "stderr",
     "output_type": "stream",
     "text": [
      "Epoch 74/100: 100%|██████████| 1094/1094 [01:14<00:00, 14.71it/s, acc=0.988, loss=0.0484]"
     ]
    },
    {
     "name": "stdout",
     "output_type": "stream",
     "text": [
      "Training Loss: 0.048 Acc: 0.988\n"
     ]
    },
    {
     "name": "stderr",
     "output_type": "stream",
     "text": [
      "\n"
     ]
    },
    {
     "name": "stdout",
     "output_type": "stream",
     "text": [
      "Validation Loss: 0.055 Acc: 0.984\n",
      "Best model saved at epoch 74 with validation accuracy: 0.984\n"
     ]
    },
    {
     "name": "stderr",
     "output_type": "stream",
     "text": [
      "Epoch 75/100: 100%|██████████| 1094/1094 [01:14<00:00, 14.70it/s, acc=0.988, loss=0.0475]"
     ]
    },
    {
     "name": "stdout",
     "output_type": "stream",
     "text": [
      "Training Loss: 0.047 Acc: 0.988\n"
     ]
    },
    {
     "name": "stderr",
     "output_type": "stream",
     "text": [
      "\n"
     ]
    },
    {
     "name": "stdout",
     "output_type": "stream",
     "text": [
      "Validation Loss: 0.055 Acc: 0.983\n"
     ]
    },
    {
     "name": "stderr",
     "output_type": "stream",
     "text": [
      "Epoch 76/100: 100%|██████████| 1094/1094 [01:14<00:00, 14.70it/s, acc=0.988, loss=0.0465]"
     ]
    },
    {
     "name": "stdout",
     "output_type": "stream",
     "text": [
      "Training Loss: 0.047 Acc: 0.988\n"
     ]
    },
    {
     "name": "stderr",
     "output_type": "stream",
     "text": [
      "\n"
     ]
    },
    {
     "name": "stdout",
     "output_type": "stream",
     "text": [
      "Validation Loss: 0.053 Acc: 0.984\n"
     ]
    },
    {
     "name": "stderr",
     "output_type": "stream",
     "text": [
      "Epoch 77/100: 100%|██████████| 1094/1094 [01:16<00:00, 14.32it/s, acc=0.989, loss=0.0457]"
     ]
    },
    {
     "name": "stdout",
     "output_type": "stream",
     "text": [
      "Training Loss: 0.046 Acc: 0.989\n"
     ]
    },
    {
     "name": "stderr",
     "output_type": "stream",
     "text": [
      "\n"
     ]
    },
    {
     "name": "stdout",
     "output_type": "stream",
     "text": [
      "Validation Loss: 0.054 Acc: 0.983\n"
     ]
    },
    {
     "name": "stderr",
     "output_type": "stream",
     "text": [
      "Epoch 78/100: 100%|██████████| 1094/1094 [01:14<00:00, 14.78it/s, acc=0.988, loss=0.0465]"
     ]
    },
    {
     "name": "stdout",
     "output_type": "stream",
     "text": [
      "Training Loss: 0.046 Acc: 0.988\n"
     ]
    },
    {
     "name": "stderr",
     "output_type": "stream",
     "text": [
      "\n"
     ]
    },
    {
     "name": "stdout",
     "output_type": "stream",
     "text": [
      "Validation Loss: 0.053 Acc: 0.983\n"
     ]
    },
    {
     "name": "stderr",
     "output_type": "stream",
     "text": [
      "Epoch 79/100: 100%|██████████| 1094/1094 [01:14<00:00, 14.67it/s, acc=0.988, loss=0.0468]"
     ]
    },
    {
     "name": "stdout",
     "output_type": "stream",
     "text": [
      "Training Loss: 0.047 Acc: 0.988\n"
     ]
    },
    {
     "name": "stderr",
     "output_type": "stream",
     "text": [
      "\n"
     ]
    },
    {
     "name": "stdout",
     "output_type": "stream",
     "text": [
      "Validation Loss: 0.054 Acc: 0.983\n"
     ]
    },
    {
     "name": "stderr",
     "output_type": "stream",
     "text": [
      "Epoch 80/100: 100%|██████████| 1094/1094 [01:14<00:00, 14.69it/s, acc=0.989, loss=0.0441]"
     ]
    },
    {
     "name": "stdout",
     "output_type": "stream",
     "text": [
      "Training Loss: 0.044 Acc: 0.989\n"
     ]
    },
    {
     "name": "stderr",
     "output_type": "stream",
     "text": [
      "\n"
     ]
    },
    {
     "name": "stdout",
     "output_type": "stream",
     "text": [
      "Validation Loss: 0.055 Acc: 0.983\n"
     ]
    },
    {
     "name": "stderr",
     "output_type": "stream",
     "text": [
      "Epoch 81/100: 100%|██████████| 1094/1094 [01:14<00:00, 14.68it/s, acc=0.989, loss=0.0453]"
     ]
    },
    {
     "name": "stdout",
     "output_type": "stream",
     "text": [
      "Training Loss: 0.045 Acc: 0.989\n"
     ]
    },
    {
     "name": "stderr",
     "output_type": "stream",
     "text": [
      "\n"
     ]
    },
    {
     "name": "stdout",
     "output_type": "stream",
     "text": [
      "Validation Loss: 0.052 Acc: 0.984\n"
     ]
    },
    {
     "name": "stderr",
     "output_type": "stream",
     "text": [
      "Epoch 82/100: 100%|██████████| 1094/1094 [01:14<00:00, 14.67it/s, acc=0.988, loss=0.0441]"
     ]
    },
    {
     "name": "stdout",
     "output_type": "stream",
     "text": [
      "Training Loss: 0.044 Acc: 0.988\n"
     ]
    },
    {
     "name": "stderr",
     "output_type": "stream",
     "text": [
      "\n"
     ]
    },
    {
     "name": "stdout",
     "output_type": "stream",
     "text": [
      "Validation Loss: 0.053 Acc: 0.983\n"
     ]
    },
    {
     "name": "stderr",
     "output_type": "stream",
     "text": [
      "Epoch 83/100: 100%|██████████| 1094/1094 [01:14<00:00, 14.69it/s, acc=0.988, loss=0.0453]"
     ]
    },
    {
     "name": "stdout",
     "output_type": "stream",
     "text": [
      "Training Loss: 0.045 Acc: 0.988\n"
     ]
    },
    {
     "name": "stderr",
     "output_type": "stream",
     "text": [
      "\n"
     ]
    },
    {
     "name": "stdout",
     "output_type": "stream",
     "text": [
      "Validation Loss: 0.052 Acc: 0.984\n"
     ]
    },
    {
     "name": "stderr",
     "output_type": "stream",
     "text": [
      "Epoch 84/100: 100%|██████████| 1094/1094 [01:14<00:00, 14.64it/s, acc=0.989, loss=0.0436]"
     ]
    },
    {
     "name": "stdout",
     "output_type": "stream",
     "text": [
      "Training Loss: 0.044 Acc: 0.989\n"
     ]
    },
    {
     "name": "stderr",
     "output_type": "stream",
     "text": [
      "\n"
     ]
    },
    {
     "name": "stdout",
     "output_type": "stream",
     "text": [
      "Validation Loss: 0.051 Acc: 0.984\n"
     ]
    },
    {
     "name": "stderr",
     "output_type": "stream",
     "text": [
      "Epoch 85/100: 100%|██████████| 1094/1094 [01:14<00:00, 14.60it/s, acc=0.989, loss=0.0437]"
     ]
    },
    {
     "name": "stdout",
     "output_type": "stream",
     "text": [
      "Training Loss: 0.044 Acc: 0.989\n"
     ]
    },
    {
     "name": "stderr",
     "output_type": "stream",
     "text": [
      "\n"
     ]
    },
    {
     "name": "stdout",
     "output_type": "stream",
     "text": [
      "Validation Loss: 0.052 Acc: 0.983\n"
     ]
    },
    {
     "name": "stderr",
     "output_type": "stream",
     "text": [
      "Epoch 86/100: 100%|██████████| 1094/1094 [01:14<00:00, 14.69it/s, acc=0.99, loss=0.0416]"
     ]
    },
    {
     "name": "stdout",
     "output_type": "stream",
     "text": [
      "Training Loss: 0.042 Acc: 0.990\n"
     ]
    },
    {
     "name": "stderr",
     "output_type": "stream",
     "text": [
      "\n"
     ]
    },
    {
     "name": "stdout",
     "output_type": "stream",
     "text": [
      "Validation Loss: 0.051 Acc: 0.985\n",
      "Best model saved at epoch 86 with validation accuracy: 0.985\n"
     ]
    },
    {
     "name": "stderr",
     "output_type": "stream",
     "text": [
      "Epoch 87/100: 100%|██████████| 1094/1094 [01:14<00:00, 14.78it/s, acc=0.99, loss=0.0413]"
     ]
    },
    {
     "name": "stdout",
     "output_type": "stream",
     "text": [
      "Training Loss: 0.041 Acc: 0.990\n"
     ]
    },
    {
     "name": "stderr",
     "output_type": "stream",
     "text": [
      "\n"
     ]
    },
    {
     "name": "stdout",
     "output_type": "stream",
     "text": [
      "Validation Loss: 0.052 Acc: 0.983\n"
     ]
    },
    {
     "name": "stderr",
     "output_type": "stream",
     "text": [
      "Epoch 88/100: 100%|██████████| 1094/1094 [01:14<00:00, 14.78it/s, acc=0.989, loss=0.0419]"
     ]
    },
    {
     "name": "stdout",
     "output_type": "stream",
     "text": [
      "Training Loss: 0.042 Acc: 0.989\n"
     ]
    },
    {
     "name": "stderr",
     "output_type": "stream",
     "text": [
      "\n"
     ]
    },
    {
     "name": "stdout",
     "output_type": "stream",
     "text": [
      "Validation Loss: 0.051 Acc: 0.984\n"
     ]
    },
    {
     "name": "stderr",
     "output_type": "stream",
     "text": [
      "Epoch 89/100: 100%|██████████| 1094/1094 [01:14<00:00, 14.70it/s, acc=0.99, loss=0.0412]"
     ]
    },
    {
     "name": "stdout",
     "output_type": "stream",
     "text": [
      "Training Loss: 0.041 Acc: 0.990\n"
     ]
    },
    {
     "name": "stderr",
     "output_type": "stream",
     "text": [
      "\n"
     ]
    },
    {
     "name": "stdout",
     "output_type": "stream",
     "text": [
      "Validation Loss: 0.050 Acc: 0.985\n",
      "Best model saved at epoch 89 with validation accuracy: 0.985\n"
     ]
    },
    {
     "name": "stderr",
     "output_type": "stream",
     "text": [
      "Epoch 90/100: 100%|██████████| 1094/1094 [01:14<00:00, 14.67it/s, acc=0.99, loss=0.0405]"
     ]
    },
    {
     "name": "stdout",
     "output_type": "stream",
     "text": [
      "Training Loss: 0.040 Acc: 0.990\n"
     ]
    },
    {
     "name": "stderr",
     "output_type": "stream",
     "text": [
      "\n"
     ]
    },
    {
     "name": "stdout",
     "output_type": "stream",
     "text": [
      "Validation Loss: 0.052 Acc: 0.984\n"
     ]
    },
    {
     "name": "stderr",
     "output_type": "stream",
     "text": [
      "Epoch 91/100: 100%|██████████| 1094/1094 [01:14<00:00, 14.64it/s, acc=0.991, loss=0.0388]"
     ]
    },
    {
     "name": "stdout",
     "output_type": "stream",
     "text": [
      "Training Loss: 0.039 Acc: 0.991\n"
     ]
    },
    {
     "name": "stderr",
     "output_type": "stream",
     "text": [
      "\n"
     ]
    },
    {
     "name": "stdout",
     "output_type": "stream",
     "text": [
      "Validation Loss: 0.050 Acc: 0.985\n"
     ]
    },
    {
     "name": "stderr",
     "output_type": "stream",
     "text": [
      "Epoch 92/100: 100%|██████████| 1094/1094 [01:14<00:00, 14.69it/s, acc=0.99, loss=0.0401]"
     ]
    },
    {
     "name": "stdout",
     "output_type": "stream",
     "text": [
      "Training Loss: 0.040 Acc: 0.990\n"
     ]
    },
    {
     "name": "stderr",
     "output_type": "stream",
     "text": [
      "\n"
     ]
    },
    {
     "name": "stdout",
     "output_type": "stream",
     "text": [
      "Validation Loss: 0.051 Acc: 0.983\n"
     ]
    },
    {
     "name": "stderr",
     "output_type": "stream",
     "text": [
      "Epoch 93/100: 100%|██████████| 1094/1094 [01:14<00:00, 14.66it/s, acc=0.99, loss=0.0393]"
     ]
    },
    {
     "name": "stdout",
     "output_type": "stream",
     "text": [
      "Training Loss: 0.039 Acc: 0.990\n"
     ]
    },
    {
     "name": "stderr",
     "output_type": "stream",
     "text": [
      "\n"
     ]
    },
    {
     "name": "stdout",
     "output_type": "stream",
     "text": [
      "Validation Loss: 0.053 Acc: 0.984\n"
     ]
    },
    {
     "name": "stderr",
     "output_type": "stream",
     "text": [
      "Epoch 94/100: 100%|██████████| 1094/1094 [01:14<00:00, 14.68it/s, acc=0.99, loss=0.0401]"
     ]
    },
    {
     "name": "stdout",
     "output_type": "stream",
     "text": [
      "Training Loss: 0.040 Acc: 0.990\n"
     ]
    },
    {
     "name": "stderr",
     "output_type": "stream",
     "text": [
      "\n"
     ]
    },
    {
     "name": "stdout",
     "output_type": "stream",
     "text": [
      "Validation Loss: 0.051 Acc: 0.984\n"
     ]
    },
    {
     "name": "stderr",
     "output_type": "stream",
     "text": [
      "Epoch 95/100: 100%|██████████| 1094/1094 [01:14<00:00, 14.71it/s, acc=0.991, loss=0.0376]"
     ]
    },
    {
     "name": "stdout",
     "output_type": "stream",
     "text": [
      "Training Loss: 0.038 Acc: 0.991\n"
     ]
    },
    {
     "name": "stderr",
     "output_type": "stream",
     "text": [
      "\n"
     ]
    },
    {
     "name": "stdout",
     "output_type": "stream",
     "text": [
      "Validation Loss: 0.049 Acc: 0.985\n"
     ]
    },
    {
     "name": "stderr",
     "output_type": "stream",
     "text": [
      "Epoch 96/100: 100%|██████████| 1094/1094 [01:14<00:00, 14.66it/s, acc=0.991, loss=0.0383]"
     ]
    },
    {
     "name": "stdout",
     "output_type": "stream",
     "text": [
      "Training Loss: 0.038 Acc: 0.991\n"
     ]
    },
    {
     "name": "stderr",
     "output_type": "stream",
     "text": [
      "\n"
     ]
    },
    {
     "name": "stdout",
     "output_type": "stream",
     "text": [
      "Validation Loss: 0.048 Acc: 0.985\n"
     ]
    },
    {
     "name": "stderr",
     "output_type": "stream",
     "text": [
      "Epoch 97/100: 100%|██████████| 1094/1094 [01:14<00:00, 14.65it/s, acc=0.99, loss=0.0389]"
     ]
    },
    {
     "name": "stdout",
     "output_type": "stream",
     "text": [
      "Training Loss: 0.039 Acc: 0.990\n"
     ]
    },
    {
     "name": "stderr",
     "output_type": "stream",
     "text": [
      "\n"
     ]
    },
    {
     "name": "stdout",
     "output_type": "stream",
     "text": [
      "Validation Loss: 0.048 Acc: 0.986\n",
      "Best model saved at epoch 97 with validation accuracy: 0.986\n"
     ]
    },
    {
     "name": "stderr",
     "output_type": "stream",
     "text": [
      "Epoch 98/100: 100%|██████████| 1094/1094 [01:14<00:00, 14.71it/s, acc=0.991, loss=0.0375]"
     ]
    },
    {
     "name": "stdout",
     "output_type": "stream",
     "text": [
      "Training Loss: 0.038 Acc: 0.991\n"
     ]
    },
    {
     "name": "stderr",
     "output_type": "stream",
     "text": [
      "\n"
     ]
    },
    {
     "name": "stdout",
     "output_type": "stream",
     "text": [
      "Validation Loss: 0.048 Acc: 0.986\n"
     ]
    },
    {
     "name": "stderr",
     "output_type": "stream",
     "text": [
      "Epoch 99/100: 100%|██████████| 1094/1094 [01:14<00:00, 14.66it/s, acc=0.991, loss=0.0378]"
     ]
    },
    {
     "name": "stdout",
     "output_type": "stream",
     "text": [
      "Training Loss: 0.038 Acc: 0.991\n"
     ]
    },
    {
     "name": "stderr",
     "output_type": "stream",
     "text": [
      "\n"
     ]
    },
    {
     "name": "stdout",
     "output_type": "stream",
     "text": [
      "Validation Loss: 0.047 Acc: 0.985\n"
     ]
    },
    {
     "name": "stderr",
     "output_type": "stream",
     "text": [
      "Epoch 100/100: 100%|██████████| 1094/1094 [01:14<00:00, 14.67it/s, acc=0.991, loss=0.0371]"
     ]
    },
    {
     "name": "stdout",
     "output_type": "stream",
     "text": [
      "Training Loss: 0.037 Acc: 0.991\n"
     ]
    },
    {
     "name": "stderr",
     "output_type": "stream",
     "text": [
      "\n"
     ]
    },
    {
     "name": "stdout",
     "output_type": "stream",
     "text": [
      "Validation Loss: 0.048 Acc: 0.985\n",
      "Training Time: 9254.85 seconds ---> 154.25 minutes\n"
     ]
    }
   ],
   "source": [
    "start_time = time.time()\n",
    "\n",
    "def train_model(model, criterion, optimizer, dataloader_train_dataset, dataloader_valid_dataset, num_epochs=100, save_path_checkpoints=\"checkpoints\"):\n",
    "    train_loss_history = []\n",
    "    train_acc_history = []\n",
    "    val_loss_history = []\n",
    "    val_acc_history = []\n",
    "\n",
    "    best_val_acc = 0.0\n",
    "\n",
    "    for epoch in range(num_epochs):\n",
    "        \n",
    "        model.train()\n",
    "        running_loss = 0.0\n",
    "        correct_train = 0\n",
    "        total_train = 0\n",
    "\n",
    "        progress_bar = tqdm(enumerate(dataloader_train_dataset), total=len(dataloader_train_dataset))\n",
    "        for i, (inputs, labels) in progress_bar:\n",
    "            inputs, labels = inputs.to(device), labels.to(device)\n",
    "            optimizer.zero_grad()\n",
    "            outputs = model(inputs)\n",
    "            loss = criterion(outputs, labels)\n",
    "            loss.backward()\n",
    "            optimizer.step()\n",
    "            _, predicted = torch.max(outputs, 1)\n",
    "            running_loss += loss.item() * inputs.size(0)\n",
    "            total_train += labels.size(0)\n",
    "            correct_train += (predicted == labels).sum().item()\n",
    "\n",
    "            progress_bar.set_description(f\"Epoch {epoch+1}/{num_epochs}\")\n",
    "            progress_bar.set_postfix(loss=running_loss / total_train, acc=correct_train / total_train)\n",
    "\n",
    "        epoch_train_loss = running_loss / total_train\n",
    "        epoch_train_acc = correct_train / total_train\n",
    "        train_loss_history.append(epoch_train_loss)\n",
    "        train_acc_history.append(epoch_train_acc)\n",
    "\n",
    "        print('Training Loss: {:.3f} Acc: {:.3f}'.format(epoch_train_loss, epoch_train_acc))\n",
    "\n",
    "        \n",
    "        model.eval()\n",
    "        running_loss = 0.0\n",
    "        correct_val = 0\n",
    "        total_val = 0\n",
    "\n",
    "        with torch.no_grad():\n",
    "            for inputs, labels in dataloader_valid_dataset:\n",
    "                inputs, labels = inputs.to(device), labels.to(device)\n",
    "                outputs = model(inputs)\n",
    "                loss = criterion(outputs, labels)\n",
    "                _, predicted = torch.max(outputs, 1)\n",
    "                running_loss += loss.item() * inputs.size(0)\n",
    "                total_val += labels.size(0)\n",
    "                correct_val += (predicted == labels).sum().item()\n",
    "\n",
    "        epoch_val_loss = running_loss / total_val\n",
    "        epoch_val_acc = correct_val / total_val\n",
    "        val_loss_history.append(epoch_val_loss)\n",
    "        val_acc_history.append(epoch_val_acc)\n",
    "\n",
    "        print('Validation Loss: {:.3f} Acc: {:.3f}'.format(epoch_val_loss, epoch_val_acc))\n",
    "\n",
    "        \n",
    "    \n",
    "        if epoch_val_acc > best_val_acc:\n",
    "            best_val_acc = epoch_val_acc\n",
    "            best_epoch = epoch + 1\n",
    "            filepath = f\"{save_path_checkpoints}/model.pt\"\n",
    "            checkpoint = {\n",
    "                \"epoch\": epoch + 1,\n",
    "                \"model_weight\": model.state_dict(),\n",
    "                \"optimizer_state\": optimizer.state_dict()\n",
    "            }\n",
    "            torch.save(checkpoint, filepath)\n",
    "            print(f\"Best model saved at epoch {best_epoch} with validation accuracy: {best_val_acc:.3f}\")\n",
    "\n",
    "    return train_loss_history, train_acc_history, val_loss_history, val_acc_history\n",
    "\n",
    "\n",
    "train_loss_history, train_acc_history, val_loss_history, val_acc_history = train_model(\n",
    "    model, criterion, optimizer, dataloader_train_dataset, dataloader_valid_dataset, save_path_checkpoints=save_path_checkpoints\n",
    ")\n",
    "\n",
    "end_time = time.time()\n",
    "training_time = end_time - start_time\n",
    "print(f\"Training Time: {training_time:.2f} seconds ---> {training_time/60:.2f} minutes\")\n",
    "\n",
    "data = {\n",
    "    'Epoch': list(range(1, len(train_loss_history) + 1)),\n",
    "    'Train Loss': train_loss_history,\n",
    "    'Train Accuracy': train_acc_history,\n",
    "    'Validation Loss': val_loss_history,\n",
    "    'Validation Accuracy': val_acc_history\n",
    "}\n",
    "\n",
    "history = pd.DataFrame(data)\n",
    "history.to_excel('/kaggle/working/training_data.xlsx', index=False)"
   ]
  },
  {
   "cell_type": "code",
   "execution_count": 18,
   "id": "702d648c",
   "metadata": {
    "execution": {
     "iopub.execute_input": "2025-09-08T05:27:39.042935Z",
     "iopub.status.busy": "2025-09-08T05:27:39.042492Z",
     "iopub.status.idle": "2025-09-08T05:27:39.359626Z",
     "shell.execute_reply": "2025-09-08T05:27:39.358953Z"
    },
    "papermill": {
     "duration": 12.106304,
     "end_time": "2025-09-08T05:27:39.361167",
     "exception": false,
     "start_time": "2025-09-08T05:27:27.254863",
     "status": "completed"
    },
    "tags": []
   },
   "outputs": [
    {
     "data": {
      "image/png": "[encoded data removed]",
      "text/plain": [
       "<Figure size 1200x400 with 2 Axes>"
      ]
     },
     "metadata": {},
     "output_type": "display_data"
    }
   ],
   "source": [
    "history = pd.read_excel('/kaggle/working/training_data.xlsx')\n",
    "\n",
    "plt.figure(figsize=(12, 4))\n",
    "\n",
    "plt.subplot(1, 2, 1)\n",
    "plt.plot(history['Epoch'], history['Train Loss'], label='Train Loss')\n",
    "plt.plot(history['Validation Loss'], label='Validation Loss')\n",
    "plt.xlabel('Epochs')\n",
    "plt.ylabel('Loss')\n",
    "plt.legend(['Training Loss', 'Validation Loss'], loc='upper right')\n",
    "plt.ylim(0,2)\n",
    "\n",
    "plt.subplot(1, 2, 2)\n",
    "plt.plot(history['Epoch'], history['Train Accuracy'], label='Train Accuracy')\n",
    "plt.plot(history['Validation Accuracy'], label='Validation Accuracy')\n",
    "plt.xlabel('Epochs')\n",
    "plt.ylabel('Accuracy')\n",
    "plt.legend(['Training Accuracy', 'Validation Accuracy'], loc='lower right')\n",
    "plt.ylim(0,1.1)\n",
    "\n",
    "plt.show()"
   ]
  },
  {
   "cell_type": "markdown",
   "id": "962498e5",
   "metadata": {
    "papermill": {
     "duration": 11.694908,
     "end_time": "2025-09-08T05:28:02.732456",
     "exception": false,
     "start_time": "2025-09-08T05:27:51.037548",
     "status": "completed"
    },
    "tags": []
   },
   "source": [
    "# Evaluation"
   ]
  },
  {
   "cell_type": "code",
   "execution_count": 19,
   "id": "adf7ff59",
   "metadata": {
    "execution": {
     "iopub.execute_input": "2025-09-08T05:28:26.243708Z",
     "iopub.status.busy": "2025-09-08T05:28:26.243040Z",
     "iopub.status.idle": "2025-09-08T05:28:26.248161Z",
     "shell.execute_reply": "2025-09-08T05:28:26.247543Z"
    },
    "papermill": {
     "duration": 11.553346,
     "end_time": "2025-09-08T05:28:26.249287",
     "exception": false,
     "start_time": "2025-09-08T05:28:14.695941",
     "status": "completed"
    },
    "tags": []
   },
   "outputs": [],
   "source": [
    "def evaluate_model(model, criterion, dataloader):\n",
    "    model.eval()\n",
    "    running_loss = 0.0\n",
    "    correct = 0\n",
    "    total = 0\n",
    "\n",
    "    with torch.no_grad():\n",
    "        for inputs, labels in dataloader:\n",
    "            inputs, labels = inputs.to(device), labels.to(device)\n",
    "            outputs = model(inputs)\n",
    "            loss = criterion(outputs, labels)\n",
    "            _, predicted = torch.max(outputs, 1)\n",
    "            running_loss += loss.item() * inputs.size(0)\n",
    "            total += labels.size(0)\n",
    "            correct += (predicted == labels).sum().item()\n",
    "\n",
    "    loss = running_loss / total\n",
    "    accuracy = correct / total\n",
    "\n",
    "    return loss, accuracy"
   ]
  },
  {
   "cell_type": "code",
   "execution_count": 20,
   "id": "caaaee24",
   "metadata": {
    "execution": {
     "iopub.execute_input": "2025-09-08T05:28:49.684605Z",
     "iopub.status.busy": "2025-09-08T05:28:49.684325Z",
     "iopub.status.idle": "2025-09-08T05:29:07.698778Z",
     "shell.execute_reply": "2025-09-08T05:29:07.697759Z"
    },
    "papermill": {
     "duration": 29.734182,
     "end_time": "2025-09-08T05:29:07.700139",
     "exception": false,
     "start_time": "2025-09-08T05:28:37.965957",
     "status": "completed"
    },
    "tags": []
   },
   "outputs": [
    {
     "name": "stdout",
     "output_type": "stream",
     "text": [
      "Best model (from epoch 97) - Validation Loss: 0.048, Validation Accuracy: 0.986\n"
     ]
    }
   ],
   "source": [
    "best_checkpoint_path = f\"{save_path_checkpoints}/model.pt\"\n",
    "checkpoint = torch.load(best_checkpoint_path)\n",
    "best_epoch = checkpoint[\"epoch\"]\n",
    "model.load_state_dict(checkpoint[\"model_weight\"])\n",
    "optimizer.load_state_dict(checkpoint[\"optimizer_state\"])\n",
    "\n",
    "best_val_loss, best_val_accuracy = evaluate_model(model, criterion, dataloader_valid_dataset)\n",
    "print(f\"Best model (from epoch {best_epoch}) - Validation Loss: {best_val_loss:.3f}, Validation Accuracy: {best_val_accuracy:.3f}\")"
   ]
  },
  {
   "cell_type": "code",
   "execution_count": 21,
   "id": "7f88a63b",
   "metadata": {
    "execution": {
     "iopub.execute_input": "2025-09-08T05:29:31.170814Z",
     "iopub.status.busy": "2025-09-08T05:29:31.170492Z",
     "iopub.status.idle": "2025-09-08T05:29:58.467688Z",
     "shell.execute_reply": "2025-09-08T05:29:58.466764Z"
    },
    "papermill": {
     "duration": 39.069976,
     "end_time": "2025-09-08T05:29:58.469048",
     "exception": false,
     "start_time": "2025-09-08T05:29:19.399072",
     "status": "completed"
    },
    "tags": []
   },
   "outputs": [
    {
     "name": "stdout",
     "output_type": "stream",
     "text": [
      "Test Accuracy: 0.984\n",
      "Test Time: 27.29 seconds ---> 0.45 minutes\n"
     ]
    }
   ],
   "source": [
    "start_time = time.time()\n",
    "\n",
    "test_loss, test_accuracy = evaluate_model(model, criterion, dataloader_test_dataset)\n",
    "print(f\"Test Accuracy: {test_accuracy:.3f}\")\n",
    "\n",
    "end_time = time.time()\n",
    "test_time = end_time - start_time\n",
    "print(f\"Test Time: {test_time:.2f} seconds ---> {test_time/60:.2f} minutes\")"
   ]
  },
  {
   "cell_type": "code",
   "execution_count": 22,
   "id": "ca6e4fe0",
   "metadata": {
    "execution": {
     "iopub.execute_input": "2025-09-08T05:30:21.688827Z",
     "iopub.status.busy": "2025-09-08T05:30:21.688519Z",
     "iopub.status.idle": "2025-09-08T05:30:57.864679Z",
     "shell.execute_reply": "2025-09-08T05:30:57.863881Z"
    },
    "papermill": {
     "duration": 47.666639,
     "end_time": "2025-09-08T05:30:57.866024",
     "exception": false,
     "start_time": "2025-09-08T05:30:10.199385",
     "status": "completed"
    },
    "tags": []
   },
   "outputs": [
    {
     "name": "stdout",
     "output_type": "stream",
     "text": [
      "Classification Report:\n",
      "              precision    recall  f1-score   support\n",
      "\n",
      "           0       0.98      0.97      0.97       375\n",
      "           1       0.98      0.97      0.98       375\n",
      "           2       1.00      1.00      1.00       375\n",
      "           3       1.00      1.00      1.00       375\n",
      "           4       0.99      0.99      0.99       375\n",
      "           5       1.00      0.99      0.99       375\n",
      "           6       0.97      0.98      0.97       375\n",
      "           7       0.98      0.98      0.98       375\n",
      "           8       1.00      1.00      1.00       375\n",
      "           9       1.00      1.00      1.00       375\n",
      "          10       0.99      0.99      0.99       375\n",
      "          11       0.96      0.98      0.97       375\n",
      "          12       1.00      1.00      1.00       375\n",
      "          13       0.97      0.98      0.98       375\n",
      "          14       0.98      0.97      0.97       375\n",
      "          15       0.98      0.97      0.97       375\n",
      "          16       0.96      0.95      0.96       375\n",
      "          17       0.99      1.00      0.99       375\n",
      "          18       0.97      0.99      0.98       375\n",
      "          19       0.98      0.97      0.97       375\n",
      "\n",
      "    accuracy                           0.98      7500\n",
      "   macro avg       0.98      0.98      0.98      7500\n",
      "weighted avg       0.98      0.98      0.98      7500\n",
      "\n",
      "Class 0 Accuracy: 0.971\n",
      "Class 1 Accuracy: 0.971\n",
      "Class 2 Accuracy: 1.000\n",
      "Class 3 Accuracy: 0.997\n",
      "Class 4 Accuracy: 0.995\n",
      "Class 5 Accuracy: 0.987\n",
      "Class 6 Accuracy: 0.981\n",
      "Class 7 Accuracy: 0.976\n",
      "Class 8 Accuracy: 0.997\n",
      "Class 9 Accuracy: 1.000\n",
      "Class 10 Accuracy: 0.992\n",
      "Class 11 Accuracy: 0.981\n",
      "Class 12 Accuracy: 1.000\n",
      "Class 13 Accuracy: 0.981\n",
      "Class 14 Accuracy: 0.968\n",
      "Class 15 Accuracy: 0.965\n",
      "Class 16 Accuracy: 0.952\n",
      "Class 17 Accuracy: 0.997\n",
      "Class 18 Accuracy: 0.989\n",
      "Class 19 Accuracy: 0.973\n"
     ]
    }
   ],
   "source": [
    "def class_accuracy(model, dataloader, num_classes):\n",
    "    class_correct = [0.0] * num_classes\n",
    "    class_total = [0.0] * num_classes\n",
    "\n",
    "    model.eval()\n",
    "    with torch.no_grad():\n",
    "        for inputs, labels in dataloader:\n",
    "            inputs, labels = inputs.to(device), labels.to(device)\n",
    "            outputs = model(inputs)\n",
    "            _, predicted = torch.max(outputs, 1)\n",
    "            correct = (predicted == labels)\n",
    "            for i in range(len(labels)):\n",
    "                label = labels[i]\n",
    "                class_correct[label] += correct[i].item()\n",
    "                class_total[label] += 1\n",
    "\n",
    "    class_accuracy = [class_correct[i] / class_total[i] if class_total[i] > 0 else 0 for i in range(num_classes)]\n",
    "\n",
    "    return class_accuracy\n",
    "\n",
    "y_true = []\n",
    "y_pred = []\n",
    "\n",
    "model.eval()\n",
    "with torch.no_grad():\n",
    "    for inputs, labels in dataloader_test_dataset:\n",
    "        inputs, labels = inputs.to(device), labels.to(device)\n",
    "        outputs = model(inputs)\n",
    "        _, predicted = torch.max(outputs, 1)\n",
    "        y_true.extend(labels.cpu().numpy())\n",
    "        y_pred.extend(predicted.cpu().numpy())\n",
    "\n",
    "y_true = np.array(y_true)\n",
    "y_pred = np.array(y_pred)\n",
    "\n",
    "class_names = [str(i) for i in range(total_class)]\n",
    "\n",
    "print(\"Classification Report:\")\n",
    "print(classification_report(y_true, y_pred, target_names=class_names))\n",
    "\n",
    "class_acc = class_accuracy(model, dataloader_test_dataset, total_class)\n",
    "for i in range(total_class):\n",
    "    print(f\"Class {i} Accuracy: {class_acc[i]:.3f}\")"
   ]
  }
 ],
 "metadata": {
  "kaggle": {
   "accelerator": "gpu",
   "dataSources": [
    {
     "datasetId": 8209227,
     "sourceId": 12970497,
     "sourceType": "datasetVersion"
    }
   ],
   "dockerImageVersionId": 31090,
   "isGpuEnabled": true,
   "isInternetEnabled": true,
   "language": "python",
   "sourceType": "notebook"
  },
  "kernelspec": {
   "display_name": "Python 3",
   "language": "python",
   "name": "python3"
  },
  "language_info": {
   "codemirror_mode": {
    "name": "ipython",
    "version": 3
   },
   "file_extension": ".py",
   "mimetype": "text/x-python",
   "name": "python",
   "nbconvert_exporter": "python",
   "pygments_lexer": "ipython3",
   "version": "3.11.13"
  },
  "papermill": {
   "default_parameters": {},
   "duration": 9516.096529,
   "end_time": "2025-09-08T05:31:12.643906",
   "environment_variables": {},
   "exception": null,
   "input_path": "__notebook__.ipynb",
   "output_path": "__notebook__.ipynb",
   "parameters": {},
   "start_time": "2025-09-08T02:52:36.547377",
   "version": "2.6.0"
  }
 },
 "nbformat": 4,
 "nbformat_minor": 5
}
