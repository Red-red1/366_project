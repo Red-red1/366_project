{
 "cells": [
  {
   "cell_type": "code",
   "execution_count": 1,
   "id": "cda75515",
   "metadata": {
    "execution": {
     "iopub.execute_input": "2025-09-06T02:12:49.776530Z",
     "iopub.status.busy": "2025-09-06T02:12:49.776329Z",
     "iopub.status.idle": "2025-09-06T02:12:53.643600Z",
     "shell.execute_reply": "2025-09-06T02:12:53.642660Z"
    },
    "papermill": {
     "duration": 3.87479,
     "end_time": "2025-09-06T02:12:53.645501",
     "exception": false,
     "start_time": "2025-09-06T02:12:49.770711",
     "status": "completed"
    },
    "tags": []
   },
   "outputs": [
    {
     "name": "stdout",
     "output_type": "stream",
     "text": [
      "Requirement already satisfied: torchinfo in /usr/local/lib/python3.11/dist-packages (1.8.0)\r\n"
     ]
    }
   ],
   "source": [
    "!pip install torchinfo"
   ]
  },
  {
   "cell_type": "markdown",
   "id": "03d12819",
   "metadata": {
    "papermill": {
     "duration": 0.004165,
     "end_time": "2025-09-06T02:12:53.654421",
     "exception": false,
     "start_time": "2025-09-06T02:12:53.650256",
     "status": "completed"
    },
    "tags": []
   },
   "source": [
    "# IMPORT LIBRARIES"
   ]
  },
  {
   "cell_type": "code",
   "execution_count": 2,
   "id": "de3faa7b",
   "metadata": {
    "execution": {
     "iopub.execute_input": "2025-09-06T02:12:53.663711Z",
     "iopub.status.busy": "2025-09-06T02:12:53.663451Z",
     "iopub.status.idle": "2025-09-06T02:13:05.341109Z",
     "shell.execute_reply": "2025-09-06T02:13:05.340503Z"
    },
    "papermill": {
     "duration": 11.684048,
     "end_time": "2025-09-06T02:13:05.342536",
     "exception": false,
     "start_time": "2025-09-06T02:12:53.658488",
     "status": "completed"
    },
    "tags": []
   },
   "outputs": [],
   "source": [
    "import time\n",
    "import os\n",
    "import pandas as pd\n",
    "from sklearn.model_selection import train_test_split\n",
    "from torchvision import datasets, transforms\n",
    "from torch.utils.data import DataLoader\n",
    "from sklearn.metrics import classification_report\n",
    "import numpy as np\n",
    "import cv2\n",
    "import torch\n",
    "from torch import nn\n",
    "import torch.nn.functional as F\n",
    "from torch.utils.data import DataLoader, Dataset\n",
    "import torchvision\n",
    "from torchvision import transforms\n",
    "from torchinfo import summary\n",
    "import torchvision.models as models\n",
    "import torch.optim as optim\n",
    "from torch.optim.lr_scheduler import StepLR\n",
    "from tqdm.notebook import tqdm\n",
    "from sklearn.metrics import accuracy_score\n",
    "import PIL\n",
    "import matplotlib.pyplot as plt\n",
    "import seaborn as sns\n",
    "import time\n",
    "from collections import OrderedDict\n",
    "import platform\n",
    "import psutil\n",
    "import random\n",
    "import glob\n",
    "from tqdm import tqdm\n",
    "from PIL import Image\n",
    "from torchvision import transforms\n",
    "from torchvision.transforms import ColorJitter, RandomRotation, RandomResizedCrop\n",
    "from torchvision.transforms.functional import gaussian_blur\n",
    "from PIL import ImageOps\n",
    "from tabulate import tabulate"
   ]
  },
  {
   "cell_type": "markdown",
   "id": "f8cc4efb",
   "metadata": {
    "papermill": {
     "duration": 0.004072,
     "end_time": "2025-09-06T02:13:05.351043",
     "exception": false,
     "start_time": "2025-09-06T02:13:05.346971",
     "status": "completed"
    },
    "tags": []
   },
   "source": [
    "# CONFIGURATION"
   ]
  },
  {
   "cell_type": "code",
   "execution_count": 3,
   "id": "495272cf",
   "metadata": {
    "execution": {
     "iopub.execute_input": "2025-09-06T02:13:05.360110Z",
     "iopub.status.busy": "2025-09-06T02:13:05.359788Z",
     "iopub.status.idle": "2025-09-06T02:13:05.388543Z",
     "shell.execute_reply": "2025-09-06T02:13:05.387978Z"
    },
    "papermill": {
     "duration": 0.0345,
     "end_time": "2025-09-06T02:13:05.389558",
     "exception": false,
     "start_time": "2025-09-06T02:13:05.355058",
     "status": "completed"
    },
    "tags": []
   },
   "outputs": [
    {
     "name": "stdout",
     "output_type": "stream",
     "text": [
      "CPU: x86_64\n",
      "Total RAM (GB): 31.35\n",
      "GPU: Tesla P100-PCIE-16GB\n"
     ]
    }
   ],
   "source": [
    "cpu_info = platform.processor()\n",
    "\n",
    "ram_info = psutil.virtual_memory()\n",
    "total_ram_gb = ram_info.total / (1024 ** 3)\n",
    "\n",
    "try:\n",
    "    gpu_info = !nvidia-smi --query-gpu=gpu_name --format=csv\n",
    "    gpu_name = gpu_info[1]\n",
    "except:\n",
    "    gpu_name = \"No GPU available\"\n",
    "\n",
    "print(\"CPU:\", cpu_info)\n",
    "print(\"Total RAM (GB):\", round(total_ram_gb, 2))\n",
    "print(\"GPU:\", gpu_name)"
   ]
  },
  {
   "cell_type": "markdown",
   "id": "e0067451",
   "metadata": {
    "papermill": {
     "duration": 0.00391,
     "end_time": "2025-09-06T02:13:05.397592",
     "exception": false,
     "start_time": "2025-09-06T02:13:05.393682",
     "status": "completed"
    },
    "tags": []
   },
   "source": [
    "# SEED VALUE"
   ]
  },
  {
   "cell_type": "code",
   "execution_count": 4,
   "id": "91504f2a",
   "metadata": {
    "execution": {
     "iopub.execute_input": "2025-09-06T02:13:05.407197Z",
     "iopub.status.busy": "2025-09-06T02:13:05.406772Z",
     "iopub.status.idle": "2025-09-06T02:13:05.415172Z",
     "shell.execute_reply": "2025-09-06T02:13:05.414661Z"
    },
    "papermill": {
     "duration": 0.014514,
     "end_time": "2025-09-06T02:13:05.416102",
     "exception": false,
     "start_time": "2025-09-06T02:13:05.401588",
     "status": "completed"
    },
    "tags": []
   },
   "outputs": [],
   "source": [
    "seed = 1\n",
    "torch.manual_seed(seed)\n",
    "torch.cuda.manual_seed(seed)\n",
    "np.random.seed(seed)\n",
    "random.seed(seed)"
   ]
  },
  {
   "cell_type": "markdown",
   "id": "88727852",
   "metadata": {
    "papermill": {
     "duration": 0.003894,
     "end_time": "2025-09-06T02:13:05.423994",
     "exception": false,
     "start_time": "2025-09-06T02:13:05.420100",
     "status": "completed"
    },
    "tags": []
   },
   "source": [
    "# DATA LOADING"
   ]
  },
  {
   "cell_type": "code",
   "execution_count": 5,
   "id": "417a6d39",
   "metadata": {
    "execution": {
     "iopub.execute_input": "2025-09-06T02:13:05.433134Z",
     "iopub.status.busy": "2025-09-06T02:13:05.432694Z",
     "iopub.status.idle": "2025-09-06T02:13:06.031494Z",
     "shell.execute_reply": "2025-09-06T02:13:06.030904Z"
    },
    "papermill": {
     "duration": 0.604877,
     "end_time": "2025-09-06T02:13:06.032799",
     "exception": false,
     "start_time": "2025-09-06T02:13:05.427922",
     "status": "completed"
    },
    "tags": []
   },
   "outputs": [],
   "source": [
    "data_dir = \"/kaggle/input/fish-ra\"\n",
    "\n",
    "file_paths = []\n",
    "labels = []\n",
    "\n",
    "for class_name in os.listdir(data_dir):\n",
    "    class_dir = os.path.join(data_dir, class_name)\n",
    "    for image_name in os.listdir(class_dir):\n",
    "        file_paths.append(os.path.join(class_dir, image_name))\n",
    "        labels.append(class_name)\n",
    "\n",
    "df = pd.DataFrame({\"file_path\": file_paths, \"label\": labels})\n",
    "df = df.sample(frac=1).reset_index(drop=True)"
   ]
  },
  {
   "cell_type": "code",
   "execution_count": 6,
   "id": "a21b998c",
   "metadata": {
    "execution": {
     "iopub.execute_input": "2025-09-06T02:13:06.042347Z",
     "iopub.status.busy": "2025-09-06T02:13:06.041874Z",
     "iopub.status.idle": "2025-09-06T02:13:06.358986Z",
     "shell.execute_reply": "2025-09-06T02:13:06.358261Z"
    },
    "papermill": {
     "duration": 0.322988,
     "end_time": "2025-09-06T02:13:06.360151",
     "exception": false,
     "start_time": "2025-09-06T02:13:06.037163",
     "status": "completed"
    },
    "tags": []
   },
   "outputs": [
    {
     "name": "stdout",
     "output_type": "stream",
     "text": [
      "Class: Tarabaim, Count: 2500\n",
      "Class: Shol, Count: 2500\n",
      "Class: Puti, Count: 2500\n",
      "Class: DeshiPuti, Count: 2500\n",
      "Class: Aair, Count: 2500\n",
      "Class: Tengra, Count: 2500\n",
      "Class: Pabda, Count: 2500\n",
      "Class: Foli, Count: 2500\n",
      "Class: Katla, Count: 2500\n",
      "Class: Ilish, Count: 2500\n",
      "Class: Taki, Count: 2500\n",
      "Class: KalBaush, Count: 2500\n",
      "Class: Chapila, Count: 2500\n",
      "Class: Magur, Count: 2500\n",
      "Class: Pangas, Count: 2500\n",
      "Class: Mrigel, Count: 2500\n",
      "Class: Telapiya, Count: 2500\n",
      "Class: Koi, Count: 2500\n",
      "Class: Boal, Count: 2500\n",
      "Class: Rui, Count: 2500\n"
     ]
    },
    {
     "data": {
      "image/png": "[encoded data removed]",
      "text/plain": [
       "<Figure size 1400x400 with 1 Axes>"
      ]
     },
     "metadata": {},
     "output_type": "display_data"
    }
   ],
   "source": [
    "class_counts_train = df['label'].value_counts()\n",
    "\n",
    "for class_name, count in class_counts_train.items():\n",
    "    print(f\"Class: {class_name}, Count: {count}\")\n",
    "\n",
    "plt.figure(figsize=(14, 4))\n",
    "ax = class_counts_train.plot(kind='bar')\n",
    "plt.xlabel('Classes')\n",
    "plt.ylabel('Amount of data')\n",
    "plt.xticks(rotation=360)\n",
    "for i, count in enumerate(class_counts_train):\n",
    "    ax.text(i, count + 5, str(count), ha='center')\n",
    "plt.ylim(0, max(class_counts_train) * 1.2)\n",
    "plt.show()"
   ]
  },
  {
   "cell_type": "code",
   "execution_count": 7,
   "id": "2e07f9de",
   "metadata": {
    "execution": {
     "iopub.execute_input": "2025-09-06T02:13:06.370819Z",
     "iopub.status.busy": "2025-09-06T02:13:06.370374Z",
     "iopub.status.idle": "2025-09-06T02:13:06.521149Z",
     "shell.execute_reply": "2025-09-06T02:13:06.520450Z"
    },
    "papermill": {
     "duration": 0.159934,
     "end_time": "2025-09-06T02:13:06.524871",
     "exception": false,
     "start_time": "2025-09-06T02:13:06.364937",
     "status": "completed"
    },
    "tags": []
   },
   "outputs": [
    {
     "data": {
      "image/png": "[encoded data removed]",
      "text/plain": [
       "<Figure size 640x480 with 1 Axes>"
      ]
     },
     "metadata": {},
     "output_type": "display_data"
    }
   ],
   "source": [
    "random_index = random.randint(1, len(df) - 1)\n",
    "random_row = df.iloc[random_index]\n",
    "\n",
    "file_path = random_row['file_path']\n",
    "label = random_row['label']\n",
    "\n",
    "image = Image.open(file_path)\n",
    "plt.imshow(image)\n",
    "plt.title(f\"Label: {label}\")\n",
    "plt.axis('off')\n",
    "plt.show()"
   ]
  },
  {
   "cell_type": "markdown",
   "id": "dd36523f",
   "metadata": {
    "papermill": {
     "duration": 0.006597,
     "end_time": "2025-09-06T02:13:06.538575",
     "exception": false,
     "start_time": "2025-09-06T02:13:06.531978",
     "status": "completed"
    },
    "tags": []
   },
   "source": [
    "# TRAINING-TESTING-VALIDATION(RATIO 70-15-15)"
   ]
  },
  {
   "cell_type": "code",
   "execution_count": 8,
   "id": "220009d2",
   "metadata": {
    "execution": {
     "iopub.execute_input": "2025-09-06T02:13:06.553173Z",
     "iopub.status.busy": "2025-09-06T02:13:06.552767Z",
     "iopub.status.idle": "2025-09-06T02:13:06.612118Z",
     "shell.execute_reply": "2025-09-06T02:13:06.611538Z"
    },
    "papermill": {
     "duration": 0.067916,
     "end_time": "2025-09-06T02:13:06.613311",
     "exception": false,
     "start_time": "2025-09-06T02:13:06.545395",
     "status": "completed"
    },
    "tags": []
   },
   "outputs": [],
   "source": [
    "train_dataframe, temp_dataframe = train_test_split(df, test_size=0.30, \n",
    "                                     stratify=df['label'], random_state=42)\n",
    "valid_dataframe, test_df = train_test_split(temp_dataframe, test_size=0.50, \n",
    "                                            stratify=temp_dataframe['label'], random_state=42)"
   ]
  },
  {
   "cell_type": "code",
   "execution_count": 9,
   "id": "05de483b",
   "metadata": {
    "execution": {
     "iopub.execute_input": "2025-09-06T02:13:06.628450Z",
     "iopub.status.busy": "2025-09-06T02:13:06.628242Z",
     "iopub.status.idle": "2025-09-06T02:13:06.632363Z",
     "shell.execute_reply": "2025-09-06T02:13:06.631765Z"
    },
    "papermill": {
     "duration": 0.012878,
     "end_time": "2025-09-06T02:13:06.633313",
     "exception": false,
     "start_time": "2025-09-06T02:13:06.620435",
     "status": "completed"
    },
    "tags": []
   },
   "outputs": [
    {
     "name": "stdout",
     "output_type": "stream",
     "text": [
      "Training Data:  35000\n",
      "Validation Data:  7500\n",
      "Test Data:  7500\n",
      "-------------------------------------------\n",
      "Total amounts of data in the dataset:  50000\n"
     ]
    }
   ],
   "source": [
    "print(\"Training Data: \", len(train_dataframe))\n",
    "print(\"Validation Data: \", len(valid_dataframe))\n",
    "print(\"Test Data: \", len(test_df))\n",
    "print(\"-------------------------------------------\")\n",
    "print(\"Total amounts of data in the dataset: \", len(df))"
   ]
  },
  {
   "cell_type": "markdown",
   "id": "9aadfb58",
   "metadata": {
    "papermill": {
     "duration": 0.007046,
     "end_time": "2025-09-06T02:13:06.647277",
     "exception": false,
     "start_time": "2025-09-06T02:13:06.640231",
     "status": "completed"
    },
    "tags": []
   },
   "source": [
    "# DEVICE"
   ]
  },
  {
   "cell_type": "code",
   "execution_count": 10,
   "id": "598d251d",
   "metadata": {
    "execution": {
     "iopub.execute_input": "2025-09-06T02:13:06.662046Z",
     "iopub.status.busy": "2025-09-06T02:13:06.661777Z",
     "iopub.status.idle": "2025-09-06T02:13:06.728373Z",
     "shell.execute_reply": "2025-09-06T02:13:06.727681Z"
    },
    "papermill": {
     "duration": 0.075212,
     "end_time": "2025-09-06T02:13:06.729456",
     "exception": false,
     "start_time": "2025-09-06T02:13:06.654244",
     "status": "completed"
    },
    "tags": []
   },
   "outputs": [
    {
     "name": "stdout",
     "output_type": "stream",
     "text": [
      "cuda\n"
     ]
    }
   ],
   "source": [
    "device = torch.device('cuda' if torch.cuda.is_available() else 'cpu')\n",
    "print(device)"
   ]
  },
  {
   "cell_type": "markdown",
   "id": "d8e481e9",
   "metadata": {
    "papermill": {
     "duration": 0.006834,
     "end_time": "2025-09-06T02:13:06.743376",
     "exception": false,
     "start_time": "2025-09-06T02:13:06.736542",
     "status": "completed"
    },
    "tags": []
   },
   "source": [
    "# CHECKPOINT"
   ]
  },
  {
   "cell_type": "code",
   "execution_count": 11,
   "id": "19e0c542",
   "metadata": {
    "execution": {
     "iopub.execute_input": "2025-09-06T02:13:06.757905Z",
     "iopub.status.busy": "2025-09-06T02:13:06.757692Z",
     "iopub.status.idle": "2025-09-06T02:13:06.761092Z",
     "shell.execute_reply": "2025-09-06T02:13:06.760587Z"
    },
    "papermill": {
     "duration": 0.011904,
     "end_time": "2025-09-06T02:13:06.762115",
     "exception": false,
     "start_time": "2025-09-06T02:13:06.750211",
     "status": "completed"
    },
    "tags": []
   },
   "outputs": [],
   "source": [
    "save_path_checkpoints = \"/kaggle/working/\"\n",
    "os.makedirs(save_path_checkpoints, exist_ok=True)"
   ]
  },
  {
   "cell_type": "markdown",
   "id": "dd2ef16b",
   "metadata": {
    "papermill": {
     "duration": 0.006782,
     "end_time": "2025-09-06T02:13:06.775864",
     "exception": false,
     "start_time": "2025-09-06T02:13:06.769082",
     "status": "completed"
    },
    "tags": []
   },
   "source": [
    "# DATASET CLASS, DATALOADER, TRANSFORM"
   ]
  },
  {
   "cell_type": "code",
   "execution_count": 12,
   "id": "f9600e9e",
   "metadata": {
    "execution": {
     "iopub.execute_input": "2025-09-06T02:13:06.790716Z",
     "iopub.status.busy": "2025-09-06T02:13:06.790266Z",
     "iopub.status.idle": "2025-09-06T02:13:06.795134Z",
     "shell.execute_reply": "2025-09-06T02:13:06.794604Z"
    },
    "papermill": {
     "duration": 0.013509,
     "end_time": "2025-09-06T02:13:06.796158",
     "exception": false,
     "start_time": "2025-09-06T02:13:06.782649",
     "status": "completed"
    },
    "tags": []
   },
   "outputs": [],
   "source": [
    "class ImageDataset(Dataset):\n",
    "    def __init__(self, dataframe, normalize, is_lb=False):\n",
    "        self.dataframe = dataframe\n",
    "        self.normalize = normalize\n",
    "        self.is_lb = is_lb\n",
    "        class_names = sorted(self.dataframe['label'].unique())  # Ensure consistent order\n",
    "        self.label_map = {class_name: idx for idx, class_name in enumerate(class_names)}\n",
    "\n",
    "    def __len__(self):\n",
    "        return len(self.dataframe)\n",
    "\n",
    "    def __getitem__(self, index):\n",
    "        img_path = self.dataframe.iloc[index]['file_path']\n",
    "        image = PIL.Image.open(img_path)\n",
    "\n",
    "        if self.is_lb:\n",
    "            label = self.label_map[self.dataframe.iloc[index]['label']]\n",
    "            return self.normalize(image), label\n",
    "        else:\n",
    "            return self.normalize(image), self.normalize(image)"
   ]
  },
  {
   "cell_type": "code",
   "execution_count": 13,
   "id": "3b59721b",
   "metadata": {
    "execution": {
     "iopub.execute_input": "2025-09-06T02:13:06.810662Z",
     "iopub.status.busy": "2025-09-06T02:13:06.810421Z",
     "iopub.status.idle": "2025-09-06T02:13:06.816976Z",
     "shell.execute_reply": "2025-09-06T02:13:06.816407Z"
    },
    "papermill": {
     "duration": 0.014955,
     "end_time": "2025-09-06T02:13:06.817999",
     "exception": false,
     "start_time": "2025-09-06T02:13:06.803044",
     "status": "completed"
    },
    "tags": []
   },
   "outputs": [
    {
     "name": "stdout",
     "output_type": "stream",
     "text": [
      "{'Aair': 0, 'Boal': 1, 'Chapila': 2, 'DeshiPuti': 3, 'Foli': 4, 'Ilish': 5, 'KalBaush': 6, 'Katla': 7, 'Koi': 8, 'Magur': 9, 'Mrigel': 10, 'Pabda': 11, 'Pangas': 12, 'Puti': 13, 'Rui': 14, 'Shol': 15, 'Taki': 16, 'Tarabaim': 17, 'Telapiya': 18, 'Tengra': 19}\n"
     ]
    }
   ],
   "source": [
    "normalize = transforms.Compose([\n",
    "    transforms.Resize((224, 224)),\n",
    "    transforms.ToTensor()\n",
    "])\n",
    "\n",
    "train_dataset = ImageDataset(train_dataframe, normalize, is_lb=True)\n",
    "print(train_dataset.label_map)"
   ]
  },
  {
   "cell_type": "code",
   "execution_count": 14,
   "id": "52e71ec7",
   "metadata": {
    "execution": {
     "iopub.execute_input": "2025-09-06T02:13:06.832829Z",
     "iopub.status.busy": "2025-09-06T02:13:06.832599Z",
     "iopub.status.idle": "2025-09-06T02:13:06.840286Z",
     "shell.execute_reply": "2025-09-06T02:13:06.839791Z"
    },
    "papermill": {
     "duration": 0.016264,
     "end_time": "2025-09-06T02:13:06.841345",
     "exception": false,
     "start_time": "2025-09-06T02:13:06.825081",
     "status": "completed"
    },
    "tags": []
   },
   "outputs": [],
   "source": [
    "train_batch = 32\n",
    "val_batch = 8\n",
    "\n",
    "def data_transfrom():\n",
    "    normalize = transforms.Compose([\n",
    "            transforms.ToTensor(),\n",
    "            transforms.Normalize(mean=[0.485, 0.456, 0.406],\n",
    "                                 std=[0.229, 0.224, 0.225])\n",
    "            ])\n",
    "\n",
    "    train_dataset = ImageDataset (\n",
    "        train_dataframe,\n",
    "        normalize,\n",
    "        is_lb=True\n",
    "    )\n",
    "\n",
    "    valid_dataset = ImageDataset(\n",
    "        valid_dataframe,\n",
    "        normalize,\n",
    "        is_lb=True\n",
    "    )\n",
    "\n",
    "    test_dataset = ImageDataset(\n",
    "        test_df,\n",
    "        normalize,\n",
    "        is_lb=True\n",
    "    )\n",
    "\n",
    "    dataloader_train_dataset = DataLoader(train_dataset, batch_size = train_batch, shuffle=True, num_workers=2)\n",
    "    dataloader_valid_dataset = DataLoader(valid_dataset, batch_size = val_batch, shuffle=False, num_workers=2)\n",
    "    dataloader_test_dataset = DataLoader(test_dataset, batch_size = val_batch, shuffle=False, num_workers=2)\n",
    "\n",
    "    return dataloader_train_dataset, dataloader_valid_dataset, dataloader_test_dataset\n",
    "\n",
    "dataloader_train_dataset, dataloader_valid_dataset, dataloader_test_dataset = data_transfrom()"
   ]
  },
  {
   "cell_type": "markdown",
   "id": "1f6cf22e",
   "metadata": {
    "papermill": {
     "duration": 0.006787,
     "end_time": "2025-09-06T02:13:06.855045",
     "exception": false,
     "start_time": "2025-09-06T02:13:06.848258",
     "status": "completed"
    },
    "tags": []
   },
   "source": [
    "# VGG19"
   ]
  },
  {
   "cell_type": "code",
   "execution_count": 15,
   "id": "1b7c3284",
   "metadata": {
    "execution": {
     "iopub.execute_input": "2025-09-06T02:13:06.869491Z",
     "iopub.status.busy": "2025-09-06T02:13:06.869098Z",
     "iopub.status.idle": "2025-09-06T02:13:11.900305Z",
     "shell.execute_reply": "2025-09-06T02:13:11.899685Z"
    },
    "papermill": {
     "duration": 5.03982,
     "end_time": "2025-09-06T02:13:11.901661",
     "exception": false,
     "start_time": "2025-09-06T02:13:06.861841",
     "status": "completed"
    },
    "tags": []
   },
   "outputs": [
    {
     "name": "stderr",
     "output_type": "stream",
     "text": [
      "/usr/local/lib/python3.11/dist-packages/torchvision/models/_utils.py:208: UserWarning: The parameter 'pretrained' is deprecated since 0.13 and may be removed in the future, please use 'weights' instead.\n",
      "  warnings.warn(\n",
      "/usr/local/lib/python3.11/dist-packages/torchvision/models/_utils.py:223: UserWarning: Arguments other than a weight enum or `None` for 'weights' are deprecated since 0.13 and may be removed in the future. The current behavior is equivalent to passing `weights=VGG19_Weights.IMAGENET1K_V1`. You can also use `weights=VGG19_Weights.DEFAULT` to get the most up-to-date weights.\n",
      "  warnings.warn(msg)\n",
      "Downloading: \"https://download.pytorch.org/models/vgg19-dcbb9e9d.pth\" to /root/.cache/torch/hub/checkpoints/vgg19-dcbb9e9d.pth\n",
      "100%|██████████| 548M/548M [00:02<00:00, 198MB/s]\n"
     ]
    }
   ],
   "source": [
    "total_class = 20     \n",
    "learning_rate = 0.0001\n",
    "\n",
    "\n",
    "model = models.vgg19(pretrained=True)\n",
    "\n",
    "\n",
    "for param in model.features.parameters():\n",
    "    param.requires_grad = False\n",
    "\n",
    "\n",
    "model.classifier[6] = nn.Linear(model.classifier[6].in_features, total_class)\n",
    "\n",
    "\n",
    "device = torch.device(\"cuda\" if torch.cuda.is_available() else \"cpu\")\n",
    "model = model.to(device)\n",
    "\n",
    "\n",
    "optimizer = optim.Adam(model.classifier.parameters(), lr=learning_rate)\n",
    "criterion = nn.CrossEntropyLoss()\n",
    "\n",
    "\n"
   ]
  },
  {
   "cell_type": "code",
   "execution_count": 16,
   "id": "44d81aaf",
   "metadata": {
    "execution": {
     "iopub.execute_input": "2025-09-06T02:13:11.921572Z",
     "iopub.status.busy": "2025-09-06T02:13:11.920874Z",
     "iopub.status.idle": "2025-09-06T02:13:12.581812Z",
     "shell.execute_reply": "2025-09-06T02:13:12.581035Z"
    },
    "papermill": {
     "duration": 0.671643,
     "end_time": "2025-09-06T02:13:12.583036",
     "exception": false,
     "start_time": "2025-09-06T02:13:11.911393",
     "status": "completed"
    },
    "tags": []
   },
   "outputs": [
    {
     "data": {
      "text/plain": [
       "==========================================================================================\n",
       "Layer (type:depth-idx)                   Output Shape              Param #\n",
       "==========================================================================================\n",
       "VGG                                      [32, 20]                  --\n",
       "├─Sequential: 1-1                        [32, 512, 7, 7]           --\n",
       "│    └─Conv2d: 2-1                       [32, 64, 224, 224]        (1,792)\n",
       "│    └─ReLU: 2-2                         [32, 64, 224, 224]        --\n",
       "│    └─Conv2d: 2-3                       [32, 64, 224, 224]        (36,928)\n",
       "│    └─ReLU: 2-4                         [32, 64, 224, 224]        --\n",
       "│    └─MaxPool2d: 2-5                    [32, 64, 112, 112]        --\n",
       "│    └─Conv2d: 2-6                       [32, 128, 112, 112]       (73,856)\n",
       "│    └─ReLU: 2-7                         [32, 128, 112, 112]       --\n",
       "│    └─Conv2d: 2-8                       [32, 128, 112, 112]       (147,584)\n",
       "│    └─ReLU: 2-9                         [32, 128, 112, 112]       --\n",
       "│    └─MaxPool2d: 2-10                   [32, 128, 56, 56]         --\n",
       "│    └─Conv2d: 2-11                      [32, 256, 56, 56]         (295,168)\n",
       "│    └─ReLU: 2-12                        [32, 256, 56, 56]         --\n",
       "│    └─Conv2d: 2-13                      [32, 256, 56, 56]         (590,080)\n",
       "│    └─ReLU: 2-14                        [32, 256, 56, 56]         --\n",
       "│    └─Conv2d: 2-15                      [32, 256, 56, 56]         (590,080)\n",
       "│    └─ReLU: 2-16                        [32, 256, 56, 56]         --\n",
       "│    └─Conv2d: 2-17                      [32, 256, 56, 56]         (590,080)\n",
       "│    └─ReLU: 2-18                        [32, 256, 56, 56]         --\n",
       "│    └─MaxPool2d: 2-19                   [32, 256, 28, 28]         --\n",
       "│    └─Conv2d: 2-20                      [32, 512, 28, 28]         (1,180,160)\n",
       "│    └─ReLU: 2-21                        [32, 512, 28, 28]         --\n",
       "│    └─Conv2d: 2-22                      [32, 512, 28, 28]         (2,359,808)\n",
       "│    └─ReLU: 2-23                        [32, 512, 28, 28]         --\n",
       "│    └─Conv2d: 2-24                      [32, 512, 28, 28]         (2,359,808)\n",
       "│    └─ReLU: 2-25                        [32, 512, 28, 28]         --\n",
       "│    └─Conv2d: 2-26                      [32, 512, 28, 28]         (2,359,808)\n",
       "│    └─ReLU: 2-27                        [32, 512, 28, 28]         --\n",
       "│    └─MaxPool2d: 2-28                   [32, 512, 14, 14]         --\n",
       "│    └─Conv2d: 2-29                      [32, 512, 14, 14]         (2,359,808)\n",
       "│    └─ReLU: 2-30                        [32, 512, 14, 14]         --\n",
       "│    └─Conv2d: 2-31                      [32, 512, 14, 14]         (2,359,808)\n",
       "│    └─ReLU: 2-32                        [32, 512, 14, 14]         --\n",
       "│    └─Conv2d: 2-33                      [32, 512, 14, 14]         (2,359,808)\n",
       "│    └─ReLU: 2-34                        [32, 512, 14, 14]         --\n",
       "│    └─Conv2d: 2-35                      [32, 512, 14, 14]         (2,359,808)\n",
       "│    └─ReLU: 2-36                        [32, 512, 14, 14]         --\n",
       "│    └─MaxPool2d: 2-37                   [32, 512, 7, 7]           --\n",
       "├─AdaptiveAvgPool2d: 1-2                 [32, 512, 7, 7]           --\n",
       "├─Sequential: 1-3                        [32, 20]                  --\n",
       "│    └─Linear: 2-38                      [32, 4096]                102,764,544\n",
       "│    └─ReLU: 2-39                        [32, 4096]                --\n",
       "│    └─Dropout: 2-40                     [32, 4096]                --\n",
       "│    └─Linear: 2-41                      [32, 4096]                16,781,312\n",
       "│    └─ReLU: 2-42                        [32, 4096]                --\n",
       "│    └─Dropout: 2-43                     [32, 4096]                --\n",
       "│    └─Linear: 2-44                      [32, 20]                  81,940\n",
       "==========================================================================================\n",
       "Total params: 139,652,180\n",
       "Trainable params: 119,627,796\n",
       "Non-trainable params: 20,024,384\n",
       "Total mult-adds (Units.GIGABYTES): 628.57\n",
       "==========================================================================================\n",
       "Input size (MB): 19.27\n",
       "Forward/backward pass size (MB): 3804.24\n",
       "Params size (MB): 558.61\n",
       "Estimated Total Size (MB): 4382.12\n",
       "=========================================================================================="
      ]
     },
     "execution_count": 16,
     "metadata": {},
     "output_type": "execute_result"
    }
   ],
   "source": [
    "summary(model, input_size=(train_batch, 3, 224, 224)) "
   ]
  },
  {
   "cell_type": "markdown",
   "id": "d57085db",
   "metadata": {
    "papermill": {
     "duration": 0.008973,
     "end_time": "2025-09-06T02:13:12.601491",
     "exception": false,
     "start_time": "2025-09-06T02:13:12.592518",
     "status": "completed"
    },
    "tags": []
   },
   "source": [
    "# TRAINING"
   ]
  },
  {
   "cell_type": "code",
   "execution_count": 17,
   "id": "2726846f",
   "metadata": {
    "execution": {
     "iopub.execute_input": "2025-09-06T02:13:12.620154Z",
     "iopub.status.busy": "2025-09-06T02:13:12.619909Z",
     "iopub.status.idle": "2025-09-06T06:55:14.143926Z",
     "shell.execute_reply": "2025-09-06T06:55:14.143032Z"
    },
    "papermill": {
     "duration": 16935.141801,
     "end_time": "2025-09-06T06:55:27.752167",
     "exception": false,
     "start_time": "2025-09-06T02:13:12.610366",
     "status": "completed"
    },
    "tags": []
   },
   "outputs": [
    {
     "name": "stderr",
     "output_type": "stream",
     "text": [
      "Epoch 1/100: 100%|██████████| 1094/1094 [02:16<00:00,  8.00it/s, acc=0.895, loss=0.338]"
     ]
    },
    {
     "name": "stdout",
     "output_type": "stream",
     "text": [
      "Training Loss: 0.338 Acc: 0.895\n"
     ]
    },
    {
     "name": "stderr",
     "output_type": "stream",
     "text": [
      "\n"
     ]
    },
    {
     "name": "stdout",
     "output_type": "stream",
     "text": [
      "Validation Loss: 0.095 Acc: 0.968\n",
      "Best model saved at epoch 1 with validation accuracy: 0.968\n"
     ]
    },
    {
     "name": "stderr",
     "output_type": "stream",
     "text": [
      "Epoch 2/100: 100%|██████████| 1094/1094 [02:16<00:00,  8.01it/s, acc=0.979, loss=0.0636]"
     ]
    },
    {
     "name": "stdout",
     "output_type": "stream",
     "text": [
      "Training Loss: 0.064 Acc: 0.979\n"
     ]
    },
    {
     "name": "stderr",
     "output_type": "stream",
     "text": [
      "\n"
     ]
    },
    {
     "name": "stdout",
     "output_type": "stream",
     "text": [
      "Validation Loss: 0.100 Acc: 0.969\n",
      "Best model saved at epoch 2 with validation accuracy: 0.969\n"
     ]
    },
    {
     "name": "stderr",
     "output_type": "stream",
     "text": [
      "Epoch 3/100: 100%|██████████| 1094/1094 [02:16<00:00,  8.01it/s, acc=0.983, loss=0.05]"
     ]
    },
    {
     "name": "stdout",
     "output_type": "stream",
     "text": [
      "Training Loss: 0.050 Acc: 0.983\n"
     ]
    },
    {
     "name": "stderr",
     "output_type": "stream",
     "text": [
      "\n"
     ]
    },
    {
     "name": "stdout",
     "output_type": "stream",
     "text": [
      "Validation Loss: 0.089 Acc: 0.973\n",
      "Best model saved at epoch 3 with validation accuracy: 0.973\n"
     ]
    },
    {
     "name": "stderr",
     "output_type": "stream",
     "text": [
      "Epoch 4/100: 100%|██████████| 1094/1094 [02:16<00:00,  8.00it/s, acc=0.987, loss=0.0412]"
     ]
    },
    {
     "name": "stdout",
     "output_type": "stream",
     "text": [
      "Training Loss: 0.041 Acc: 0.987\n"
     ]
    },
    {
     "name": "stderr",
     "output_type": "stream",
     "text": [
      "\n"
     ]
    },
    {
     "name": "stdout",
     "output_type": "stream",
     "text": [
      "Validation Loss: 0.116 Acc: 0.974\n",
      "Best model saved at epoch 4 with validation accuracy: 0.974\n"
     ]
    },
    {
     "name": "stderr",
     "output_type": "stream",
     "text": [
      "Epoch 5/100: 100%|██████████| 1094/1094 [02:16<00:00,  8.00it/s, acc=0.988, loss=0.041]"
     ]
    },
    {
     "name": "stdout",
     "output_type": "stream",
     "text": [
      "Training Loss: 0.041 Acc: 0.988\n"
     ]
    },
    {
     "name": "stderr",
     "output_type": "stream",
     "text": [
      "\n"
     ]
    },
    {
     "name": "stdout",
     "output_type": "stream",
     "text": [
      "Validation Loss: 0.084 Acc: 0.978\n",
      "Best model saved at epoch 5 with validation accuracy: 0.978\n"
     ]
    },
    {
     "name": "stderr",
     "output_type": "stream",
     "text": [
      "Epoch 6/100: 100%|██████████| 1094/1094 [02:16<00:00,  8.01it/s, acc=0.991, loss=0.036]"
     ]
    },
    {
     "name": "stdout",
     "output_type": "stream",
     "text": [
      "Training Loss: 0.036 Acc: 0.991\n"
     ]
    },
    {
     "name": "stderr",
     "output_type": "stream",
     "text": [
      "\n"
     ]
    },
    {
     "name": "stdout",
     "output_type": "stream",
     "text": [
      "Validation Loss: 0.075 Acc: 0.981\n",
      "Best model saved at epoch 6 with validation accuracy: 0.981\n"
     ]
    },
    {
     "name": "stderr",
     "output_type": "stream",
     "text": [
      "Epoch 7/100: 100%|██████████| 1094/1094 [02:16<00:00,  8.01it/s, acc=0.989, loss=0.0411]"
     ]
    },
    {
     "name": "stdout",
     "output_type": "stream",
     "text": [
      "Training Loss: 0.041 Acc: 0.989\n"
     ]
    },
    {
     "name": "stderr",
     "output_type": "stream",
     "text": [
      "\n"
     ]
    },
    {
     "name": "stdout",
     "output_type": "stream",
     "text": [
      "Validation Loss: 0.074 Acc: 0.982\n",
      "Best model saved at epoch 7 with validation accuracy: 0.982\n"
     ]
    },
    {
     "name": "stderr",
     "output_type": "stream",
     "text": [
      "Epoch 8/100: 100%|██████████| 1094/1094 [02:16<00:00,  8.01it/s, acc=0.992, loss=0.0293]"
     ]
    },
    {
     "name": "stdout",
     "output_type": "stream",
     "text": [
      "Training Loss: 0.029 Acc: 0.992\n"
     ]
    },
    {
     "name": "stderr",
     "output_type": "stream",
     "text": [
      "\n"
     ]
    },
    {
     "name": "stdout",
     "output_type": "stream",
     "text": [
      "Validation Loss: 0.098 Acc: 0.978\n"
     ]
    },
    {
     "name": "stderr",
     "output_type": "stream",
     "text": [
      "Epoch 9/100: 100%|██████████| 1094/1094 [02:16<00:00,  8.00it/s, acc=0.991, loss=0.0354]"
     ]
    },
    {
     "name": "stdout",
     "output_type": "stream",
     "text": [
      "Training Loss: 0.035 Acc: 0.991\n"
     ]
    },
    {
     "name": "stderr",
     "output_type": "stream",
     "text": [
      "\n"
     ]
    },
    {
     "name": "stdout",
     "output_type": "stream",
     "text": [
      "Validation Loss: 0.109 Acc: 0.978\n"
     ]
    },
    {
     "name": "stderr",
     "output_type": "stream",
     "text": [
      "Epoch 10/100: 100%|██████████| 1094/1094 [02:16<00:00,  8.02it/s, acc=0.991, loss=0.0414]"
     ]
    },
    {
     "name": "stdout",
     "output_type": "stream",
     "text": [
      "Training Loss: 0.041 Acc: 0.991\n"
     ]
    },
    {
     "name": "stderr",
     "output_type": "stream",
     "text": [
      "\n"
     ]
    },
    {
     "name": "stdout",
     "output_type": "stream",
     "text": [
      "Validation Loss: 0.122 Acc: 0.978\n"
     ]
    },
    {
     "name": "stderr",
     "output_type": "stream",
     "text": [
      "Epoch 11/100: 100%|██████████| 1094/1094 [02:16<00:00,  8.01it/s, acc=0.995, loss=0.0211]"
     ]
    },
    {
     "name": "stdout",
     "output_type": "stream",
     "text": [
      "Training Loss: 0.021 Acc: 0.995\n"
     ]
    },
    {
     "name": "stderr",
     "output_type": "stream",
     "text": [
      "\n"
     ]
    },
    {
     "name": "stdout",
     "output_type": "stream",
     "text": [
      "Validation Loss: 0.104 Acc: 0.981\n"
     ]
    },
    {
     "name": "stderr",
     "output_type": "stream",
     "text": [
      "Epoch 12/100: 100%|██████████| 1094/1094 [02:16<00:00,  8.01it/s, acc=0.992, loss=0.0383]"
     ]
    },
    {
     "name": "stdout",
     "output_type": "stream",
     "text": [
      "Training Loss: 0.038 Acc: 0.992\n"
     ]
    },
    {
     "name": "stderr",
     "output_type": "stream",
     "text": [
      "\n"
     ]
    },
    {
     "name": "stdout",
     "output_type": "stream",
     "text": [
      "Validation Loss: 0.092 Acc: 0.983\n",
      "Best model saved at epoch 12 with validation accuracy: 0.983\n"
     ]
    },
    {
     "name": "stderr",
     "output_type": "stream",
     "text": [
      "Epoch 13/100: 100%|██████████| 1094/1094 [02:16<00:00,  8.00it/s, acc=0.993, loss=0.0335]"
     ]
    },
    {
     "name": "stdout",
     "output_type": "stream",
     "text": [
      "Training Loss: 0.033 Acc: 0.993\n"
     ]
    },
    {
     "name": "stderr",
     "output_type": "stream",
     "text": [
      "\n"
     ]
    },
    {
     "name": "stdout",
     "output_type": "stream",
     "text": [
      "Validation Loss: 0.175 Acc: 0.975\n"
     ]
    },
    {
     "name": "stderr",
     "output_type": "stream",
     "text": [
      "Epoch 14/100: 100%|██████████| 1094/1094 [02:16<00:00,  8.01it/s, acc=0.995, loss=0.0268]"
     ]
    },
    {
     "name": "stdout",
     "output_type": "stream",
     "text": [
      "Training Loss: 0.027 Acc: 0.995\n"
     ]
    },
    {
     "name": "stderr",
     "output_type": "stream",
     "text": [
      "\n"
     ]
    },
    {
     "name": "stdout",
     "output_type": "stream",
     "text": [
      "Validation Loss: 0.105 Acc: 0.985\n",
      "Best model saved at epoch 14 with validation accuracy: 0.985\n"
     ]
    },
    {
     "name": "stderr",
     "output_type": "stream",
     "text": [
      "Epoch 15/100: 100%|██████████| 1094/1094 [02:16<00:00,  8.00it/s, acc=0.994, loss=0.0268]"
     ]
    },
    {
     "name": "stdout",
     "output_type": "stream",
     "text": [
      "Training Loss: 0.027 Acc: 0.994\n"
     ]
    },
    {
     "name": "stderr",
     "output_type": "stream",
     "text": [
      "\n"
     ]
    },
    {
     "name": "stdout",
     "output_type": "stream",
     "text": [
      "Validation Loss: 0.115 Acc: 0.983\n"
     ]
    },
    {
     "name": "stderr",
     "output_type": "stream",
     "text": [
      "Epoch 16/100: 100%|██████████| 1094/1094 [02:16<00:00,  8.00it/s, acc=0.994, loss=0.0369]"
     ]
    },
    {
     "name": "stdout",
     "output_type": "stream",
     "text": [
      "Training Loss: 0.037 Acc: 0.994\n"
     ]
    },
    {
     "name": "stderr",
     "output_type": "stream",
     "text": [
      "\n"
     ]
    },
    {
     "name": "stdout",
     "output_type": "stream",
     "text": [
      "Validation Loss: 0.149 Acc: 0.984\n"
     ]
    },
    {
     "name": "stderr",
     "output_type": "stream",
     "text": [
      "Epoch 17/100: 100%|██████████| 1094/1094 [02:16<00:00,  8.00it/s, acc=0.995, loss=0.031]"
     ]
    },
    {
     "name": "stdout",
     "output_type": "stream",
     "text": [
      "Training Loss: 0.031 Acc: 0.995\n"
     ]
    },
    {
     "name": "stderr",
     "output_type": "stream",
     "text": [
      "\n"
     ]
    },
    {
     "name": "stdout",
     "output_type": "stream",
     "text": [
      "Validation Loss: 0.162 Acc: 0.982\n"
     ]
    },
    {
     "name": "stderr",
     "output_type": "stream",
     "text": [
      "Epoch 18/100: 100%|██████████| 1094/1094 [02:16<00:00,  8.00it/s, acc=0.996, loss=0.0222]"
     ]
    },
    {
     "name": "stdout",
     "output_type": "stream",
     "text": [
      "Training Loss: 0.022 Acc: 0.996\n"
     ]
    },
    {
     "name": "stderr",
     "output_type": "stream",
     "text": [
      "\n"
     ]
    },
    {
     "name": "stdout",
     "output_type": "stream",
     "text": [
      "Validation Loss: 0.123 Acc: 0.985\n",
      "Best model saved at epoch 18 with validation accuracy: 0.985\n"
     ]
    },
    {
     "name": "stderr",
     "output_type": "stream",
     "text": [
      "Epoch 19/100: 100%|██████████| 1094/1094 [02:16<00:00,  7.99it/s, acc=0.995, loss=0.0258]"
     ]
    },
    {
     "name": "stdout",
     "output_type": "stream",
     "text": [
      "Training Loss: 0.026 Acc: 0.995\n"
     ]
    },
    {
     "name": "stderr",
     "output_type": "stream",
     "text": [
      "\n"
     ]
    },
    {
     "name": "stdout",
     "output_type": "stream",
     "text": [
      "Validation Loss: 0.157 Acc: 0.983\n"
     ]
    },
    {
     "name": "stderr",
     "output_type": "stream",
     "text": [
      "Epoch 20/100: 100%|██████████| 1094/1094 [02:16<00:00,  7.99it/s, acc=0.994, loss=0.0433]"
     ]
    },
    {
     "name": "stdout",
     "output_type": "stream",
     "text": [
      "Training Loss: 0.043 Acc: 0.994\n"
     ]
    },
    {
     "name": "stderr",
     "output_type": "stream",
     "text": [
      "\n"
     ]
    },
    {
     "name": "stdout",
     "output_type": "stream",
     "text": [
      "Validation Loss: 0.163 Acc: 0.983\n"
     ]
    },
    {
     "name": "stderr",
     "output_type": "stream",
     "text": [
      "Epoch 21/100: 100%|██████████| 1094/1094 [02:16<00:00,  7.99it/s, acc=0.995, loss=0.0316]"
     ]
    },
    {
     "name": "stdout",
     "output_type": "stream",
     "text": [
      "Training Loss: 0.032 Acc: 0.995\n"
     ]
    },
    {
     "name": "stderr",
     "output_type": "stream",
     "text": [
      "\n"
     ]
    },
    {
     "name": "stdout",
     "output_type": "stream",
     "text": [
      "Validation Loss: 0.156 Acc: 0.985\n"
     ]
    },
    {
     "name": "stderr",
     "output_type": "stream",
     "text": [
      "Epoch 22/100: 100%|██████████| 1094/1094 [02:16<00:00,  7.99it/s, acc=0.995, loss=0.0348]"
     ]
    },
    {
     "name": "stdout",
     "output_type": "stream",
     "text": [
      "Training Loss: 0.035 Acc: 0.995\n"
     ]
    },
    {
     "name": "stderr",
     "output_type": "stream",
     "text": [
      "\n"
     ]
    },
    {
     "name": "stdout",
     "output_type": "stream",
     "text": [
      "Validation Loss: 0.133 Acc: 0.987\n",
      "Best model saved at epoch 22 with validation accuracy: 0.987\n"
     ]
    },
    {
     "name": "stderr",
     "output_type": "stream",
     "text": [
      "Epoch 23/100: 100%|██████████| 1094/1094 [02:16<00:00,  8.00it/s, acc=0.996, loss=0.0277]"
     ]
    },
    {
     "name": "stdout",
     "output_type": "stream",
     "text": [
      "Training Loss: 0.028 Acc: 0.996\n"
     ]
    },
    {
     "name": "stderr",
     "output_type": "stream",
     "text": [
      "\n"
     ]
    },
    {
     "name": "stdout",
     "output_type": "stream",
     "text": [
      "Validation Loss: 0.175 Acc: 0.985\n"
     ]
    },
    {
     "name": "stderr",
     "output_type": "stream",
     "text": [
      "Epoch 24/100: 100%|██████████| 1094/1094 [02:16<00:00,  8.00it/s, acc=0.996, loss=0.036]"
     ]
    },
    {
     "name": "stdout",
     "output_type": "stream",
     "text": [
      "Training Loss: 0.036 Acc: 0.996\n"
     ]
    },
    {
     "name": "stderr",
     "output_type": "stream",
     "text": [
      "\n"
     ]
    },
    {
     "name": "stdout",
     "output_type": "stream",
     "text": [
      "Validation Loss: 0.224 Acc: 0.982\n"
     ]
    },
    {
     "name": "stderr",
     "output_type": "stream",
     "text": [
      "Epoch 25/100: 100%|██████████| 1094/1094 [02:16<00:00,  8.01it/s, acc=0.996, loss=0.0295]"
     ]
    },
    {
     "name": "stdout",
     "output_type": "stream",
     "text": [
      "Training Loss: 0.029 Acc: 0.996\n"
     ]
    },
    {
     "name": "stderr",
     "output_type": "stream",
     "text": [
      "\n"
     ]
    },
    {
     "name": "stdout",
     "output_type": "stream",
     "text": [
      "Validation Loss: 0.204 Acc: 0.984\n"
     ]
    },
    {
     "name": "stderr",
     "output_type": "stream",
     "text": [
      "Epoch 26/100: 100%|██████████| 1094/1094 [02:16<00:00,  8.00it/s, acc=0.996, loss=0.0318]"
     ]
    },
    {
     "name": "stdout",
     "output_type": "stream",
     "text": [
      "Training Loss: 0.032 Acc: 0.996\n"
     ]
    },
    {
     "name": "stderr",
     "output_type": "stream",
     "text": [
      "\n"
     ]
    },
    {
     "name": "stdout",
     "output_type": "stream",
     "text": [
      "Validation Loss: 0.271 Acc: 0.979\n"
     ]
    },
    {
     "name": "stderr",
     "output_type": "stream",
     "text": [
      "Epoch 27/100: 100%|██████████| 1094/1094 [02:16<00:00,  8.00it/s, acc=0.996, loss=0.0317]"
     ]
    },
    {
     "name": "stdout",
     "output_type": "stream",
     "text": [
      "Training Loss: 0.032 Acc: 0.996\n"
     ]
    },
    {
     "name": "stderr",
     "output_type": "stream",
     "text": [
      "\n"
     ]
    },
    {
     "name": "stdout",
     "output_type": "stream",
     "text": [
      "Validation Loss: 0.204 Acc: 0.983\n"
     ]
    },
    {
     "name": "stderr",
     "output_type": "stream",
     "text": [
      "Epoch 28/100: 100%|██████████| 1094/1094 [02:16<00:00,  8.00it/s, acc=0.996, loss=0.0267]"
     ]
    },
    {
     "name": "stdout",
     "output_type": "stream",
     "text": [
      "Training Loss: 0.027 Acc: 0.996\n"
     ]
    },
    {
     "name": "stderr",
     "output_type": "stream",
     "text": [
      "\n"
     ]
    },
    {
     "name": "stdout",
     "output_type": "stream",
     "text": [
      "Validation Loss: 0.190 Acc: 0.986\n"
     ]
    },
    {
     "name": "stderr",
     "output_type": "stream",
     "text": [
      "Epoch 29/100: 100%|██████████| 1094/1094 [02:16<00:00,  8.00it/s, acc=0.996, loss=0.0308]"
     ]
    },
    {
     "name": "stdout",
     "output_type": "stream",
     "text": [
      "Training Loss: 0.031 Acc: 0.996\n"
     ]
    },
    {
     "name": "stderr",
     "output_type": "stream",
     "text": [
      "\n"
     ]
    },
    {
     "name": "stdout",
     "output_type": "stream",
     "text": [
      "Validation Loss: 0.154 Acc: 0.988\n",
      "Best model saved at epoch 29 with validation accuracy: 0.988\n"
     ]
    },
    {
     "name": "stderr",
     "output_type": "stream",
     "text": [
      "Epoch 30/100: 100%|██████████| 1094/1094 [02:16<00:00,  8.00it/s, acc=0.997, loss=0.025]"
     ]
    },
    {
     "name": "stdout",
     "output_type": "stream",
     "text": [
      "Training Loss: 0.025 Acc: 0.997\n"
     ]
    },
    {
     "name": "stderr",
     "output_type": "stream",
     "text": [
      "\n"
     ]
    },
    {
     "name": "stdout",
     "output_type": "stream",
     "text": [
      "Validation Loss: 0.233 Acc: 0.986\n"
     ]
    },
    {
     "name": "stderr",
     "output_type": "stream",
     "text": [
      "Epoch 31/100: 100%|██████████| 1094/1094 [02:16<00:00,  8.00it/s, acc=0.996, loss=0.0378]"
     ]
    },
    {
     "name": "stdout",
     "output_type": "stream",
     "text": [
      "Training Loss: 0.038 Acc: 0.996\n"
     ]
    },
    {
     "name": "stderr",
     "output_type": "stream",
     "text": [
      "\n"
     ]
    },
    {
     "name": "stdout",
     "output_type": "stream",
     "text": [
      "Validation Loss: 0.254 Acc: 0.984\n"
     ]
    },
    {
     "name": "stderr",
     "output_type": "stream",
     "text": [
      "Epoch 32/100: 100%|██████████| 1094/1094 [02:16<00:00,  7.99it/s, acc=0.996, loss=0.0352]"
     ]
    },
    {
     "name": "stdout",
     "output_type": "stream",
     "text": [
      "Training Loss: 0.035 Acc: 0.996\n"
     ]
    },
    {
     "name": "stderr",
     "output_type": "stream",
     "text": [
      "\n"
     ]
    },
    {
     "name": "stdout",
     "output_type": "stream",
     "text": [
      "Validation Loss: 0.213 Acc: 0.985\n"
     ]
    },
    {
     "name": "stderr",
     "output_type": "stream",
     "text": [
      "Epoch 33/100: 100%|██████████| 1094/1094 [02:16<00:00,  7.99it/s, acc=0.996, loss=0.0301]"
     ]
    },
    {
     "name": "stdout",
     "output_type": "stream",
     "text": [
      "Training Loss: 0.030 Acc: 0.996\n"
     ]
    },
    {
     "name": "stderr",
     "output_type": "stream",
     "text": [
      "\n"
     ]
    },
    {
     "name": "stdout",
     "output_type": "stream",
     "text": [
      "Validation Loss: 0.234 Acc: 0.986\n"
     ]
    },
    {
     "name": "stderr",
     "output_type": "stream",
     "text": [
      "Epoch 34/100: 100%|██████████| 1094/1094 [02:16<00:00,  8.00it/s, acc=0.997, loss=0.0317]"
     ]
    },
    {
     "name": "stdout",
     "output_type": "stream",
     "text": [
      "Training Loss: 0.032 Acc: 0.997\n"
     ]
    },
    {
     "name": "stderr",
     "output_type": "stream",
     "text": [
      "\n"
     ]
    },
    {
     "name": "stdout",
     "output_type": "stream",
     "text": [
      "Validation Loss: 0.228 Acc: 0.985\n"
     ]
    },
    {
     "name": "stderr",
     "output_type": "stream",
     "text": [
      "Epoch 35/100: 100%|██████████| 1094/1094 [02:16<00:00,  8.00it/s, acc=0.997, loss=0.0302]"
     ]
    },
    {
     "name": "stdout",
     "output_type": "stream",
     "text": [
      "Training Loss: 0.030 Acc: 0.997\n"
     ]
    },
    {
     "name": "stderr",
     "output_type": "stream",
     "text": [
      "\n"
     ]
    },
    {
     "name": "stdout",
     "output_type": "stream",
     "text": [
      "Validation Loss: 0.228 Acc: 0.984\n"
     ]
    },
    {
     "name": "stderr",
     "output_type": "stream",
     "text": [
      "Epoch 36/100: 100%|██████████| 1094/1094 [02:17<00:00,  7.98it/s, acc=0.997, loss=0.0314]"
     ]
    },
    {
     "name": "stdout",
     "output_type": "stream",
     "text": [
      "Training Loss: 0.031 Acc: 0.997\n"
     ]
    },
    {
     "name": "stderr",
     "output_type": "stream",
     "text": [
      "\n"
     ]
    },
    {
     "name": "stdout",
     "output_type": "stream",
     "text": [
      "Validation Loss: 0.202 Acc: 0.986\n"
     ]
    },
    {
     "name": "stderr",
     "output_type": "stream",
     "text": [
      "Epoch 37/100: 100%|██████████| 1094/1094 [02:16<00:00,  8.00it/s, acc=0.997, loss=0.0351]"
     ]
    },
    {
     "name": "stdout",
     "output_type": "stream",
     "text": [
      "Training Loss: 0.035 Acc: 0.997\n"
     ]
    },
    {
     "name": "stderr",
     "output_type": "stream",
     "text": [
      "\n"
     ]
    },
    {
     "name": "stdout",
     "output_type": "stream",
     "text": [
      "Validation Loss: 0.229 Acc: 0.986\n"
     ]
    },
    {
     "name": "stderr",
     "output_type": "stream",
     "text": [
      "Epoch 38/100: 100%|██████████| 1094/1094 [02:16<00:00,  8.00it/s, acc=0.997, loss=0.0254]"
     ]
    },
    {
     "name": "stdout",
     "output_type": "stream",
     "text": [
      "Training Loss: 0.025 Acc: 0.997\n"
     ]
    },
    {
     "name": "stderr",
     "output_type": "stream",
     "text": [
      "\n"
     ]
    },
    {
     "name": "stdout",
     "output_type": "stream",
     "text": [
      "Validation Loss: 0.201 Acc: 0.987\n"
     ]
    },
    {
     "name": "stderr",
     "output_type": "stream",
     "text": [
      "Epoch 39/100: 100%|██████████| 1094/1094 [02:16<00:00,  7.99it/s, acc=0.997, loss=0.0317]"
     ]
    },
    {
     "name": "stdout",
     "output_type": "stream",
     "text": [
      "Training Loss: 0.032 Acc: 0.997\n"
     ]
    },
    {
     "name": "stderr",
     "output_type": "stream",
     "text": [
      "\n"
     ]
    },
    {
     "name": "stdout",
     "output_type": "stream",
     "text": [
      "Validation Loss: 0.214 Acc: 0.987\n"
     ]
    },
    {
     "name": "stderr",
     "output_type": "stream",
     "text": [
      "Epoch 40/100: 100%|██████████| 1094/1094 [02:17<00:00,  7.98it/s, acc=0.998, loss=0.0277]"
     ]
    },
    {
     "name": "stdout",
     "output_type": "stream",
     "text": [
      "Training Loss: 0.028 Acc: 0.998\n"
     ]
    },
    {
     "name": "stderr",
     "output_type": "stream",
     "text": [
      "\n"
     ]
    },
    {
     "name": "stdout",
     "output_type": "stream",
     "text": [
      "Validation Loss: 0.176 Acc: 0.988\n",
      "Best model saved at epoch 40 with validation accuracy: 0.988\n"
     ]
    },
    {
     "name": "stderr",
     "output_type": "stream",
     "text": [
      "Epoch 41/100: 100%|██████████| 1094/1094 [02:16<00:00,  8.00it/s, acc=0.997, loss=0.0321]"
     ]
    },
    {
     "name": "stdout",
     "output_type": "stream",
     "text": [
      "Training Loss: 0.032 Acc: 0.997\n"
     ]
    },
    {
     "name": "stderr",
     "output_type": "stream",
     "text": [
      "\n"
     ]
    },
    {
     "name": "stdout",
     "output_type": "stream",
     "text": [
      "Validation Loss: 0.233 Acc: 0.986\n"
     ]
    },
    {
     "name": "stderr",
     "output_type": "stream",
     "text": [
      "Epoch 42/100: 100%|██████████| 1094/1094 [02:16<00:00,  7.99it/s, acc=0.997, loss=0.0326]"
     ]
    },
    {
     "name": "stdout",
     "output_type": "stream",
     "text": [
      "Training Loss: 0.033 Acc: 0.997\n"
     ]
    },
    {
     "name": "stderr",
     "output_type": "stream",
     "text": [
      "\n"
     ]
    },
    {
     "name": "stdout",
     "output_type": "stream",
     "text": [
      "Validation Loss: 0.275 Acc: 0.986\n"
     ]
    },
    {
     "name": "stderr",
     "output_type": "stream",
     "text": [
      "Epoch 43/100: 100%|██████████| 1094/1094 [02:16<00:00,  7.99it/s, acc=0.997, loss=0.0389]"
     ]
    },
    {
     "name": "stdout",
     "output_type": "stream",
     "text": [
      "Training Loss: 0.039 Acc: 0.997\n"
     ]
    },
    {
     "name": "stderr",
     "output_type": "stream",
     "text": [
      "\n"
     ]
    },
    {
     "name": "stdout",
     "output_type": "stream",
     "text": [
      "Validation Loss: 0.230 Acc: 0.987\n"
     ]
    },
    {
     "name": "stderr",
     "output_type": "stream",
     "text": [
      "Epoch 44/100: 100%|██████████| 1094/1094 [02:16<00:00,  7.99it/s, acc=0.998, loss=0.0185]"
     ]
    },
    {
     "name": "stdout",
     "output_type": "stream",
     "text": [
      "Training Loss: 0.019 Acc: 0.998\n"
     ]
    },
    {
     "name": "stderr",
     "output_type": "stream",
     "text": [
      "\n"
     ]
    },
    {
     "name": "stdout",
     "output_type": "stream",
     "text": [
      "Validation Loss: 0.300 Acc: 0.986\n"
     ]
    },
    {
     "name": "stderr",
     "output_type": "stream",
     "text": [
      "Epoch 45/100: 100%|██████████| 1094/1094 [02:16<00:00,  8.00it/s, acc=0.997, loss=0.034]"
     ]
    },
    {
     "name": "stdout",
     "output_type": "stream",
     "text": [
      "Training Loss: 0.034 Acc: 0.997\n"
     ]
    },
    {
     "name": "stderr",
     "output_type": "stream",
     "text": [
      "\n"
     ]
    },
    {
     "name": "stdout",
     "output_type": "stream",
     "text": [
      "Validation Loss: 0.265 Acc: 0.986\n"
     ]
    },
    {
     "name": "stderr",
     "output_type": "stream",
     "text": [
      "Epoch 46/100: 100%|██████████| 1094/1094 [02:16<00:00,  7.99it/s, acc=0.998, loss=0.0301]"
     ]
    },
    {
     "name": "stdout",
     "output_type": "stream",
     "text": [
      "Training Loss: 0.030 Acc: 0.998\n"
     ]
    },
    {
     "name": "stderr",
     "output_type": "stream",
     "text": [
      "\n"
     ]
    },
    {
     "name": "stdout",
     "output_type": "stream",
     "text": [
      "Validation Loss: 0.270 Acc: 0.987\n"
     ]
    },
    {
     "name": "stderr",
     "output_type": "stream",
     "text": [
      "Epoch 47/100: 100%|██████████| 1094/1094 [02:16<00:00,  7.99it/s, acc=0.997, loss=0.0398]"
     ]
    },
    {
     "name": "stdout",
     "output_type": "stream",
     "text": [
      "Training Loss: 0.040 Acc: 0.997\n"
     ]
    },
    {
     "name": "stderr",
     "output_type": "stream",
     "text": [
      "\n"
     ]
    },
    {
     "name": "stdout",
     "output_type": "stream",
     "text": [
      "Validation Loss: 0.267 Acc: 0.988\n"
     ]
    },
    {
     "name": "stderr",
     "output_type": "stream",
     "text": [
      "Epoch 48/100: 100%|██████████| 1094/1094 [02:16<00:00,  7.99it/s, acc=0.998, loss=0.0384]"
     ]
    },
    {
     "name": "stdout",
     "output_type": "stream",
     "text": [
      "Training Loss: 0.038 Acc: 0.998\n"
     ]
    },
    {
     "name": "stderr",
     "output_type": "stream",
     "text": [
      "\n"
     ]
    },
    {
     "name": "stdout",
     "output_type": "stream",
     "text": [
      "Validation Loss: 0.266 Acc: 0.988\n"
     ]
    },
    {
     "name": "stderr",
     "output_type": "stream",
     "text": [
      "Epoch 49/100: 100%|██████████| 1094/1094 [02:16<00:00,  7.99it/s, acc=0.998, loss=0.0286]"
     ]
    },
    {
     "name": "stdout",
     "output_type": "stream",
     "text": [
      "Training Loss: 0.029 Acc: 0.998\n"
     ]
    },
    {
     "name": "stderr",
     "output_type": "stream",
     "text": [
      "\n"
     ]
    },
    {
     "name": "stdout",
     "output_type": "stream",
     "text": [
      "Validation Loss: 0.306 Acc: 0.986\n"
     ]
    },
    {
     "name": "stderr",
     "output_type": "stream",
     "text": [
      "Epoch 50/100: 100%|██████████| 1094/1094 [02:17<00:00,  7.97it/s, acc=0.998, loss=0.0331]"
     ]
    },
    {
     "name": "stdout",
     "output_type": "stream",
     "text": [
      "Training Loss: 0.033 Acc: 0.998\n"
     ]
    },
    {
     "name": "stderr",
     "output_type": "stream",
     "text": [
      "\n"
     ]
    },
    {
     "name": "stdout",
     "output_type": "stream",
     "text": [
      "Validation Loss: 0.432 Acc: 0.980\n"
     ]
    },
    {
     "name": "stderr",
     "output_type": "stream",
     "text": [
      "Epoch 51/100: 100%|██████████| 1094/1094 [02:16<00:00,  7.99it/s, acc=0.998, loss=0.0272]"
     ]
    },
    {
     "name": "stdout",
     "output_type": "stream",
     "text": [
      "Training Loss: 0.027 Acc: 0.998\n"
     ]
    },
    {
     "name": "stderr",
     "output_type": "stream",
     "text": [
      "\n"
     ]
    },
    {
     "name": "stdout",
     "output_type": "stream",
     "text": [
      "Validation Loss: 0.299 Acc: 0.986\n"
     ]
    },
    {
     "name": "stderr",
     "output_type": "stream",
     "text": [
      "Epoch 52/100: 100%|██████████| 1094/1094 [02:16<00:00,  8.00it/s, acc=0.998, loss=0.0308]"
     ]
    },
    {
     "name": "stdout",
     "output_type": "stream",
     "text": [
      "Training Loss: 0.031 Acc: 0.998\n"
     ]
    },
    {
     "name": "stderr",
     "output_type": "stream",
     "text": [
      "\n"
     ]
    },
    {
     "name": "stdout",
     "output_type": "stream",
     "text": [
      "Validation Loss: 0.294 Acc: 0.988\n"
     ]
    },
    {
     "name": "stderr",
     "output_type": "stream",
     "text": [
      "Epoch 53/100: 100%|██████████| 1094/1094 [02:17<00:00,  7.98it/s, acc=0.998, loss=0.0259]"
     ]
    },
    {
     "name": "stdout",
     "output_type": "stream",
     "text": [
      "Training Loss: 0.026 Acc: 0.998\n"
     ]
    },
    {
     "name": "stderr",
     "output_type": "stream",
     "text": [
      "\n"
     ]
    },
    {
     "name": "stdout",
     "output_type": "stream",
     "text": [
      "Validation Loss: 0.242 Acc: 0.989\n",
      "Best model saved at epoch 53 with validation accuracy: 0.989\n"
     ]
    },
    {
     "name": "stderr",
     "output_type": "stream",
     "text": [
      "Epoch 54/100: 100%|██████████| 1094/1094 [02:16<00:00,  7.99it/s, acc=0.997, loss=0.0353]"
     ]
    },
    {
     "name": "stdout",
     "output_type": "stream",
     "text": [
      "Training Loss: 0.035 Acc: 0.997\n"
     ]
    },
    {
     "name": "stderr",
     "output_type": "stream",
     "text": [
      "\n"
     ]
    },
    {
     "name": "stdout",
     "output_type": "stream",
     "text": [
      "Validation Loss: 0.346 Acc: 0.986\n"
     ]
    },
    {
     "name": "stderr",
     "output_type": "stream",
     "text": [
      "Epoch 55/100: 100%|██████████| 1094/1094 [02:16<00:00,  7.99it/s, acc=0.998, loss=0.0216]"
     ]
    },
    {
     "name": "stdout",
     "output_type": "stream",
     "text": [
      "Training Loss: 0.022 Acc: 0.998\n"
     ]
    },
    {
     "name": "stderr",
     "output_type": "stream",
     "text": [
      "\n"
     ]
    },
    {
     "name": "stdout",
     "output_type": "stream",
     "text": [
      "Validation Loss: 0.321 Acc: 0.986\n"
     ]
    },
    {
     "name": "stderr",
     "output_type": "stream",
     "text": [
      "Epoch 56/100: 100%|██████████| 1094/1094 [02:17<00:00,  7.98it/s, acc=0.998, loss=0.0252]"
     ]
    },
    {
     "name": "stdout",
     "output_type": "stream",
     "text": [
      "Training Loss: 0.025 Acc: 0.998\n"
     ]
    },
    {
     "name": "stderr",
     "output_type": "stream",
     "text": [
      "\n"
     ]
    },
    {
     "name": "stdout",
     "output_type": "stream",
     "text": [
      "Validation Loss: 0.328 Acc: 0.985\n"
     ]
    },
    {
     "name": "stderr",
     "output_type": "stream",
     "text": [
      "Epoch 57/100: 100%|██████████| 1094/1094 [02:17<00:00,  7.98it/s, acc=0.999, loss=0.0179]"
     ]
    },
    {
     "name": "stdout",
     "output_type": "stream",
     "text": [
      "Training Loss: 0.018 Acc: 0.999\n"
     ]
    },
    {
     "name": "stderr",
     "output_type": "stream",
     "text": [
      "\n"
     ]
    },
    {
     "name": "stdout",
     "output_type": "stream",
     "text": [
      "Validation Loss: 0.275 Acc: 0.988\n"
     ]
    },
    {
     "name": "stderr",
     "output_type": "stream",
     "text": [
      "Epoch 58/100: 100%|██████████| 1094/1094 [02:17<00:00,  7.97it/s, acc=0.998, loss=0.0398]"
     ]
    },
    {
     "name": "stdout",
     "output_type": "stream",
     "text": [
      "Training Loss: 0.040 Acc: 0.998\n"
     ]
    },
    {
     "name": "stderr",
     "output_type": "stream",
     "text": [
      "\n"
     ]
    },
    {
     "name": "stdout",
     "output_type": "stream",
     "text": [
      "Validation Loss: 0.389 Acc: 0.984\n"
     ]
    },
    {
     "name": "stderr",
     "output_type": "stream",
     "text": [
      "Epoch 59/100: 100%|██████████| 1094/1094 [02:17<00:00,  7.97it/s, acc=0.997, loss=0.0415]"
     ]
    },
    {
     "name": "stdout",
     "output_type": "stream",
     "text": [
      "Training Loss: 0.042 Acc: 0.997\n"
     ]
    },
    {
     "name": "stderr",
     "output_type": "stream",
     "text": [
      "\n"
     ]
    },
    {
     "name": "stdout",
     "output_type": "stream",
     "text": [
      "Validation Loss: 0.329 Acc: 0.988\n"
     ]
    },
    {
     "name": "stderr",
     "output_type": "stream",
     "text": [
      "Epoch 60/100: 100%|██████████| 1094/1094 [02:17<00:00,  7.97it/s, acc=0.998, loss=0.0341]"
     ]
    },
    {
     "name": "stdout",
     "output_type": "stream",
     "text": [
      "Training Loss: 0.034 Acc: 0.998\n"
     ]
    },
    {
     "name": "stderr",
     "output_type": "stream",
     "text": [
      "\n"
     ]
    },
    {
     "name": "stdout",
     "output_type": "stream",
     "text": [
      "Validation Loss: 0.263 Acc: 0.988\n"
     ]
    },
    {
     "name": "stderr",
     "output_type": "stream",
     "text": [
      "Epoch 61/100: 100%|██████████| 1094/1094 [02:17<00:00,  7.97it/s, acc=0.998, loss=0.0265]"
     ]
    },
    {
     "name": "stdout",
     "output_type": "stream",
     "text": [
      "Training Loss: 0.027 Acc: 0.998\n"
     ]
    },
    {
     "name": "stderr",
     "output_type": "stream",
     "text": [
      "\n"
     ]
    },
    {
     "name": "stdout",
     "output_type": "stream",
     "text": [
      "Validation Loss: 0.363 Acc: 0.986\n"
     ]
    },
    {
     "name": "stderr",
     "output_type": "stream",
     "text": [
      "Epoch 62/100: 100%|██████████| 1094/1094 [02:17<00:00,  7.98it/s, acc=0.998, loss=0.0253]"
     ]
    },
    {
     "name": "stdout",
     "output_type": "stream",
     "text": [
      "Training Loss: 0.025 Acc: 0.998\n"
     ]
    },
    {
     "name": "stderr",
     "output_type": "stream",
     "text": [
      "\n"
     ]
    },
    {
     "name": "stdout",
     "output_type": "stream",
     "text": [
      "Validation Loss: 0.262 Acc: 0.988\n"
     ]
    },
    {
     "name": "stderr",
     "output_type": "stream",
     "text": [
      "Epoch 63/100: 100%|██████████| 1094/1094 [02:17<00:00,  7.98it/s, acc=0.998, loss=0.0238]"
     ]
    },
    {
     "name": "stdout",
     "output_type": "stream",
     "text": [
      "Training Loss: 0.024 Acc: 0.998\n"
     ]
    },
    {
     "name": "stderr",
     "output_type": "stream",
     "text": [
      "\n"
     ]
    },
    {
     "name": "stdout",
     "output_type": "stream",
     "text": [
      "Validation Loss: 0.356 Acc: 0.987\n"
     ]
    },
    {
     "name": "stderr",
     "output_type": "stream",
     "text": [
      "Epoch 64/100: 100%|██████████| 1094/1094 [02:17<00:00,  7.97it/s, acc=0.998, loss=0.0336]"
     ]
    },
    {
     "name": "stdout",
     "output_type": "stream",
     "text": [
      "Training Loss: 0.034 Acc: 0.998\n"
     ]
    },
    {
     "name": "stderr",
     "output_type": "stream",
     "text": [
      "\n"
     ]
    },
    {
     "name": "stdout",
     "output_type": "stream",
     "text": [
      "Validation Loss: 0.305 Acc: 0.985\n"
     ]
    },
    {
     "name": "stderr",
     "output_type": "stream",
     "text": [
      "Epoch 65/100: 100%|██████████| 1094/1094 [02:17<00:00,  7.98it/s, acc=0.997, loss=0.0477]"
     ]
    },
    {
     "name": "stdout",
     "output_type": "stream",
     "text": [
      "Training Loss: 0.048 Acc: 0.997\n"
     ]
    },
    {
     "name": "stderr",
     "output_type": "stream",
     "text": [
      "\n"
     ]
    },
    {
     "name": "stdout",
     "output_type": "stream",
     "text": [
      "Validation Loss: 0.358 Acc: 0.987\n"
     ]
    },
    {
     "name": "stderr",
     "output_type": "stream",
     "text": [
      "Epoch 66/100: 100%|██████████| 1094/1094 [02:17<00:00,  7.97it/s, acc=0.999, loss=0.0209]"
     ]
    },
    {
     "name": "stdout",
     "output_type": "stream",
     "text": [
      "Training Loss: 0.021 Acc: 0.999\n"
     ]
    },
    {
     "name": "stderr",
     "output_type": "stream",
     "text": [
      "\n"
     ]
    },
    {
     "name": "stdout",
     "output_type": "stream",
     "text": [
      "Validation Loss: 0.276 Acc: 0.991\n",
      "Best model saved at epoch 66 with validation accuracy: 0.991\n"
     ]
    },
    {
     "name": "stderr",
     "output_type": "stream",
     "text": [
      "Epoch 67/100: 100%|██████████| 1094/1094 [02:17<00:00,  7.97it/s, acc=0.998, loss=0.0321]"
     ]
    },
    {
     "name": "stdout",
     "output_type": "stream",
     "text": [
      "Training Loss: 0.032 Acc: 0.998\n"
     ]
    },
    {
     "name": "stderr",
     "output_type": "stream",
     "text": [
      "\n"
     ]
    },
    {
     "name": "stdout",
     "output_type": "stream",
     "text": [
      "Validation Loss: 0.301 Acc: 0.987\n"
     ]
    },
    {
     "name": "stderr",
     "output_type": "stream",
     "text": [
      "Epoch 68/100: 100%|██████████| 1094/1094 [02:17<00:00,  7.98it/s, acc=0.999, loss=0.0192]"
     ]
    },
    {
     "name": "stdout",
     "output_type": "stream",
     "text": [
      "Training Loss: 0.019 Acc: 0.999\n"
     ]
    },
    {
     "name": "stderr",
     "output_type": "stream",
     "text": [
      "\n"
     ]
    },
    {
     "name": "stdout",
     "output_type": "stream",
     "text": [
      "Validation Loss: 0.311 Acc: 0.987\n"
     ]
    },
    {
     "name": "stderr",
     "output_type": "stream",
     "text": [
      "Epoch 69/100: 100%|██████████| 1094/1094 [02:17<00:00,  7.97it/s, acc=0.998, loss=0.0252]"
     ]
    },
    {
     "name": "stdout",
     "output_type": "stream",
     "text": [
      "Training Loss: 0.025 Acc: 0.998\n"
     ]
    },
    {
     "name": "stderr",
     "output_type": "stream",
     "text": [
      "\n"
     ]
    },
    {
     "name": "stdout",
     "output_type": "stream",
     "text": [
      "Validation Loss: 0.265 Acc: 0.989\n"
     ]
    },
    {
     "name": "stderr",
     "output_type": "stream",
     "text": [
      "Epoch 70/100: 100%|██████████| 1094/1094 [02:17<00:00,  7.95it/s, acc=0.999, loss=0.0197]"
     ]
    },
    {
     "name": "stdout",
     "output_type": "stream",
     "text": [
      "Training Loss: 0.020 Acc: 0.999\n"
     ]
    },
    {
     "name": "stderr",
     "output_type": "stream",
     "text": [
      "\n"
     ]
    },
    {
     "name": "stdout",
     "output_type": "stream",
     "text": [
      "Validation Loss: 0.324 Acc: 0.988\n"
     ]
    },
    {
     "name": "stderr",
     "output_type": "stream",
     "text": [
      "Epoch 71/100: 100%|██████████| 1094/1094 [02:17<00:00,  7.98it/s, acc=0.998, loss=0.0209]"
     ]
    },
    {
     "name": "stdout",
     "output_type": "stream",
     "text": [
      "Training Loss: 0.021 Acc: 0.998\n"
     ]
    },
    {
     "name": "stderr",
     "output_type": "stream",
     "text": [
      "\n"
     ]
    },
    {
     "name": "stdout",
     "output_type": "stream",
     "text": [
      "Validation Loss: 0.361 Acc: 0.988\n"
     ]
    },
    {
     "name": "stderr",
     "output_type": "stream",
     "text": [
      "Epoch 72/100: 100%|██████████| 1094/1094 [02:16<00:00,  7.99it/s, acc=0.998, loss=0.0189]"
     ]
    },
    {
     "name": "stdout",
     "output_type": "stream",
     "text": [
      "Training Loss: 0.019 Acc: 0.998\n"
     ]
    },
    {
     "name": "stderr",
     "output_type": "stream",
     "text": [
      "\n"
     ]
    },
    {
     "name": "stdout",
     "output_type": "stream",
     "text": [
      "Validation Loss: 0.486 Acc: 0.985\n"
     ]
    },
    {
     "name": "stderr",
     "output_type": "stream",
     "text": [
      "Epoch 73/100: 100%|██████████| 1094/1094 [02:17<00:00,  7.97it/s, acc=0.998, loss=0.0401]"
     ]
    },
    {
     "name": "stdout",
     "output_type": "stream",
     "text": [
      "Training Loss: 0.040 Acc: 0.998\n"
     ]
    },
    {
     "name": "stderr",
     "output_type": "stream",
     "text": [
      "\n"
     ]
    },
    {
     "name": "stdout",
     "output_type": "stream",
     "text": [
      "Validation Loss: 0.353 Acc: 0.988\n"
     ]
    },
    {
     "name": "stderr",
     "output_type": "stream",
     "text": [
      "Epoch 74/100: 100%|██████████| 1094/1094 [02:17<00:00,  7.98it/s, acc=0.999, loss=0.0236]"
     ]
    },
    {
     "name": "stdout",
     "output_type": "stream",
     "text": [
      "Training Loss: 0.024 Acc: 0.999\n"
     ]
    },
    {
     "name": "stderr",
     "output_type": "stream",
     "text": [
      "\n"
     ]
    },
    {
     "name": "stdout",
     "output_type": "stream",
     "text": [
      "Validation Loss: 0.394 Acc: 0.987\n"
     ]
    },
    {
     "name": "stderr",
     "output_type": "stream",
     "text": [
      "Epoch 75/100: 100%|██████████| 1094/1094 [02:17<00:00,  7.97it/s, acc=0.999, loss=0.028]"
     ]
    },
    {
     "name": "stdout",
     "output_type": "stream",
     "text": [
      "Training Loss: 0.028 Acc: 0.999\n"
     ]
    },
    {
     "name": "stderr",
     "output_type": "stream",
     "text": [
      "\n"
     ]
    },
    {
     "name": "stdout",
     "output_type": "stream",
     "text": [
      "Validation Loss: 0.413 Acc: 0.987\n"
     ]
    },
    {
     "name": "stderr",
     "output_type": "stream",
     "text": [
      "Epoch 76/100: 100%|██████████| 1094/1094 [02:17<00:00,  7.98it/s, acc=0.998, loss=0.0343]"
     ]
    },
    {
     "name": "stdout",
     "output_type": "stream",
     "text": [
      "Training Loss: 0.034 Acc: 0.998\n"
     ]
    },
    {
     "name": "stderr",
     "output_type": "stream",
     "text": [
      "\n"
     ]
    },
    {
     "name": "stdout",
     "output_type": "stream",
     "text": [
      "Validation Loss: 0.420 Acc: 0.984\n"
     ]
    },
    {
     "name": "stderr",
     "output_type": "stream",
     "text": [
      "Epoch 77/100: 100%|██████████| 1094/1094 [02:17<00:00,  7.97it/s, acc=0.998, loss=0.0417]"
     ]
    },
    {
     "name": "stdout",
     "output_type": "stream",
     "text": [
      "Training Loss: 0.042 Acc: 0.998\n"
     ]
    },
    {
     "name": "stderr",
     "output_type": "stream",
     "text": [
      "\n"
     ]
    },
    {
     "name": "stdout",
     "output_type": "stream",
     "text": [
      "Validation Loss: 0.455 Acc: 0.985\n"
     ]
    },
    {
     "name": "stderr",
     "output_type": "stream",
     "text": [
      "Epoch 78/100: 100%|██████████| 1094/1094 [02:17<00:00,  7.98it/s, acc=0.998, loss=0.0272]"
     ]
    },
    {
     "name": "stdout",
     "output_type": "stream",
     "text": [
      "Training Loss: 0.027 Acc: 0.998\n"
     ]
    },
    {
     "name": "stderr",
     "output_type": "stream",
     "text": [
      "\n"
     ]
    },
    {
     "name": "stdout",
     "output_type": "stream",
     "text": [
      "Validation Loss: 0.346 Acc: 0.989\n"
     ]
    },
    {
     "name": "stderr",
     "output_type": "stream",
     "text": [
      "Epoch 79/100: 100%|██████████| 1094/1094 [02:17<00:00,  7.98it/s, acc=0.999, loss=0.0223]"
     ]
    },
    {
     "name": "stdout",
     "output_type": "stream",
     "text": [
      "Training Loss: 0.022 Acc: 0.999\n"
     ]
    },
    {
     "name": "stderr",
     "output_type": "stream",
     "text": [
      "\n"
     ]
    },
    {
     "name": "stdout",
     "output_type": "stream",
     "text": [
      "Validation Loss: 0.418 Acc: 0.988\n"
     ]
    },
    {
     "name": "stderr",
     "output_type": "stream",
     "text": [
      "Epoch 80/100: 100%|██████████| 1094/1094 [02:17<00:00,  7.97it/s, acc=0.999, loss=0.0181]"
     ]
    },
    {
     "name": "stdout",
     "output_type": "stream",
     "text": [
      "Training Loss: 0.018 Acc: 0.999\n"
     ]
    },
    {
     "name": "stderr",
     "output_type": "stream",
     "text": [
      "\n"
     ]
    },
    {
     "name": "stdout",
     "output_type": "stream",
     "text": [
      "Validation Loss: 0.386 Acc: 0.989\n"
     ]
    },
    {
     "name": "stderr",
     "output_type": "stream",
     "text": [
      "Epoch 81/100: 100%|██████████| 1094/1094 [02:17<00:00,  7.97it/s, acc=0.998, loss=0.0406]"
     ]
    },
    {
     "name": "stdout",
     "output_type": "stream",
     "text": [
      "Training Loss: 0.041 Acc: 0.998\n"
     ]
    },
    {
     "name": "stderr",
     "output_type": "stream",
     "text": [
      "\n"
     ]
    },
    {
     "name": "stdout",
     "output_type": "stream",
     "text": [
      "Validation Loss: 0.602 Acc: 0.983\n"
     ]
    },
    {
     "name": "stderr",
     "output_type": "stream",
     "text": [
      "Epoch 82/100: 100%|██████████| 1094/1094 [02:17<00:00,  7.97it/s, acc=0.999, loss=0.0225]"
     ]
    },
    {
     "name": "stdout",
     "output_type": "stream",
     "text": [
      "Training Loss: 0.022 Acc: 0.999\n"
     ]
    },
    {
     "name": "stderr",
     "output_type": "stream",
     "text": [
      "\n"
     ]
    },
    {
     "name": "stdout",
     "output_type": "stream",
     "text": [
      "Validation Loss: 0.355 Acc: 0.988\n"
     ]
    },
    {
     "name": "stderr",
     "output_type": "stream",
     "text": [
      "Epoch 83/100: 100%|██████████| 1094/1094 [02:17<00:00,  7.98it/s, acc=0.998, loss=0.036]"
     ]
    },
    {
     "name": "stdout",
     "output_type": "stream",
     "text": [
      "Training Loss: 0.036 Acc: 0.998\n"
     ]
    },
    {
     "name": "stderr",
     "output_type": "stream",
     "text": [
      "\n"
     ]
    },
    {
     "name": "stdout",
     "output_type": "stream",
     "text": [
      "Validation Loss: 0.468 Acc: 0.987\n"
     ]
    },
    {
     "name": "stderr",
     "output_type": "stream",
     "text": [
      "Epoch 84/100: 100%|██████████| 1094/1094 [02:17<00:00,  7.98it/s, acc=0.999, loss=0.0207]"
     ]
    },
    {
     "name": "stdout",
     "output_type": "stream",
     "text": [
      "Training Loss: 0.021 Acc: 0.999\n"
     ]
    },
    {
     "name": "stderr",
     "output_type": "stream",
     "text": [
      "\n"
     ]
    },
    {
     "name": "stdout",
     "output_type": "stream",
     "text": [
      "Validation Loss: 0.311 Acc: 0.991\n"
     ]
    },
    {
     "name": "stderr",
     "output_type": "stream",
     "text": [
      "Epoch 85/100: 100%|██████████| 1094/1094 [02:17<00:00,  7.97it/s, acc=0.999, loss=0.0273]"
     ]
    },
    {
     "name": "stdout",
     "output_type": "stream",
     "text": [
      "Training Loss: 0.027 Acc: 0.999\n"
     ]
    },
    {
     "name": "stderr",
     "output_type": "stream",
     "text": [
      "\n"
     ]
    },
    {
     "name": "stdout",
     "output_type": "stream",
     "text": [
      "Validation Loss: 0.432 Acc: 0.987\n"
     ]
    },
    {
     "name": "stderr",
     "output_type": "stream",
     "text": [
      "Epoch 86/100: 100%|██████████| 1094/1094 [02:17<00:00,  7.99it/s, acc=0.999, loss=0.0276]"
     ]
    },
    {
     "name": "stdout",
     "output_type": "stream",
     "text": [
      "Training Loss: 0.028 Acc: 0.999\n"
     ]
    },
    {
     "name": "stderr",
     "output_type": "stream",
     "text": [
      "\n"
     ]
    },
    {
     "name": "stdout",
     "output_type": "stream",
     "text": [
      "Validation Loss: 0.354 Acc: 0.988\n"
     ]
    },
    {
     "name": "stderr",
     "output_type": "stream",
     "text": [
      "Epoch 87/100: 100%|██████████| 1094/1094 [02:17<00:00,  7.98it/s, acc=0.998, loss=0.0401]"
     ]
    },
    {
     "name": "stdout",
     "output_type": "stream",
     "text": [
      "Training Loss: 0.040 Acc: 0.998\n"
     ]
    },
    {
     "name": "stderr",
     "output_type": "stream",
     "text": [
      "\n"
     ]
    },
    {
     "name": "stdout",
     "output_type": "stream",
     "text": [
      "Validation Loss: 0.365 Acc: 0.988\n"
     ]
    },
    {
     "name": "stderr",
     "output_type": "stream",
     "text": [
      "Epoch 88/100: 100%|██████████| 1094/1094 [02:17<00:00,  7.96it/s, acc=0.999, loss=0.0269]"
     ]
    },
    {
     "name": "stdout",
     "output_type": "stream",
     "text": [
      "Training Loss: 0.027 Acc: 0.999\n"
     ]
    },
    {
     "name": "stderr",
     "output_type": "stream",
     "text": [
      "\n"
     ]
    },
    {
     "name": "stdout",
     "output_type": "stream",
     "text": [
      "Validation Loss: 0.360 Acc: 0.988\n"
     ]
    },
    {
     "name": "stderr",
     "output_type": "stream",
     "text": [
      "Epoch 89/100: 100%|██████████| 1094/1094 [02:17<00:00,  7.96it/s, acc=0.999, loss=0.0273]"
     ]
    },
    {
     "name": "stdout",
     "output_type": "stream",
     "text": [
      "Training Loss: 0.027 Acc: 0.999\n"
     ]
    },
    {
     "name": "stderr",
     "output_type": "stream",
     "text": [
      "\n"
     ]
    },
    {
     "name": "stdout",
     "output_type": "stream",
     "text": [
      "Validation Loss: 0.377 Acc: 0.988\n"
     ]
    },
    {
     "name": "stderr",
     "output_type": "stream",
     "text": [
      "Epoch 90/100: 100%|██████████| 1094/1094 [02:17<00:00,  7.96it/s, acc=0.999, loss=0.0172]"
     ]
    },
    {
     "name": "stdout",
     "output_type": "stream",
     "text": [
      "Training Loss: 0.017 Acc: 0.999\n"
     ]
    },
    {
     "name": "stderr",
     "output_type": "stream",
     "text": [
      "\n"
     ]
    },
    {
     "name": "stdout",
     "output_type": "stream",
     "text": [
      "Validation Loss: 0.410 Acc: 0.987\n"
     ]
    },
    {
     "name": "stderr",
     "output_type": "stream",
     "text": [
      "Epoch 91/100: 100%|██████████| 1094/1094 [02:17<00:00,  7.99it/s, acc=0.998, loss=0.026]"
     ]
    },
    {
     "name": "stdout",
     "output_type": "stream",
     "text": [
      "Training Loss: 0.026 Acc: 0.998\n"
     ]
    },
    {
     "name": "stderr",
     "output_type": "stream",
     "text": [
      "\n"
     ]
    },
    {
     "name": "stdout",
     "output_type": "stream",
     "text": [
      "Validation Loss: 0.412 Acc: 0.989\n"
     ]
    },
    {
     "name": "stderr",
     "output_type": "stream",
     "text": [
      "Epoch 92/100: 100%|██████████| 1094/1094 [02:17<00:00,  7.97it/s, acc=0.999, loss=0.0187]"
     ]
    },
    {
     "name": "stdout",
     "output_type": "stream",
     "text": [
      "Training Loss: 0.019 Acc: 0.999\n"
     ]
    },
    {
     "name": "stderr",
     "output_type": "stream",
     "text": [
      "\n"
     ]
    },
    {
     "name": "stdout",
     "output_type": "stream",
     "text": [
      "Validation Loss: 0.448 Acc: 0.988\n"
     ]
    },
    {
     "name": "stderr",
     "output_type": "stream",
     "text": [
      "Epoch 93/100: 100%|██████████| 1094/1094 [02:17<00:00,  7.97it/s, acc=0.999, loss=0.0294]"
     ]
    },
    {
     "name": "stdout",
     "output_type": "stream",
     "text": [
      "Training Loss: 0.029 Acc: 0.999\n"
     ]
    },
    {
     "name": "stderr",
     "output_type": "stream",
     "text": [
      "\n"
     ]
    },
    {
     "name": "stdout",
     "output_type": "stream",
     "text": [
      "Validation Loss: 0.633 Acc: 0.984\n"
     ]
    },
    {
     "name": "stderr",
     "output_type": "stream",
     "text": [
      "Epoch 94/100: 100%|██████████| 1094/1094 [02:17<00:00,  7.95it/s, acc=0.999, loss=0.0232]"
     ]
    },
    {
     "name": "stdout",
     "output_type": "stream",
     "text": [
      "Training Loss: 0.023 Acc: 0.999\n"
     ]
    },
    {
     "name": "stderr",
     "output_type": "stream",
     "text": [
      "\n"
     ]
    },
    {
     "name": "stdout",
     "output_type": "stream",
     "text": [
      "Validation Loss: 0.433 Acc: 0.989\n"
     ]
    },
    {
     "name": "stderr",
     "output_type": "stream",
     "text": [
      "Epoch 95/100: 100%|██████████| 1094/1094 [02:17<00:00,  7.95it/s, acc=0.999, loss=0.0306]"
     ]
    },
    {
     "name": "stdout",
     "output_type": "stream",
     "text": [
      "Training Loss: 0.031 Acc: 0.999\n"
     ]
    },
    {
     "name": "stderr",
     "output_type": "stream",
     "text": [
      "\n"
     ]
    },
    {
     "name": "stdout",
     "output_type": "stream",
     "text": [
      "Validation Loss: 0.472 Acc: 0.988\n"
     ]
    },
    {
     "name": "stderr",
     "output_type": "stream",
     "text": [
      "Epoch 96/100: 100%|██████████| 1094/1094 [02:17<00:00,  7.96it/s, acc=0.999, loss=0.0242]"
     ]
    },
    {
     "name": "stdout",
     "output_type": "stream",
     "text": [
      "Training Loss: 0.024 Acc: 0.999\n"
     ]
    },
    {
     "name": "stderr",
     "output_type": "stream",
     "text": [
      "\n"
     ]
    },
    {
     "name": "stdout",
     "output_type": "stream",
     "text": [
      "Validation Loss: 0.447 Acc: 0.988\n"
     ]
    },
    {
     "name": "stderr",
     "output_type": "stream",
     "text": [
      "Epoch 97/100: 100%|██████████| 1094/1094 [02:17<00:00,  7.96it/s, acc=0.998, loss=0.0486]"
     ]
    },
    {
     "name": "stdout",
     "output_type": "stream",
     "text": [
      "Training Loss: 0.049 Acc: 0.998\n"
     ]
    },
    {
     "name": "stderr",
     "output_type": "stream",
     "text": [
      "\n"
     ]
    },
    {
     "name": "stdout",
     "output_type": "stream",
     "text": [
      "Validation Loss: 0.408 Acc: 0.988\n"
     ]
    },
    {
     "name": "stderr",
     "output_type": "stream",
     "text": [
      "Epoch 98/100: 100%|██████████| 1094/1094 [02:17<00:00,  7.97it/s, acc=0.999, loss=0.0179]"
     ]
    },
    {
     "name": "stdout",
     "output_type": "stream",
     "text": [
      "Training Loss: 0.018 Acc: 0.999\n"
     ]
    },
    {
     "name": "stderr",
     "output_type": "stream",
     "text": [
      "\n"
     ]
    },
    {
     "name": "stdout",
     "output_type": "stream",
     "text": [
      "Validation Loss: 0.532 Acc: 0.987\n"
     ]
    },
    {
     "name": "stderr",
     "output_type": "stream",
     "text": [
      "Epoch 99/100: 100%|██████████| 1094/1094 [02:17<00:00,  7.97it/s, acc=0.999, loss=0.0237]"
     ]
    },
    {
     "name": "stdout",
     "output_type": "stream",
     "text": [
      "Training Loss: 0.024 Acc: 0.999\n"
     ]
    },
    {
     "name": "stderr",
     "output_type": "stream",
     "text": [
      "\n"
     ]
    },
    {
     "name": "stdout",
     "output_type": "stream",
     "text": [
      "Validation Loss: 0.438 Acc: 0.989\n"
     ]
    },
    {
     "name": "stderr",
     "output_type": "stream",
     "text": [
      "Epoch 100/100: 100%|██████████| 1094/1094 [02:17<00:00,  7.96it/s, acc=0.999, loss=0.0297]"
     ]
    },
    {
     "name": "stdout",
     "output_type": "stream",
     "text": [
      "Training Loss: 0.030 Acc: 0.999\n"
     ]
    },
    {
     "name": "stderr",
     "output_type": "stream",
     "text": [
      "\n"
     ]
    },
    {
     "name": "stdout",
     "output_type": "stream",
     "text": [
      "Validation Loss: 0.538 Acc: 0.986\n",
      "Training Time: 16921.10 seconds ---> 282.02 minutes\n"
     ]
    }
   ],
   "source": [
    "start_time = time.time()\n",
    "\n",
    "def train_model(model, criterion, optimizer, dataloader_train_dataset, dataloader_valid_dataset, num_epochs=100, save_path_checkpoints=\"checkpoints\"):\n",
    "    train_loss_history = []\n",
    "    train_acc_history = []\n",
    "    val_loss_history = []\n",
    "    val_acc_history = []\n",
    "\n",
    "    best_val_acc = 0.0\n",
    "\n",
    "    for epoch in range(num_epochs):\n",
    "        \n",
    "        model.train()\n",
    "        running_loss = 0.0\n",
    "        correct_train = 0\n",
    "        total_train = 0\n",
    "\n",
    "        progress_bar = tqdm(enumerate(dataloader_train_dataset), total=len(dataloader_train_dataset))\n",
    "        for i, (inputs, labels) in progress_bar:\n",
    "            inputs, labels = inputs.to(device), labels.to(device)\n",
    "            optimizer.zero_grad()\n",
    "            outputs = model(inputs)\n",
    "            loss = criterion(outputs, labels)\n",
    "            loss.backward()\n",
    "            optimizer.step()\n",
    "            _, predicted = torch.max(outputs, 1)\n",
    "            running_loss += loss.item() * inputs.size(0)\n",
    "            total_train += labels.size(0)\n",
    "            correct_train += (predicted == labels).sum().item()\n",
    "\n",
    "            progress_bar.set_description(f\"Epoch {epoch+1}/{num_epochs}\")\n",
    "            progress_bar.set_postfix(loss=running_loss / total_train, acc=correct_train / total_train)\n",
    "\n",
    "        epoch_train_loss = running_loss / total_train\n",
    "        epoch_train_acc = correct_train / total_train\n",
    "        train_loss_history.append(epoch_train_loss)\n",
    "        train_acc_history.append(epoch_train_acc)\n",
    "\n",
    "        print('Training Loss: {:.3f} Acc: {:.3f}'.format(epoch_train_loss, epoch_train_acc))\n",
    "\n",
    "        \n",
    "        model.eval()\n",
    "        running_loss = 0.0\n",
    "        correct_val = 0\n",
    "        total_val = 0\n",
    "\n",
    "        with torch.no_grad():\n",
    "            for inputs, labels in dataloader_valid_dataset:\n",
    "                inputs, labels = inputs.to(device), labels.to(device)\n",
    "                outputs = model(inputs)\n",
    "                loss = criterion(outputs, labels)\n",
    "                _, predicted = torch.max(outputs, 1)\n",
    "                running_loss += loss.item() * inputs.size(0)\n",
    "                total_val += labels.size(0)\n",
    "                correct_val += (predicted == labels).sum().item()\n",
    "\n",
    "        epoch_val_loss = running_loss / total_val\n",
    "        epoch_val_acc = correct_val / total_val\n",
    "        val_loss_history.append(epoch_val_loss)\n",
    "        val_acc_history.append(epoch_val_acc)\n",
    "\n",
    "        print('Validation Loss: {:.3f} Acc: {:.3f}'.format(epoch_val_loss, epoch_val_acc))\n",
    "\n",
    "        \n",
    "    \n",
    "        if epoch_val_acc > best_val_acc:\n",
    "            best_val_acc = epoch_val_acc\n",
    "            best_epoch = epoch + 1\n",
    "            filepath = f\"{save_path_checkpoints}/model.pt\"\n",
    "            checkpoint = {\n",
    "                \"epoch\": epoch + 1,\n",
    "                \"model_weight\": model.state_dict(),\n",
    "                \"optimizer_state\": optimizer.state_dict()\n",
    "            }\n",
    "            torch.save(checkpoint, filepath)\n",
    "            print(f\"Best model saved at epoch {best_epoch} with validation accuracy: {best_val_acc:.3f}\")\n",
    "\n",
    "    return train_loss_history, train_acc_history, val_loss_history, val_acc_history\n",
    "\n",
    "\n",
    "train_loss_history, train_acc_history, val_loss_history, val_acc_history = train_model(\n",
    "    model, criterion, optimizer, dataloader_train_dataset, dataloader_valid_dataset, save_path_checkpoints=save_path_checkpoints\n",
    ")\n",
    "\n",
    "end_time = time.time()\n",
    "training_time = end_time - start_time\n",
    "print(f\"Training Time: {training_time:.2f} seconds ---> {training_time/60:.2f} minutes\")\n",
    "\n",
    "data = {\n",
    "    'Epoch': list(range(1, len(train_loss_history) + 1)),\n",
    "    'Train Loss': train_loss_history,\n",
    "    'Train Accuracy': train_acc_history,\n",
    "    'Validation Loss': val_loss_history,\n",
    "    'Validation Accuracy': val_acc_history\n",
    "}\n",
    "\n",
    "history = pd.DataFrame(data)\n",
    "history.to_excel('/kaggle/working/training_data.xlsx', index=False)\n"
   ]
  },
  {
   "cell_type": "code",
   "execution_count": 18,
   "id": "998f39f0",
   "metadata": {
    "execution": {
     "iopub.execute_input": "2025-09-06T06:55:55.914444Z",
     "iopub.status.busy": "2025-09-06T06:55:55.913998Z",
     "iopub.status.idle": "2025-09-06T06:55:56.247196Z",
     "shell.execute_reply": "2025-09-06T06:55:56.246550Z"
    },
    "papermill": {
     "duration": 14.387392,
     "end_time": "2025-09-06T06:55:56.248980",
     "exception": false,
     "start_time": "2025-09-06T06:55:41.861588",
     "status": "completed"
    },
    "tags": []
   },
   "outputs": [
    {
     "data": {
      "image/png": "[encoded data removed]",
      "text/plain": [
       "<Figure size 1200x400 with 2 Axes>"
      ]
     },
     "metadata": {},
     "output_type": "display_data"
    }
   ],
   "source": [
    "history = pd.read_excel('/kaggle/working/training_data.xlsx')\n",
    "\n",
    "plt.figure(figsize=(12, 4))\n",
    "\n",
    "plt.subplot(1, 2, 1)\n",
    "plt.plot(history['Epoch'], history['Train Loss'], label='Train Loss')\n",
    "plt.plot(history['Validation Loss'], label='Validation Loss')\n",
    "plt.xlabel('Epochs')\n",
    "plt.ylabel('Loss')\n",
    "plt.legend(['Training Loss', 'Validation Loss'], loc='upper right')\n",
    "plt.ylim(0,2)\n",
    "\n",
    "plt.subplot(1, 2, 2)\n",
    "plt.plot(history['Epoch'], history['Train Accuracy'], label='Train Accuracy')\n",
    "plt.plot(history['Validation Accuracy'], label='Validation Accuracy')\n",
    "plt.xlabel('Epochs')\n",
    "plt.ylabel('Accuracy')\n",
    "plt.legend(['Training Accuracy', 'Validation Accuracy'], loc='lower right')\n",
    "plt.ylim(0,1.1)\n",
    "\n",
    "plt.show()"
   ]
  },
  {
   "cell_type": "markdown",
   "id": "fd544cb0",
   "metadata": {
    "papermill": {
     "duration": 14.002696,
     "end_time": "2025-09-06T06:56:24.661638",
     "exception": false,
     "start_time": "2025-09-06T06:56:10.658942",
     "status": "completed"
    },
    "tags": []
   },
   "source": [
    "# EVOLUTION"
   ]
  },
  {
   "cell_type": "code",
   "execution_count": 19,
   "id": "0fff6d89",
   "metadata": {
    "execution": {
     "iopub.execute_input": "2025-09-06T06:56:53.011750Z",
     "iopub.status.busy": "2025-09-06T06:56:53.011178Z",
     "iopub.status.idle": "2025-09-06T06:56:53.016543Z",
     "shell.execute_reply": "2025-09-06T06:56:53.015881Z"
    },
    "papermill": {
     "duration": 14.188679,
     "end_time": "2025-09-06T06:56:53.017753",
     "exception": false,
     "start_time": "2025-09-06T06:56:38.829074",
     "status": "completed"
    },
    "tags": []
   },
   "outputs": [],
   "source": [
    "def evaluate_model(model, criterion, dataloader):\n",
    "    model.eval()\n",
    "    running_loss = 0.0\n",
    "    correct = 0\n",
    "    total = 0\n",
    "\n",
    "    with torch.no_grad():\n",
    "        for inputs, labels in dataloader:\n",
    "            inputs, labels = inputs.to(device), labels.to(device)\n",
    "            outputs = model(inputs)\n",
    "            loss = criterion(outputs, labels)\n",
    "            _, predicted = torch.max(outputs, 1)\n",
    "            running_loss += loss.item() * inputs.size(0)\n",
    "            total += labels.size(0)\n",
    "            correct += (predicted == labels).sum().item()\n",
    "\n",
    "    loss = running_loss / total\n",
    "    accuracy = correct / total\n",
    "\n",
    "    return loss, accuracy"
   ]
  },
  {
   "cell_type": "code",
   "execution_count": 20,
   "id": "3afade05",
   "metadata": {
    "execution": {
     "iopub.execute_input": "2025-09-06T06:57:20.953845Z",
     "iopub.status.busy": "2025-09-06T06:57:20.953551Z",
     "iopub.status.idle": "2025-09-06T06:57:54.036789Z",
     "shell.execute_reply": "2025-09-06T06:57:54.035793Z"
    },
    "papermill": {
     "duration": 46.858402,
     "end_time": "2025-09-06T06:57:54.038115",
     "exception": false,
     "start_time": "2025-09-06T06:57:07.179713",
     "status": "completed"
    },
    "tags": []
   },
   "outputs": [
    {
     "name": "stdout",
     "output_type": "stream",
     "text": [
      "Best model (from epoch 66) - Validation Loss: 0.276, Validation Accuracy: 0.99053\n"
     ]
    }
   ],
   "source": [
    "best_checkpoint_path = f\"{save_path_checkpoints}/model.pt\"\n",
    "checkpoint = torch.load(best_checkpoint_path)\n",
    "best_epoch = checkpoint[\"epoch\"]\n",
    "model.load_state_dict(checkpoint[\"model_weight\"])\n",
    "optimizer.load_state_dict(checkpoint[\"optimizer_state\"])\n",
    "\n",
    "best_val_loss, best_val_accuracy = evaluate_model(model, criterion, dataloader_valid_dataset)\n",
    "print(f\"Best model (from epoch {best_epoch}) - Validation Loss: {best_val_loss:.3f}, Validation Accuracy: {best_val_accuracy:.5f}\")"
   ]
  },
  {
   "cell_type": "code",
   "execution_count": 21,
   "id": "f7d26756",
   "metadata": {
    "execution": {
     "iopub.execute_input": "2025-09-06T06:58:22.354787Z",
     "iopub.status.busy": "2025-09-06T06:58:22.353975Z",
     "iopub.status.idle": "2025-09-06T06:58:58.212922Z",
     "shell.execute_reply": "2025-09-06T06:58:58.212002Z"
    },
    "papermill": {
     "duration": 50.080154,
     "end_time": "2025-09-06T06:58:58.214171",
     "exception": false,
     "start_time": "2025-09-06T06:58:08.134017",
     "status": "completed"
    },
    "tags": []
   },
   "outputs": [
    {
     "name": "stdout",
     "output_type": "stream",
     "text": [
      "Test Accuracy: 0.986\n",
      "Test Time: 35.85 seconds ---> 0.60 minutes\n"
     ]
    }
   ],
   "source": [
    "start_time = time.time()\n",
    "\n",
    "test_loss, test_accuracy = evaluate_model(model, criterion, dataloader_test_dataset)\n",
    "print(f\"Test Accuracy: {test_accuracy:.3f}\")\n",
    "\n",
    "end_time = time.time()\n",
    "test_time = end_time - start_time\n",
    "print(f\"Test Time: {test_time:.2f} seconds ---> {test_time/60:.2f} minutes\")"
   ]
  },
  {
   "cell_type": "code",
   "execution_count": 22,
   "id": "460487eb",
   "metadata": {
    "execution": {
     "iopub.execute_input": "2025-09-06T06:59:26.501397Z",
     "iopub.status.busy": "2025-09-06T06:59:26.501089Z",
     "iopub.status.idle": "2025-09-06T07:00:30.134068Z",
     "shell.execute_reply": "2025-09-06T07:00:30.133030Z"
    },
    "papermill": {
     "duration": 77.707548,
     "end_time": "2025-09-06T07:00:30.135554",
     "exception": false,
     "start_time": "2025-09-06T06:59:12.428006",
     "status": "completed"
    },
    "tags": []
   },
   "outputs": [
    {
     "name": "stdout",
     "output_type": "stream",
     "text": [
      "Classification Report:\n",
      "              precision    recall  f1-score   support\n",
      "\n",
      "           0       0.98      0.99      0.99       375\n",
      "           1       0.96      0.98      0.97       375\n",
      "           2       0.99      1.00      0.99       375\n",
      "           3       0.99      1.00      0.99       375\n",
      "           4       0.99      0.99      0.99       375\n",
      "           5       0.99      0.99      0.99       375\n",
      "           6       0.97      0.99      0.98       375\n",
      "           7       0.99      0.98      0.98       375\n",
      "           8       1.00      1.00      1.00       375\n",
      "           9       0.99      1.00      1.00       375\n",
      "          10       0.99      0.98      0.99       375\n",
      "          11       0.99      0.98      0.99       375\n",
      "          12       0.99      0.99      0.99       375\n",
      "          13       1.00      0.99      0.99       375\n",
      "          14       0.99      0.95      0.97       375\n",
      "          15       0.96      0.99      0.98       375\n",
      "          16       0.98      0.95      0.97       375\n",
      "          17       0.98      0.99      0.99       375\n",
      "          18       0.98      0.98      0.98       375\n",
      "          19       0.99      0.98      0.99       375\n",
      "\n",
      "    accuracy                           0.99      7500\n",
      "   macro avg       0.99      0.99      0.99      7500\n",
      "weighted avg       0.99      0.99      0.99      7500\n",
      "\n",
      "Class 0 Accuracy: 0.989\n",
      "Class 1 Accuracy: 0.984\n",
      "Class 2 Accuracy: 0.997\n",
      "Class 3 Accuracy: 0.997\n",
      "Class 4 Accuracy: 0.987\n",
      "Class 5 Accuracy: 0.989\n",
      "Class 6 Accuracy: 0.989\n",
      "Class 7 Accuracy: 0.976\n",
      "Class 8 Accuracy: 1.000\n",
      "Class 9 Accuracy: 0.997\n",
      "Class 10 Accuracy: 0.981\n",
      "Class 11 Accuracy: 0.984\n",
      "Class 12 Accuracy: 0.995\n",
      "Class 13 Accuracy: 0.989\n",
      "Class 14 Accuracy: 0.955\n",
      "Class 15 Accuracy: 0.992\n",
      "Class 16 Accuracy: 0.949\n",
      "Class 17 Accuracy: 0.995\n",
      "Class 18 Accuracy: 0.981\n",
      "Class 19 Accuracy: 0.984\n"
     ]
    }
   ],
   "source": [
    "def class_accuracy(model, dataloader, num_classes):\n",
    "    class_correct = [0.0] * num_classes\n",
    "    class_total = [0.0] * num_classes\n",
    "\n",
    "    model.eval()\n",
    "    with torch.no_grad():\n",
    "        for inputs, labels in dataloader:\n",
    "            inputs, labels = inputs.to(device), labels.to(device)\n",
    "            outputs = model(inputs)\n",
    "            _, predicted = torch.max(outputs, 1)\n",
    "            correct = (predicted == labels)\n",
    "            for i in range(len(labels)):\n",
    "                label = labels[i]\n",
    "                class_correct[label] += correct[i].item()\n",
    "                class_total[label] += 1\n",
    "\n",
    "    class_accuracy = [class_correct[i] / class_total[i] if class_total[i] > 0 else 0 for i in range(num_classes)]\n",
    "\n",
    "    return class_accuracy\n",
    "\n",
    "y_true = []\n",
    "y_pred = []\n",
    "\n",
    "model.eval()\n",
    "with torch.no_grad():\n",
    "    for inputs, labels in dataloader_test_dataset:\n",
    "        inputs, labels = inputs.to(device), labels.to(device)\n",
    "        outputs = model(inputs)\n",
    "        _, predicted = torch.max(outputs, 1)\n",
    "        y_true.extend(labels.cpu().numpy())\n",
    "        y_pred.extend(predicted.cpu().numpy())\n",
    "\n",
    "y_true = np.array(y_true)\n",
    "y_pred = np.array(y_pred)\n",
    "\n",
    "class_names = [str(i) for i in range(total_class)]\n",
    "\n",
    "print(\"Classification Report:\")\n",
    "print(classification_report(y_true, y_pred, target_names=class_names))\n",
    "\n",
    "class_acc = class_accuracy(model, dataloader_test_dataset, total_class)\n",
    "for i in range(total_class):\n",
    "    print(f\"Class {i} Accuracy: {class_acc[i]:.3f}\")"
   ]
  }
 ],
 "metadata": {
  "kaggle": {
   "accelerator": "gpu",
   "dataSources": [
    {
     "datasetId": 8209227,
     "sourceId": 12970497,
     "sourceType": "datasetVersion"
    }
   ],
   "dockerImageVersionId": 31090,
   "isGpuEnabled": true,
   "isInternetEnabled": true,
   "language": "python",
   "sourceType": "notebook"
  },
  "kernelspec": {
   "display_name": "Python 3",
   "language": "python",
   "name": "python3"
  },
  "language_info": {
   "codemirror_mode": {
    "name": "ipython",
    "version": 3
   },
   "file_extension": ".py",
   "mimetype": "text/x-python",
   "name": "python",
   "nbconvert_exporter": "python",
   "pygments_lexer": "ipython3",
   "version": "3.11.13"
  },
  "papermill": {
   "default_parameters": {},
   "duration": 17281.131234,
   "end_time": "2025-09-06T07:00:46.848765",
   "environment_variables": {},
   "exception": null,
   "input_path": "__notebook__.ipynb",
   "output_path": "__notebook__.ipynb",
   "parameters": {},
   "start_time": "2025-09-06T02:12:45.717531",
   "version": "2.6.0"
  }
 },
 "nbformat": 4,
 "nbformat_minor": 5
}
